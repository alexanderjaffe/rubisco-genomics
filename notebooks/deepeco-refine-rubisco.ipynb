{
 "cells": [
  {
   "cell_type": "code",
   "execution_count": 3,
   "metadata": {
    "jupyter": {
     "outputs_hidden": true
    }
   },
   "outputs": [],
   "source": [
    "from collections import defaultdict\n",
    "from Bio.SeqIO.FastaIO import SimpleFastaParser as sfp\n",
    "from Bio import SeqIO, SearchIO\n",
    "import subprocess as sp\n",
    "import seaborn as sns\n",
    "import numpy as np\n",
    "import pandas as pd\n",
    "import os, glob, math, re, gzip\n",
    "import matplotlib.pyplot as plt\n",
    "import mpltern\n",
    "import skbio.io"
   ]
  },
  {
   "cell_type": "code",
   "execution_count": 4,
   "metadata": {
    "jupyter": {
     "outputs_hidden": true
    }
   },
   "outputs": [],
   "source": [
    "def cmdir(path):\n",
    "    if not os.path.isdir(path):\n",
    "        os.mkdir(path)\n",
    "\n",
    "def scaffold(gene):\n",
    "    if gene != \"None\":\n",
    "        try: return \"_\".join(gene.split(\"_\")[:-1])\n",
    "        except: print(gene)\n",
    "\n",
    "def sbatch(name, cpus, cmd):\n",
    "    return \"sbatch -J %s -p serc -t 1- -c %d --mem %dG --wrap '%s'\" %(name, cpus, cpus*8, cmd)"
   ]
  },
  {
   "cell_type": "code",
   "execution_count": 5,
   "metadata": {
    "jupyter": {
     "outputs_hidden": true
    }
   },
   "outputs": [],
   "source": [
    "def wrapperize(calls, parts, out):\n",
    "    n = math.ceil(len(calls)/parts)\n",
    "    for i in range(0, len(calls),n):\n",
    "        with open(out + \\\n",
    "            str(int(i/n)+1) + \".sh\", \"w\") as wrapper:\n",
    "            for call in calls[i:i + n]:\n",
    "                wrapper.write(call + \"\\n\")"
   ]
  },
  {
   "cell_type": "code",
   "execution_count": 6,
   "metadata": {
    "jupyter": {
     "outputs_hidden": true
    }
   },
   "outputs": [],
   "source": [
    "rootdir = \"/scratch/users/ajaffe/deepeco/\"\n",
    "cmdir(rootdir)"
   ]
  },
  {
   "cell_type": "markdown",
   "metadata": {},
   "source": [
    "## genomes"
   ]
  },
  {
   "cell_type": "markdown",
   "metadata": {},
   "source": [
    "### read in metadata"
   ]
  },
  {
   "cell_type": "code",
   "execution_count": 19,
   "metadata": {},
   "outputs": [
    {
     "data": {
      "text/html": [
       "<div>\n",
       "<style scoped>\n",
       "    .dataframe tbody tr th:only-of-type {\n",
       "        vertical-align: middle;\n",
       "    }\n",
       "\n",
       "    .dataframe tbody tr th {\n",
       "        vertical-align: top;\n",
       "    }\n",
       "\n",
       "    .dataframe thead th {\n",
       "        text-align: right;\n",
       "    }\n",
       "</style>\n",
       "<table border=\"1\" class=\"dataframe\">\n",
       "  <thead>\n",
       "    <tr style=\"text-align: right;\">\n",
       "      <th></th>\n",
       "      <th>genome</th>\n",
       "      <th>classification</th>\n",
       "      <th>checkm_completeness</th>\n",
       "      <th>checkm_redundancy</th>\n",
       "      <th>primary_cluster</th>\n",
       "      <th>secondary_cluster</th>\n",
       "      <th>representative</th>\n",
       "    </tr>\n",
       "  </thead>\n",
       "  <tbody>\n",
       "    <tr>\n",
       "      <th>0</th>\n",
       "      <td>OceanDNA-b21631</td>\n",
       "      <td>d__Bacteria;p__Patescibacteria;c__Gracilibacte...</td>\n",
       "      <td>82.99</td>\n",
       "      <td>2.48</td>\n",
       "      <td>1</td>\n",
       "      <td>1_0</td>\n",
       "      <td>True</td>\n",
       "    </tr>\n",
       "    <tr>\n",
       "      <th>1</th>\n",
       "      <td>TARA_SAMEA2619970_METAG_OGBJMBMB</td>\n",
       "      <td>d__Bacteria;p__Patescibacteria;c__Gracilibacte...</td>\n",
       "      <td>50.57</td>\n",
       "      <td>0.99</td>\n",
       "      <td>2</td>\n",
       "      <td>2_0</td>\n",
       "      <td>True</td>\n",
       "    </tr>\n",
       "    <tr>\n",
       "      <th>2</th>\n",
       "      <td>OceanDNA-b21628</td>\n",
       "      <td>d__Bacteria;p__Patescibacteria;c__Gracilibacte...</td>\n",
       "      <td>79.21</td>\n",
       "      <td>2.09</td>\n",
       "      <td>3</td>\n",
       "      <td>3_0</td>\n",
       "      <td>True</td>\n",
       "    </tr>\n",
       "    <tr>\n",
       "      <th>3</th>\n",
       "      <td>TARA_SAMEA4397330_METAG_GFBBFFPE</td>\n",
       "      <td>d__Bacteria;p__Proteobacteria;c__Alphaproteoba...</td>\n",
       "      <td>88.16</td>\n",
       "      <td>1.10</td>\n",
       "      <td>4</td>\n",
       "      <td>4_1</td>\n",
       "      <td>True</td>\n",
       "    </tr>\n",
       "    <tr>\n",
       "      <th>4</th>\n",
       "      <td>OceanDNA-b26756</td>\n",
       "      <td>d__Bacteria;p__Proteobacteria;c__Alphaproteoba...</td>\n",
       "      <td>73.75</td>\n",
       "      <td>1.47</td>\n",
       "      <td>4</td>\n",
       "      <td>4_1</td>\n",
       "      <td>False</td>\n",
       "    </tr>\n",
       "  </tbody>\n",
       "</table>\n",
       "</div>"
      ],
      "text/plain": [
       "                             genome  \\\n",
       "0                   OceanDNA-b21631   \n",
       "1  TARA_SAMEA2619970_METAG_OGBJMBMB   \n",
       "2                   OceanDNA-b21628   \n",
       "3  TARA_SAMEA4397330_METAG_GFBBFFPE   \n",
       "4                   OceanDNA-b26756   \n",
       "\n",
       "                                      classification  checkm_completeness  \\\n",
       "0  d__Bacteria;p__Patescibacteria;c__Gracilibacte...                82.99   \n",
       "1  d__Bacteria;p__Patescibacteria;c__Gracilibacte...                50.57   \n",
       "2  d__Bacteria;p__Patescibacteria;c__Gracilibacte...                79.21   \n",
       "3  d__Bacteria;p__Proteobacteria;c__Alphaproteoba...                88.16   \n",
       "4  d__Bacteria;p__Proteobacteria;c__Alphaproteoba...                73.75   \n",
       "\n",
       "   checkm_redundancy  primary_cluster secondary_cluster  representative  \n",
       "0               2.48                1               1_0            True  \n",
       "1               0.99                2               2_0            True  \n",
       "2               2.09                3               3_0            True  \n",
       "3               1.10                4               4_1            True  \n",
       "4               1.47                4               4_1           False  "
      ]
     },
     "execution_count": 19,
     "metadata": {},
     "output_type": "execute_result"
    }
   ],
   "source": [
    "genome_md = pd.read_csv(rootdir + \"tables/redundant_genome_info.tsv\", sep=\"\\t\").query(\"primary_cluster!='not clustered'\")\n",
    "genome_md.head()"
   ]
  },
  {
   "cell_type": "code",
   "execution_count": 20,
   "metadata": {},
   "outputs": [
    {
     "data": {
      "text/html": [
       "<div>\n",
       "<style scoped>\n",
       "    .dataframe tbody tr th:only-of-type {\n",
       "        vertical-align: middle;\n",
       "    }\n",
       "\n",
       "    .dataframe tbody tr th {\n",
       "        vertical-align: top;\n",
       "    }\n",
       "\n",
       "    .dataframe thead th {\n",
       "        text-align: right;\n",
       "    }\n",
       "</style>\n",
       "<table border=\"1\" class=\"dataframe\">\n",
       "  <thead>\n",
       "    <tr style=\"text-align: right;\">\n",
       "      <th></th>\n",
       "      <th>scaffold</th>\n",
       "      <th>bin</th>\n",
       "    </tr>\n",
       "  </thead>\n",
       "  <tbody>\n",
       "    <tr>\n",
       "      <th>0</th>\n",
       "      <td>MARD_MMP08886169_SAGS-scaffold_1</td>\n",
       "      <td>MARD_SAMN08886169_SAGS_MMP08886169</td>\n",
       "    </tr>\n",
       "    <tr>\n",
       "      <th>1</th>\n",
       "      <td>MARD_MMP08886169_SAGS-scaffold_2</td>\n",
       "      <td>MARD_SAMN08886169_SAGS_MMP08886169</td>\n",
       "    </tr>\n",
       "    <tr>\n",
       "      <th>2</th>\n",
       "      <td>MARD_MMP08886169_SAGS-scaffold_3</td>\n",
       "      <td>MARD_SAMN08886169_SAGS_MMP08886169</td>\n",
       "    </tr>\n",
       "    <tr>\n",
       "      <th>3</th>\n",
       "      <td>MARD_MMP08886169_SAGS-scaffold_4</td>\n",
       "      <td>MARD_SAMN08886169_SAGS_MMP08886169</td>\n",
       "    </tr>\n",
       "    <tr>\n",
       "      <th>4</th>\n",
       "      <td>MARD_MMP08886169_SAGS-scaffold_5</td>\n",
       "      <td>MARD_SAMN08886169_SAGS_MMP08886169</td>\n",
       "    </tr>\n",
       "  </tbody>\n",
       "</table>\n",
       "</div>"
      ],
      "text/plain": [
       "                           scaffold                                 bin\n",
       "0  MARD_MMP08886169_SAGS-scaffold_1  MARD_SAMN08886169_SAGS_MMP08886169\n",
       "1  MARD_MMP08886169_SAGS-scaffold_2  MARD_SAMN08886169_SAGS_MMP08886169\n",
       "2  MARD_MMP08886169_SAGS-scaffold_3  MARD_SAMN08886169_SAGS_MMP08886169\n",
       "3  MARD_MMP08886169_SAGS-scaffold_4  MARD_SAMN08886169_SAGS_MMP08886169\n",
       "4  MARD_MMP08886169_SAGS-scaffold_5  MARD_SAMN08886169_SAGS_MMP08886169"
      ]
     },
     "execution_count": 20,
     "metadata": {},
     "output_type": "execute_result"
    }
   ],
   "source": [
    "scafdict = {}\n",
    "\n",
    "for genome in glob.glob(rootdir + \"genomes/second_pass/*\"):\n",
    "    name = os.path.basename(genome).replace(\".fa\", \"\")\n",
    "    for record in sfp(open(genome)):\n",
    "        scafdict[record[0].split(\" \")[0]] = name\n",
    "        \n",
    "scafdf = pd.DataFrame.from_dict(scafdict, orient=\"index\").reset_index()\n",
    "scafdf.columns = [\"scaffold\", \"bin\"]\n",
    "scafdf.to_csv(rootdir + \"tables/redundant_genome_scaf2bin.tsv\", sep=\"\\t\", index=False)\n",
    "\n",
    "scaf2bin = pd.read_csv(rootdir + \"tables/redundant_genome_scaf2bin.tsv\", sep=\"\\t\")\n",
    "scaf2bin.head()"
   ]
  },
  {
   "cell_type": "markdown",
   "metadata": {},
   "source": [
    "### predict proteins"
   ]
  },
  {
   "cell_type": "code",
   "execution_count": 10,
   "metadata": {
    "collapsed": true,
    "jupyter": {
     "outputs_hidden": true
    }
   },
   "outputs": [],
   "source": [
    "cmdir(rootdir + \"genomes/prodigal\")"
   ]
  },
  {
   "cell_type": "code",
   "execution_count": 11,
   "metadata": {
    "collapsed": true,
    "jupyter": {
     "outputs_hidden": true
    }
   },
   "outputs": [],
   "source": [
    "prodigals = []\n",
    "\n",
    "for key, row in genome_md.iterrows():\n",
    "    \n",
    "    gpath = rootdir + \"genomes/second_pass/%s.fa\" %(row[\"genome\"])\n",
    "    outbase = rootdir + \"genomes/prodigal/%s.genes\" %(row[\"genome\"])\n",
    "    call = \"prodigal -d %s -a %s -i %s -p single\" %(outbase + \".fna\", outbase + \".faa\", gpath)\n",
    "    prodigals.append(call)\n",
    "\n",
    "wrapperize(prodigals, 20, rootdir + \"genomes/prodigal/prodigal\")"
   ]
  },
  {
   "cell_type": "code",
   "execution_count": 14,
   "metadata": {
    "collapsed": true,
    "jupyter": {
     "outputs_hidden": true
    }
   },
   "outputs": [],
   "source": [
    "with open(rootdir + \"genomes/prodigal/submit_all_prodigals.sh\", \"w\") as out:\n",
    "    \n",
    "    for prod_file in glob.glob(rootdir + \"genomes/prodigal/prodigal*sh\"):\n",
    "        \n",
    "        # get basename for the job\n",
    "        name = os.path.basename(prod_file).split(\".\")[0]\n",
    "        # make the file executable\n",
    "        sp.call(\"chmod +x %s\" %(prod_file), shell=True)\n",
    "        # finally, construct the sbatch command\n",
    "        cmd = sbatch(name, 1, prod_file)\n",
    "        # and write that out to the metascript\n",
    "        out.write(cmd + \"\\n\")"
   ]
  },
  {
   "cell_type": "code",
   "execution_count": 15,
   "metadata": {},
   "outputs": [
    {
     "name": "stdout",
     "output_type": "stream",
     "text": [
      "rclone copy /scratch/users/ajaffe/deepeco/genomes/prodigal drive:deepeco/prodigal --progress\n"
     ]
    }
   ],
   "source": [
    "command = \"rclone copy %s drive:deepeco/prodigal --progress\" %(rootdir + \"genomes/prodigal\")\n",
    "print(command)"
   ]
  },
  {
   "cell_type": "markdown",
   "metadata": {},
   "source": [
    "### examine clustering"
   ]
  },
  {
   "cell_type": "code",
   "execution_count": 16,
   "metadata": {
    "collapsed": true,
    "jupyter": {
     "outputs_hidden": true
    }
   },
   "outputs": [],
   "source": [
    "cmdir(rootdir + \"figures\")"
   ]
  },
  {
   "cell_type": "code",
   "execution_count": 17,
   "metadata": {},
   "outputs": [
    {
     "data": {
      "text/html": [
       "<div>\n",
       "<style scoped>\n",
       "    .dataframe tbody tr th:only-of-type {\n",
       "        vertical-align: middle;\n",
       "    }\n",
       "\n",
       "    .dataframe tbody tr th {\n",
       "        vertical-align: top;\n",
       "    }\n",
       "\n",
       "    .dataframe thead th {\n",
       "        text-align: right;\n",
       "    }\n",
       "</style>\n",
       "<table border=\"1\" class=\"dataframe\">\n",
       "  <thead>\n",
       "    <tr style=\"text-align: right;\">\n",
       "      <th></th>\n",
       "      <th>cluster</th>\n",
       "      <th>size</th>\n",
       "      <th>odna</th>\n",
       "      <th>oc17</th>\n",
       "      <th>omd</th>\n",
       "    </tr>\n",
       "  </thead>\n",
       "  <tbody>\n",
       "    <tr>\n",
       "      <th>0</th>\n",
       "      <td>1_0</td>\n",
       "      <td>1</td>\n",
       "      <td>100.0</td>\n",
       "      <td>0.0</td>\n",
       "      <td>0.0</td>\n",
       "    </tr>\n",
       "    <tr>\n",
       "      <th>1</th>\n",
       "      <td>2_0</td>\n",
       "      <td>1</td>\n",
       "      <td>0.0</td>\n",
       "      <td>0.0</td>\n",
       "      <td>100.0</td>\n",
       "    </tr>\n",
       "    <tr>\n",
       "      <th>2</th>\n",
       "      <td>3_0</td>\n",
       "      <td>1</td>\n",
       "      <td>100.0</td>\n",
       "      <td>0.0</td>\n",
       "      <td>0.0</td>\n",
       "    </tr>\n",
       "    <tr>\n",
       "      <th>3</th>\n",
       "      <td>4_1</td>\n",
       "      <td>2</td>\n",
       "      <td>50.0</td>\n",
       "      <td>0.0</td>\n",
       "      <td>50.0</td>\n",
       "    </tr>\n",
       "    <tr>\n",
       "      <th>4</th>\n",
       "      <td>5_1</td>\n",
       "      <td>8</td>\n",
       "      <td>37.5</td>\n",
       "      <td>0.0</td>\n",
       "      <td>62.5</td>\n",
       "    </tr>\n",
       "  </tbody>\n",
       "</table>\n",
       "</div>"
      ],
      "text/plain": [
       "  cluster  size   odna  oc17    omd\n",
       "0     1_0     1  100.0   0.0    0.0\n",
       "1     2_0     1    0.0   0.0  100.0\n",
       "2     3_0     1  100.0   0.0    0.0\n",
       "3     4_1     2   50.0   0.0   50.0\n",
       "4     5_1     8   37.5   0.0   62.5"
      ]
     },
     "execution_count": 17,
     "metadata": {},
     "output_type": "execute_result"
    }
   ],
   "source": [
    "cluster_info = defaultdict(list)\n",
    "\n",
    "for secondary_cluster in genome_md[\"secondary_cluster\"].unique():\n",
    "    \n",
    "    genomes = genome_md[genome_md[\"secondary_cluster\"]==secondary_cluster][\"genome\"].to_list()\n",
    "    \n",
    "    sources = []\n",
    "    for genome in genomes:\n",
    "        if \"OceanDNA\" in genome:\n",
    "            sources.append(\"odna\")\n",
    "        elif genome.startswith(\"OC\"):\n",
    "            sources.append(\"oc17\")\n",
    "        else: sources.append(\"omd\")\n",
    "            \n",
    "    cluster_info[\"cluster\"].append(secondary_cluster)\n",
    "    cluster_info[\"size\"].append(len(genomes))\n",
    "    for source in [\"odna\", \"oc17\", \"omd\"]:\n",
    "        n = sources.count(source)\n",
    "        cluster_info[source].append(float(n/len(sources))*100)\n",
    "    \n",
    "cluster_df = pd.DataFrame(cluster_info)\n",
    "cluster_df.head()"
   ]
  },
  {
   "cell_type": "code",
   "execution_count": 18,
   "metadata": {},
   "outputs": [
    {
     "data": {
      "image/png": "[encoded data removed]",
      "text/plain": [
       "<Figure size 720x720 with 1 Axes>"
      ]
     },
     "metadata": {},
     "output_type": "display_data"
    }
   ],
   "source": [
    "fig = plt.figure(figsize=(10,10))\n",
    "ax = fig.add_subplot(121, projection='ternary')\n",
    "ax.grid()\n",
    "pc = ax.scatter(cluster_df[\"odna\"], cluster_df[\"oc17\"], cluster_df[\"omd\"], alpha=0.5)\n",
    "ax.set_tlabel('oc17')\n",
    "ax.set_llabel('omd')\n",
    "ax.set_rlabel('odna')\n",
    "plt.show()"
   ]
  },
  {
   "cell_type": "code",
   "execution_count": 19,
   "metadata": {},
   "outputs": [
    {
     "data": {
      "image/png": "[encoded data removed]",
      "text/plain": [
       "<Figure size 1008x720 with 1 Axes>"
      ]
     },
     "metadata": {},
     "output_type": "display_data"
    }
   ],
   "source": [
    "from matplotlib_venn import venn3\n",
    "\n",
    "plt.figure(figsize=[14,10])\n",
    "odna = set(cluster_df.query(\"odna!=0\")[\"cluster\"])\n",
    "omd = set(cluster_df.query(\"omd!=0\")[\"cluster\"])\n",
    "oc = set(cluster_df.query(\"oc17!=0\")[\"cluster\"])\n",
    "\n",
    "out = venn3([odna, omd, oc], ('odna', 'omd', 'oc17'))\n",
    "\n",
    "for text in out.set_labels:\n",
    "   text.set_fontsize(24)\n",
    "\n",
    "for text in out.subset_labels:\n",
    "   text.set_fontsize(24)\n",
    "\n",
    "plt.savefig(rootdir + \"figures/venn.png\", format=\"png\", dpi=300)\n",
    "plt.show()"
   ]
  },
  {
   "cell_type": "markdown",
   "metadata": {},
   "source": [
    "## rubisco"
   ]
  },
  {
   "cell_type": "code",
   "execution_count": 20,
   "metadata": {
    "collapsed": true,
    "jupyter": {
     "outputs_hidden": true
    }
   },
   "outputs": [],
   "source": [
    "cmdir(rootdir + \"proteins/rubisco\")"
   ]
  },
  {
   "cell_type": "markdown",
   "metadata": {},
   "source": [
    "### hmmsearch + parse"
   ]
  },
  {
   "cell_type": "code",
   "execution_count": 46,
   "metadata": {
    "collapsed": true,
    "jupyter": {
     "outputs_hidden": true
    }
   },
   "outputs": [],
   "source": [
    "cmdir(rootdir + \"proteins/rubisco/hmm_searches\")"
   ]
  },
  {
   "cell_type": "code",
   "execution_count": 7,
   "metadata": {
    "collapsed": true,
    "jupyter": {
     "outputs_hidden": true
    }
   },
   "outputs": [],
   "source": [
    "def parse_domtable(result_table):\n",
    "    \n",
    "    temp = {}\n",
    "    count = 0\n",
    "    \n",
    "    for result in SearchIO.parse(result_table, \"hmmsearch3-domtab\"):\n",
    "        for item in result.hits:\n",
    "            hmm_overall_cov = 0\n",
    "            fragments = []\n",
    "            for f in item.fragments: # iterate through fragments\n",
    "                fragments.append(f)\n",
    "                hmm_overall_cov += (f.query_end-f.query_start)/(result.seq_len)\n",
    "            n_missing = fragments[0].query_start/result.seq_len # first fragment\n",
    "            c_missing = (result.seq_len - fragments[-1].query_end)/result.seq_len #last fragment\n",
    "            temp[count] = {\"hmm\": result.id.split(\".\")[0], \"gene\": item.id, \"score\": item.bitscore, \\\n",
    "                           \"eval\": item.evalue, \"hmm_n_missing\": n_missing, \\\n",
    "                           \"hmm_c_missing\": c_missing, \"hmm_overall_cov\": hmm_overall_cov}\n",
    "            count += 1\n",
    "            \n",
    "    return(pd.DataFrame.from_dict(temp, orient=\"index\"))"
   ]
  },
  {
   "cell_type": "code",
   "execution_count": 43,
   "metadata": {
    "jupyter": {
     "outputs_hidden": true
    }
   },
   "outputs": [
    {
     "data": {
      "text/plain": [
       "140"
      ]
     },
     "execution_count": 43,
     "metadata": {},
     "output_type": "execute_result"
    }
   ],
   "source": [
    "# write out proteins, removing those from short + bad rubisco scaffold\n",
    "curated = pd.read_csv(rootdir + \"genomes/contigs/diamond/curated.tsv\", sep=\"\\t\")\n",
    "scafs_to_remove = curated[(curated[\"scaffold_len\"]<1500) | (curated[\"misbinned\"]==True)][\"scaffold\"].unique()s\n",
    "\n",
    "with open(rootdir + \"genomes/redundant_genome_protein.faa\", \"w\") as out:\n",
    "    for proteome in glob.glob(rootdir + \"genomes/prodigal/*faa\"):\n",
    "        for record in SeqIO.FastaIO.SimpleFastaParser(open(proteome)):\n",
    "            scaffold = \"_\".join(record[0].split(\" # \")[0].split(\"_\")[:-1])\n",
    "            if scaffold not in scafs_to_remove:\n",
    "                out.write(\">%s\\n%s\\n\" %(record[0], record[1]))"
   ]
  },
  {
   "cell_type": "code",
   "execution_count": 44,
   "metadata": {},
   "outputs": [
    {
     "name": "stdout",
     "output_type": "stream",
     "text": [
      "hmmsearch --cpu 20 --domtblout /scratch/users/ajaffe/deepeco/proteins/rubisco/hmm_searches/rubisco.results             /home/groups/dekas/ajaffe/hmms/rubisco/rubisco_all_profiles.hmm /scratch/users/ajaffe/deepeco/genomes/redundant_genome_protein.faa\n"
     ]
    }
   ],
   "source": [
    "call = \"hmmsearch --cpu 20 --domtblout %s \\\n",
    "            %s %s\" %(rootdir + \"proteins/rubisco/hmm_searches/rubisco.results\",\n",
    "                     \"/home/groups/dekas/ajaffe/hmms/rubisco/rubisco_all_profiles.hmm\",\n",
    "                     rootdir + \"genomes/redundant_genome_protein.faa\")\n",
    "print(call)"
   ]
  },
  {
   "cell_type": "code",
   "execution_count": 21,
   "metadata": {},
   "outputs": [
    {
     "data": {
      "text/html": [
       "<div>\n",
       "<style scoped>\n",
       "    .dataframe tbody tr th:only-of-type {\n",
       "        vertical-align: middle;\n",
       "    }\n",
       "\n",
       "    .dataframe tbody tr th {\n",
       "        vertical-align: top;\n",
       "    }\n",
       "\n",
       "    .dataframe thead th {\n",
       "        text-align: right;\n",
       "    }\n",
       "</style>\n",
       "<table border=\"1\" class=\"dataframe\">\n",
       "  <thead>\n",
       "    <tr style=\"text-align: right;\">\n",
       "      <th></th>\n",
       "      <th>hmm</th>\n",
       "      <th>gene</th>\n",
       "      <th>score</th>\n",
       "      <th>eval</th>\n",
       "      <th>hmm_n_missing</th>\n",
       "      <th>hmm_c_missing</th>\n",
       "      <th>hmm_overall_cov</th>\n",
       "      <th>scaffold</th>\n",
       "      <th>bin</th>\n",
       "    </tr>\n",
       "  </thead>\n",
       "  <tbody>\n",
       "    <tr>\n",
       "      <th>0</th>\n",
       "      <td>I</td>\n",
       "      <td>OceanDNA-b16188_01232_2</td>\n",
       "      <td>991.9</td>\n",
       "      <td>1.600000e-296</td>\n",
       "      <td>0.004264</td>\n",
       "      <td>0.002132</td>\n",
       "      <td>0.993603</td>\n",
       "      <td>OceanDNA-b16188_01232</td>\n",
       "      <td>OceanDNA-b16188</td>\n",
       "    </tr>\n",
       "    <tr>\n",
       "      <th>1</th>\n",
       "      <td>I</td>\n",
       "      <td>OceanDNA-b16189_00117_3</td>\n",
       "      <td>991.9</td>\n",
       "      <td>1.600000e-296</td>\n",
       "      <td>0.004264</td>\n",
       "      <td>0.002132</td>\n",
       "      <td>0.993603</td>\n",
       "      <td>OceanDNA-b16189_00117</td>\n",
       "      <td>OceanDNA-b16189</td>\n",
       "    </tr>\n",
       "  </tbody>\n",
       "</table>\n",
       "</div>"
      ],
      "text/plain": [
       "  hmm                     gene  score           eval  hmm_n_missing  \\\n",
       "0   I  OceanDNA-b16188_01232_2  991.9  1.600000e-296       0.004264   \n",
       "1   I  OceanDNA-b16189_00117_3  991.9  1.600000e-296       0.004264   \n",
       "\n",
       "   hmm_c_missing  hmm_overall_cov               scaffold              bin  \n",
       "0       0.002132         0.993603  OceanDNA-b16188_01232  OceanDNA-b16188  \n",
       "1       0.002132         0.993603  OceanDNA-b16189_00117  OceanDNA-b16189  "
      ]
     },
     "execution_count": 21,
     "metadata": {},
     "output_type": "execute_result"
    }
   ],
   "source": [
    "hmm_results = parse_domtable(rootdir + \"proteins/rubisco/hmm_searches/rubisco.results\")\n",
    "# choose best hmm and filter by hmm cov\n",
    "hmm_results = hmm_results.sort_values(\"score\", ascending=False).drop_duplicates(\"gene\").query(\"hmm_overall_cov>0.50\")\n",
    "hmm_results[\"scaffold\"] = hmm_results[\"gene\"].apply(scaffold)\n",
    "# add in bin name\n",
    "hmm_results = hmm_results.merge(scaf2bin, how=\"left\", on=\"scaffold\")\n",
    "# modify hmm names\n",
    "hmm_results = hmm_results.replace(\"I_all\", \"I\").replace(\"IV_all\", \"IV\")\n",
    "hmm_results.head(2)"
   ]
  },
  {
   "cell_type": "markdown",
   "metadata": {},
   "source": [
    "### add back protein and write out"
   ]
  },
  {
   "cell_type": "code",
   "execution_count": 51,
   "metadata": {
    "collapsed": true,
    "jupyter": {
     "outputs_hidden": true
    }
   },
   "outputs": [],
   "source": [
    "tmp = {record[0].split(\" \")[0] : record[1] for record in\n",
    "           sfp(open(rootdir + \"genomes/redundant_genome_protein.faa\"))}\n",
    "hmm_results[\"sequence\"] = hmm_results[\"gene\"].map(tmp)\n",
    "tmp = []"
   ]
  },
  {
   "cell_type": "code",
   "execution_count": 52,
   "metadata": {
    "collapsed": true,
    "jupyter": {
     "outputs_hidden": true
    }
   },
   "outputs": [],
   "source": [
    "with open(rootdir + \"proteins/rubisco/first_pass_rubisco.faa\", \"w\") as out:\n",
    "    for key, row in hmm_results.iterrows():\n",
    "        out.write(\">%s\\n%s\\n\" %(row[\"gene\"], row[\"sequence\"]))"
   ]
  },
  {
   "cell_type": "markdown",
   "metadata": {},
   "source": [
    "### cluster"
   ]
  },
  {
   "cell_type": "code",
   "execution_count": 22,
   "metadata": {
    "collapsed": true,
    "jupyter": {
     "outputs_hidden": true
    }
   },
   "outputs": [],
   "source": [
    "def parse_usearch_clustering(loc):\n",
    "\n",
    "    dtypes = {0:'category', 1:'category', 2:np.int32, 8:'object'}\n",
    "    ucols = [0,1,2,8]\n",
    "    Rdb = pd.read_csv(loc, header=None, usecols=ucols,\\\n",
    "            dtype=dtypes, sep='\\t')\n",
    "    table = defaultdict(list)\n",
    "\n",
    "    # Find the centroids\n",
    "    sdb  = Rdb[Rdb[0] == 'S']\n",
    "    shdb = Rdb[Rdb[0].isin(['H', 'S'])]\n",
    "    for centroid, cdb in sdb.groupby(1):\n",
    "        cent = cdb[8].tolist()[0].split()[0]\n",
    "        db = shdb[shdb[1] == centroid]\n",
    "\n",
    "        for seq in db[8].tolist():\n",
    "            table['cluster'].append(int(centroid))\n",
    "            table['members'].append(len(db))\n",
    "            table['sequence'].append(seq.split()[0])\n",
    "            table['centroid'].append(cent)\n",
    "\n",
    "    return pd.DataFrame(table)"
   ]
  },
  {
   "cell_type": "code",
   "execution_count": 54,
   "metadata": {},
   "outputs": [
    {
     "name": "stdout",
     "output_type": "stream",
     "text": [
      "vsearch --threads 20 --cluster_fast /scratch/users/ajaffe/deepeco/proteins/rubisco/first_pass_rubisco.faa --id 0.95 --maxrejects 0 --maxaccepts 0 --centroids /scratch/users/ajaffe/deepeco/proteins/rubisco/first_pass_rubisco.centroids.faa --uc /scratch/users/ajaffe/deepeco/proteins/rubisco/first_pass_rubisco.clusters\n"
     ]
    }
   ],
   "source": [
    "call = \"vsearch --threads 20 --cluster_fast %s --id 0.95 --maxrejects 0 --maxaccepts 0 --centroids %s --uc %s\" \\\n",
    "    %(rootdir + \"proteins/rubisco/first_pass_rubisco.faa\", \\\n",
    "      rootdir + \"proteins/rubisco/first_pass_rubisco.centroids.faa\", \\\n",
    "      rootdir + \"proteins/rubisco/first_pass_rubisco.clusters\")\n",
    "print(call)"
   ]
  },
  {
   "cell_type": "code",
   "execution_count": 23,
   "metadata": {},
   "outputs": [
    {
     "data": {
      "text/html": [
       "<div>\n",
       "<style scoped>\n",
       "    .dataframe tbody tr th:only-of-type {\n",
       "        vertical-align: middle;\n",
       "    }\n",
       "\n",
       "    .dataframe tbody tr th {\n",
       "        vertical-align: top;\n",
       "    }\n",
       "\n",
       "    .dataframe thead th {\n",
       "        text-align: right;\n",
       "    }\n",
       "</style>\n",
       "<table border=\"1\" class=\"dataframe\">\n",
       "  <thead>\n",
       "    <tr style=\"text-align: right;\">\n",
       "      <th></th>\n",
       "      <th>cluster_name</th>\n",
       "      <th>cluster_size</th>\n",
       "      <th>gene</th>\n",
       "      <th>is_centroid</th>\n",
       "      <th>hmm</th>\n",
       "      <th>score</th>\n",
       "      <th>scaffold</th>\n",
       "      <th>bin</th>\n",
       "    </tr>\n",
       "  </thead>\n",
       "  <tbody>\n",
       "    <tr>\n",
       "      <th>0</th>\n",
       "      <td>DPECO_0</td>\n",
       "      <td>1</td>\n",
       "      <td>JASLMP010000001.1_22</td>\n",
       "      <td>True</td>\n",
       "      <td>II_II</td>\n",
       "      <td>705.8</td>\n",
       "      <td>JASLMP010000001.1</td>\n",
       "      <td>GCA_030746445.1_ASM3074644v1_genomic</td>\n",
       "    </tr>\n",
       "    <tr>\n",
       "      <th>1</th>\n",
       "      <td>DPECO_1</td>\n",
       "      <td>3</td>\n",
       "      <td>OceanDNA-b32625_00132_3</td>\n",
       "      <td>True</td>\n",
       "      <td>I</td>\n",
       "      <td>321.2</td>\n",
       "      <td>OceanDNA-b32625_00132</td>\n",
       "      <td>OceanDNA-b32625</td>\n",
       "    </tr>\n",
       "    <tr>\n",
       "      <th>2</th>\n",
       "      <td>DPECO_1</td>\n",
       "      <td>3</td>\n",
       "      <td>TARA_PSW00024_METAG-scaffold_76_3</td>\n",
       "      <td>False</td>\n",
       "      <td>I</td>\n",
       "      <td>321.2</td>\n",
       "      <td>TARA_PSW00024_METAG-scaffold_76</td>\n",
       "      <td>TARA_SAMN05326646_METAG_PSW00024</td>\n",
       "    </tr>\n",
       "    <tr>\n",
       "      <th>3</th>\n",
       "      <td>DPECO_1</td>\n",
       "      <td>3</td>\n",
       "      <td>TARA_SAMEA2622901_METAG-scaffold_22184_2</td>\n",
       "      <td>False</td>\n",
       "      <td>I</td>\n",
       "      <td>321.2</td>\n",
       "      <td>TARA_SAMEA2622901_METAG-scaffold_22184</td>\n",
       "      <td>TARA_SAMEA2622901_METAG_HINFOEKN</td>\n",
       "    </tr>\n",
       "    <tr>\n",
       "      <th>4</th>\n",
       "      <td>DPECO_10</td>\n",
       "      <td>4</td>\n",
       "      <td>OceanDNA-b33523_00178_6</td>\n",
       "      <td>True</td>\n",
       "      <td>I</td>\n",
       "      <td>858.6</td>\n",
       "      <td>OceanDNA-b33523_00178</td>\n",
       "      <td>OceanDNA-b33523</td>\n",
       "    </tr>\n",
       "  </tbody>\n",
       "</table>\n",
       "</div>"
      ],
      "text/plain": [
       "  cluster_name  cluster_size                                      gene  \\\n",
       "0      DPECO_0             1                      JASLMP010000001.1_22   \n",
       "1      DPECO_1             3                   OceanDNA-b32625_00132_3   \n",
       "2      DPECO_1             3         TARA_PSW00024_METAG-scaffold_76_3   \n",
       "3      DPECO_1             3  TARA_SAMEA2622901_METAG-scaffold_22184_2   \n",
       "4     DPECO_10             4                   OceanDNA-b33523_00178_6   \n",
       "\n",
       "   is_centroid    hmm  score                                scaffold  \\\n",
       "0         True  II_II  705.8                       JASLMP010000001.1   \n",
       "1         True      I  321.2                   OceanDNA-b32625_00132   \n",
       "2        False      I  321.2         TARA_PSW00024_METAG-scaffold_76   \n",
       "3        False      I  321.2  TARA_SAMEA2622901_METAG-scaffold_22184   \n",
       "4         True      I  858.6                   OceanDNA-b33523_00178   \n",
       "\n",
       "                                    bin  \n",
       "0  GCA_030746445.1_ASM3074644v1_genomic  \n",
       "1                       OceanDNA-b32625  \n",
       "2      TARA_SAMN05326646_METAG_PSW00024  \n",
       "3      TARA_SAMEA2622901_METAG_HINFOEKN  \n",
       "4                       OceanDNA-b33523  "
      ]
     },
     "execution_count": 23,
     "metadata": {},
     "output_type": "execute_result"
    }
   ],
   "source": [
    "clusters = parse_usearch_clustering(rootdir + \"proteins/rubisco/first_pass_rubisco.clusters\")\n",
    "clusters[\"cluster_name\"] = clusters[\"cluster\"].apply(lambda x: \"DPECO_\" + str(x))\n",
    "clusters[\"is_centroid\"] = clusters.apply(lambda x: x[\"sequence\"]==x[\"centroid\"], axis=1)\n",
    "clusters = clusters[[\"cluster_name\", \"members\", \"sequence\", \\\n",
    "                     \"is_centroid\"]].rename(columns={\"sequence\":\"gene\", \"members\":\"cluster_size\"})\n",
    "merged = clusters.merge(hmm_results, on=\"gene\", how=\"left\").fillna(\"None\").drop([\"eval\", \"hmm_n_missing\", \"hmm_c_missing\", \"hmm_overall_cov\"], axis=1)\n",
    "merged.head()"
   ]
  },
  {
   "cell_type": "markdown",
   "metadata": {},
   "source": [
    "### classification - auto"
   ]
  },
  {
   "cell_type": "code",
   "execution_count": 24,
   "metadata": {},
   "outputs": [
    {
     "data": {
      "text/html": [
       "<div>\n",
       "<style scoped>\n",
       "    .dataframe tbody tr th:only-of-type {\n",
       "        vertical-align: middle;\n",
       "    }\n",
       "\n",
       "    .dataframe tbody tr th {\n",
       "        vertical-align: top;\n",
       "    }\n",
       "\n",
       "    .dataframe thead th {\n",
       "        text-align: right;\n",
       "    }\n",
       "</style>\n",
       "<table border=\"1\" class=\"dataframe\">\n",
       "  <thead>\n",
       "    <tr style=\"text-align: right;\">\n",
       "      <th></th>\n",
       "      <th>cluster_name</th>\n",
       "      <th>cluster_size</th>\n",
       "      <th>gene</th>\n",
       "      <th>is_centroid</th>\n",
       "      <th>hmm</th>\n",
       "      <th>score</th>\n",
       "      <th>scaffold</th>\n",
       "      <th>bin</th>\n",
       "      <th>passes_threshold_specific</th>\n",
       "    </tr>\n",
       "  </thead>\n",
       "  <tbody>\n",
       "    <tr>\n",
       "      <th>0</th>\n",
       "      <td>DPECO_0</td>\n",
       "      <td>1</td>\n",
       "      <td>JASLMP010000001.1_22</td>\n",
       "      <td>True</td>\n",
       "      <td>II_II</td>\n",
       "      <td>705.8</td>\n",
       "      <td>JASLMP010000001.1</td>\n",
       "      <td>GCA_030746445.1_ASM3074644v1_genomic</td>\n",
       "      <td>True</td>\n",
       "    </tr>\n",
       "    <tr>\n",
       "      <th>1</th>\n",
       "      <td>DPECO_1</td>\n",
       "      <td>3</td>\n",
       "      <td>OceanDNA-b32625_00132_3</td>\n",
       "      <td>True</td>\n",
       "      <td>I</td>\n",
       "      <td>321.2</td>\n",
       "      <td>OceanDNA-b32625_00132</td>\n",
       "      <td>OceanDNA-b32625</td>\n",
       "      <td>False</td>\n",
       "    </tr>\n",
       "  </tbody>\n",
       "</table>\n",
       "</div>"
      ],
      "text/plain": [
       "  cluster_name  cluster_size                     gene  is_centroid    hmm  \\\n",
       "0      DPECO_0             1     JASLMP010000001.1_22         True  II_II   \n",
       "1      DPECO_1             3  OceanDNA-b32625_00132_3         True      I   \n",
       "\n",
       "   score               scaffold                                   bin  \\\n",
       "0  705.8      JASLMP010000001.1  GCA_030746445.1_ASM3074644v1_genomic   \n",
       "1  321.2  OceanDNA-b32625_00132                       OceanDNA-b32625   \n",
       "\n",
       "   passes_threshold_specific  \n",
       "0                       True  \n",
       "1                      False  "
      ]
     },
     "execution_count": 24,
     "metadata": {},
     "output_type": "execute_result"
    }
   ],
   "source": [
    "# based on hmm-thresholds\n",
    "thresholds = {row[\"hmm\"]: row[\"score_threshold_specific\"] for key, row in \\\n",
    "pd.read_csv(\"/home/groups/dekas/ajaffe/hmms/rubisco/rubisco_thresholds.tsv\", sep=\"\\t\").iterrows()}\n",
    "\n",
    "merged[\"passes_threshold_specific\"] = merged.apply(lambda x: x[\"score\"]>=thresholds[x[\"hmm\"]], axis=1)\n",
    "merged.head(2)"
   ]
  },
  {
   "cell_type": "code",
   "execution_count": 57,
   "metadata": {},
   "outputs": [
    {
     "name": "stdout",
     "output_type": "stream",
     "text": [
      "graftM graft --threads 20 --graftm_package /home/users/ajaffe/misc/graftm_gpkg/rubisco_superfamily.gpkg/         --forward /scratch/users/ajaffe/deepeco/proteins/rubisco/first_pass_rubisco.faa --input_sequence_type aminoacid         --output_directory /scratch/users/ajaffe/deepeco/proteins/rubisco/secondary_graftm\n"
     ]
    }
   ],
   "source": [
    "# based on graftm classification\n",
    "call = \"graftM graft --threads 20 --graftm_package %s \\\n",
    "        --forward %s --input_sequence_type aminoacid \\\n",
    "        --output_directory %s\" %(\"/home/users/ajaffe/misc/graftm_gpkg/rubisco_superfamily.gpkg/\",\n",
    "                                 rootdir + \"proteins/rubisco/first_pass_rubisco.faa\",\n",
    "                                 rootdir + \"proteins/rubisco/secondary_graftm\")\n",
    "print(call)"
   ]
  },
  {
   "cell_type": "code",
   "execution_count": 25,
   "metadata": {},
   "outputs": [
    {
     "data": {
      "text/html": [
       "<div>\n",
       "<style scoped>\n",
       "    .dataframe tbody tr th:only-of-type {\n",
       "        vertical-align: middle;\n",
       "    }\n",
       "\n",
       "    .dataframe tbody tr th {\n",
       "        vertical-align: top;\n",
       "    }\n",
       "\n",
       "    .dataframe thead th {\n",
       "        text-align: right;\n",
       "    }\n",
       "</style>\n",
       "<table border=\"1\" class=\"dataframe\">\n",
       "  <thead>\n",
       "    <tr style=\"text-align: right;\">\n",
       "      <th></th>\n",
       "      <th>cluster_name</th>\n",
       "      <th>cluster_size</th>\n",
       "      <th>gene</th>\n",
       "      <th>is_centroid</th>\n",
       "      <th>hmm</th>\n",
       "      <th>score</th>\n",
       "      <th>scaffold</th>\n",
       "      <th>bin</th>\n",
       "      <th>passes_threshold_specific</th>\n",
       "      <th>graftm_placement</th>\n",
       "    </tr>\n",
       "  </thead>\n",
       "  <tbody>\n",
       "    <tr>\n",
       "      <th>0</th>\n",
       "      <td>DPECO_0</td>\n",
       "      <td>1</td>\n",
       "      <td>JASLMP010000001.1_22</td>\n",
       "      <td>True</td>\n",
       "      <td>II_II</td>\n",
       "      <td>705.8</td>\n",
       "      <td>JASLMP010000001.1</td>\n",
       "      <td>GCA_030746445.1_ASM3074644v1_genomic</td>\n",
       "      <td>True</td>\n",
       "      <td>Root; Bona_Fide; II; II_graftm_1</td>\n",
       "    </tr>\n",
       "    <tr>\n",
       "      <th>1</th>\n",
       "      <td>DPECO_1</td>\n",
       "      <td>3</td>\n",
       "      <td>OceanDNA-b32625_00132_3</td>\n",
       "      <td>True</td>\n",
       "      <td>I</td>\n",
       "      <td>321.2</td>\n",
       "      <td>OceanDNA-b32625_00132</td>\n",
       "      <td>OceanDNA-b32625</td>\n",
       "      <td>False</td>\n",
       "      <td>Root; Bona_Fide</td>\n",
       "    </tr>\n",
       "  </tbody>\n",
       "</table>\n",
       "</div>"
      ],
      "text/plain": [
       "  cluster_name  cluster_size                     gene  is_centroid    hmm  \\\n",
       "0      DPECO_0             1     JASLMP010000001.1_22         True  II_II   \n",
       "1      DPECO_1             3  OceanDNA-b32625_00132_3         True      I   \n",
       "\n",
       "   score               scaffold                                   bin  \\\n",
       "0  705.8      JASLMP010000001.1  GCA_030746445.1_ASM3074644v1_genomic   \n",
       "1  321.2  OceanDNA-b32625_00132                       OceanDNA-b32625   \n",
       "\n",
       "   passes_threshold_specific                  graftm_placement  \n",
       "0                       True  Root; Bona_Fide; II; II_graftm_1  \n",
       "1                      False                   Root; Bona_Fide  "
      ]
     },
     "execution_count": 25,
     "metadata": {},
     "output_type": "execute_result"
    }
   ],
   "source": [
    "graft_results = pd.read_csv(rootdir + \"proteins/rubisco/secondary_graftm/first_pass_rubisco/\" + \\\n",
    "                            \"first_pass_rubisco_read_tax.tsv\", sep=\"\\t\", header=None)\n",
    "graft_results.columns = [\"gene\", \"graftm_placement\"]\n",
    "merged = merged.merge(graft_results, how=\"left\", on=\"gene\")\n",
    "merged.head(2)"
   ]
  },
  {
   "cell_type": "markdown",
   "metadata": {},
   "source": [
    "### reconcile - what's left?"
   ]
  },
  {
   "cell_type": "code",
   "execution_count": 26,
   "metadata": {
    "collapsed": true,
    "jupyter": {
     "outputs_hidden": true
    }
   },
   "outputs": [],
   "source": [
    "def parse_graft_placement(taxstring):\n",
    "    \n",
    "    l = taxstring.split(\"; \")\n",
    "    \n",
    "    if len(l) > 2:\n",
    "        if l[2] in [\"I\", \"IV\"]:\n",
    "            return l[2]\n",
    "        elif l[2] in [\"II\", \"II_III\"]:\n",
    "            return \"_\".join([l[2]]*2)\n",
    "        elif l[2] == \"III\":\n",
    "            return \"_\".join(l[2:4])\n",
    "        else: return taxstring\n",
    "    else: return taxstring"
   ]
  },
  {
   "cell_type": "code",
   "execution_count": 27,
   "metadata": {
    "jupyter": {
     "outputs_hidden": true
    }
   },
   "outputs": [
    {
     "name": "stdout",
     "output_type": "stream",
     "text": [
      "60\n"
     ]
    }
   ],
   "source": [
    "merged[\"graft_placement_parsed\"] = merged[\"graftm_placement\"].apply(parse_graft_placement)\n",
    "# grab those where best hmm does not match graft placement, or not entirely\n",
    "odd_clusters = merged[merged[\"hmm\"]!=merged[\"graft_placement_parsed\"]][\"cluster_name\"].unique()\n",
    "print(len(odd_clusters))"
   ]
  },
  {
   "cell_type": "markdown",
   "metadata": {},
   "source": [
    "### classification - manual"
   ]
  },
  {
   "cell_type": "code",
   "execution_count": 71,
   "metadata": {
    "collapsed": true,
    "jupyter": {
     "outputs_hidden": true
    }
   },
   "outputs": [],
   "source": [
    "cmdir(rootdir + \"proteins/rubisco/trees/\")"
   ]
  },
  {
   "cell_type": "code",
   "execution_count": 309,
   "metadata": {
    "collapsed": true,
    "jupyter": {
     "outputs_hidden": true
    }
   },
   "outputs": [],
   "source": [
    "with open(rootdir + \"proteins/rubisco/trees/build.sh\", \"w\") as out:\n",
    "    \n",
    "    tdir = rootdir + \"proteins/rubisco/trees/\"\n",
    "    ref = \"/home/groups/dekas/ajaffe/trees/review_subset.faa\"\n",
    "    \n",
    "    for odd_cluster in [\"DPECO_210\"]: #odd_clusters:\n",
    "        \n",
    "        table = merged[merged[\"cluster_name\"]==odd_cluster]\n",
    "        faaname = tdir + odd_cluster + \".faa\"\n",
    "        with open(faaname, \"w\") as faa:\n",
    "            for key, row in table.iterrows():\n",
    "                faa.write(\">%s\\n%s\\n\" %(\"_\".join([row[\"gene\"], \\\n",
    "                    row[\"cluster_name\"]]), row[\"sequence\"]))\n",
    "            for record in sfp(open(ref)):\n",
    "                faa.write(\">%s\\n%s\\n\" %(record[0], record[1]))\n",
    "        \n",
    "        mafft = \"mafft --thread 20 --auto %s > %s\" %(faaname, faaname.replace(\"faa\", \"mafft\"))\n",
    "        trimal = \"trimal -gt 0.1 -in %s -out %s\" %(faaname.replace(\"faa\", \"mafft\"), \\\n",
    "                                                   faaname.replace(\"faa\", \"trimal\"))\n",
    "        tree = \"FastTreeMP %s > %s\" %(faaname.replace(\"faa\", \"trimal\"), faaname.replace(\"faa\", \"tre\"))\n",
    "        out.write(sbatch(\"tree\", 20, \" && \".join([mafft, trimal, tree])) + \"\\n\")"
   ]
  },
  {
   "cell_type": "code",
   "execution_count": 82,
   "metadata": {
    "collapsed": true
   },
   "outputs": [],
   "source": [
    "# curation out\n",
    "merged[merged[\"cluster_name\"].isin(odd_clusters)][[\"cluster_name\", \"cluster_size\", \\\n",
    "                                \"gene\", \"hmm\", \"score\", \"graftm_placement\"]].to_csv(rootdir + \"proteins/rubisco/rbcl_to_curate.tsv\", sep=\"\\t\", index=False)"
   ]
  },
  {
   "cell_type": "code",
   "execution_count": 28,
   "metadata": {},
   "outputs": [
    {
     "data": {
      "text/plain": [
       "I                2473\n",
       "II_II             717\n",
       "IV                701\n",
       "III_B             270\n",
       "III_A             114\n",
       "III_Like           59\n",
       "II_III_II_III      20\n",
       "III_UNK            13\n",
       "III_C               5\n",
       "Name: curated_rubisco_form, dtype: int64"
      ]
     },
     "execution_count": 28,
     "metadata": {},
     "output_type": "execute_result"
    }
   ],
   "source": [
    "# curation in\n",
    "curated = {row[\"gene\"]:row[\"curated_rubisco_form\"] for key, row in \\\n",
    "              pd.read_csv(rootdir + \"proteins/rubisco/rbcl_curated.tsv\", sep=\"\\t\").iterrows()}\n",
    "merged[\"curated_rubisco_form\"] = merged.apply(lambda x: x[\"hmm\"] if x[\"gene\"] not in curated.keys() else curated[x[\"gene\"]], axis=1)\n",
    "merged[\"curated_rubisco_form\"].value_counts()"
   ]
  },
  {
   "cell_type": "markdown",
   "metadata": {},
   "source": [
    "### how conserved is rubisco among clusters ?"
   ]
  },
  {
   "cell_type": "code",
   "execution_count": 29,
   "metadata": {},
   "outputs": [
    {
     "name": "stdout",
     "output_type": "stream",
     "text": [
      "Only 15 primary clusters of 796 containing genomes     with different rubisco gene sets.\n"
     ]
    }
   ],
   "source": [
    "genomes_wgenes = genome_md.merge(merged[[\"bin\", \"curated_rubisco_form\"]], how=\"left\", \\\n",
    "                               left_on=\"genome\", right_on=\"bin\").drop(\"bin\", axis=1).fillna(\"None\")\n",
    "\n",
    "counts = 0\n",
    "for primary_cluster in genomes_wgenes[\"primary_cluster\"].unique():\n",
    "    \n",
    "    genomes_in_cluster = genomes_wgenes[genomes_wgenes[\"primary_cluster\"]==primary_cluster][\"genome\"].unique()\n",
    "    \n",
    "    combos = []\n",
    "    for genome in genomes_in_cluster:\n",
    "        genome_rubisco_genes = genomes_wgenes[genomes_wgenes[\"genome\"]==genome][\"curated_rubisco_form\"].unique()\n",
    "        combos.append(\",\".join(sorted(list(genome_rubisco_genes))))\n",
    "        \n",
    "    combos_clean = [combo for combo in combos if \"None\" not in combos]\n",
    "    \n",
    "    if len(set(combos_clean)) > 1:\n",
    "        counts +=1\n",
    "        \n",
    "print(\"Only %d primary clusters of %d containing genomes \\\n",
    "    with different rubisco gene sets.\" %(counts, len(genomes_wgenes[\"primary_cluster\"].unique())))"
   ]
  },
  {
   "cell_type": "code",
   "execution_count": 30,
   "metadata": {},
   "outputs": [
    {
     "name": "stdout",
     "output_type": "stream",
     "text": [
      "Only 14 secondary clusters of 1134 containing genomes     with different rubisco gene sets.\n"
     ]
    }
   ],
   "source": [
    "counts = 0\n",
    "to_resolve = []\n",
    "rubisco_sets = {}\n",
    "\n",
    "for secondary_cluster in genomes_wgenes[\"secondary_cluster\"].unique():\n",
    "    \n",
    "    genomes_in_cluster = genomes_wgenes[genomes_wgenes[\"secondary_cluster\"]==secondary_cluster][\"genome\"].unique()\n",
    "    \n",
    "    combos = []\n",
    "    for genome in genomes_in_cluster:\n",
    "        genome_rubisco_genes = genomes_wgenes[genomes_wgenes[\"genome\"]==genome][\"curated_rubisco_form\"].unique()\n",
    "        combos.append(\",\".join(sorted(list(genome_rubisco_genes))))\n",
    "        \n",
    "    combos_clean = [combo for combo in combos if combo !=\"None\"]\n",
    "    \n",
    "    if (len(set(combos_clean)) > 1):\n",
    "        counts +=1\n",
    "        to_resolve.append(secondary_cluster)\n",
    "    elif (len(set(combos)) > 1) and (\"None\" in combos):\n",
    "        rubisco_sets[secondary_cluster] = combos_clean[0]\n",
    "    else: rubisco_sets[secondary_cluster] = combos[0]\n",
    "\n",
    "print(\"Only %d secondary clusters of %d containing genomes \\\n",
    "    with different rubisco gene sets.\" %(counts, len(genomes_wgenes[\"secondary_cluster\"].unique())))"
   ]
  },
  {
   "cell_type": "markdown",
   "metadata": {
    "collapsed": true,
    "jupyter": {
     "outputs_hidden": true
    }
   },
   "source": [
    "These results suggest that rubisco inventories are conserved among secondary (and even within primary) clusters. Thus, we can assign genome clusters an overall rubisco type that accounts for incompleteness (or total absence) in cluster representatives. Also, for the mapping analysis, if reads are mismapped within primary clusters, it should be to genomes with similar metabolic features relevant for our question."
   ]
  },
  {
   "cell_type": "markdown",
   "metadata": {},
   "source": [
    "### assign rubisco sets to nr-clusters"
   ]
  },
  {
   "cell_type": "code",
   "execution_count": 31,
   "metadata": {},
   "outputs": [
    {
     "name": "stdout",
     "output_type": "stream",
     "text": [
      "['70_1', '114_1', '114_2', '143_1', '209_1', '255_1', '264_1', '391_1', '676_1', '687_1', '689_2', '695_1', '718_1', '719_1']\n"
     ]
    }
   ],
   "source": [
    "print(to_resolve)"
   ]
  },
  {
   "cell_type": "code",
   "execution_count": 32,
   "metadata": {
    "collapsed": true,
    "jupyter": {
     "outputs_hidden": true
    }
   },
   "outputs": [],
   "source": [
    "# mostly done by the majority rule. smaller clusters be liberal.\n",
    "resolved = {'70_1':'III_B', '114_1': 'I', '114_2': 'I', '143_1': 'II_II', '209_1':'I,II_II',\n",
    "           '255_1':'I,II_II', '264_1':'III_B,IV', '391_1':'I,II_II', '676_1': 'I,IV', \n",
    "           '687_1': 'I,IV', '689_2': 'I,IV', '695_1':'I,IV', '718_1':'IV', '719_1':'I,IV'}"
   ]
  },
  {
   "cell_type": "code",
   "execution_count": 33,
   "metadata": {},
   "outputs": [
    {
     "name": "stderr",
     "output_type": "stream",
     "text": [
      "/share/software/user/open/py-jupyter/1.0.0_py36/lib/python3.6/site-packages/ipykernel_launcher.py:2: SettingWithCopyWarning: \n",
      "A value is trying to be set on a copy of a slice from a DataFrame.\n",
      "Try using .loc[row_indexer,col_indexer] = value instead\n",
      "\n",
      "See the caveats in the documentation: https://pandas.pydata.org/pandas-docs/stable/user_guide/indexing.html#returning-a-view-versus-a-copy\n",
      "  \n"
     ]
    },
    {
     "data": {
      "text/html": [
       "<div>\n",
       "<style scoped>\n",
       "    .dataframe tbody tr th:only-of-type {\n",
       "        vertical-align: middle;\n",
       "    }\n",
       "\n",
       "    .dataframe tbody tr th {\n",
       "        vertical-align: top;\n",
       "    }\n",
       "\n",
       "    .dataframe thead th {\n",
       "        text-align: right;\n",
       "    }\n",
       "</style>\n",
       "<table border=\"1\" class=\"dataframe\">\n",
       "  <thead>\n",
       "    <tr style=\"text-align: right;\">\n",
       "      <th></th>\n",
       "      <th>genome</th>\n",
       "      <th>classification</th>\n",
       "      <th>checkm_completeness</th>\n",
       "      <th>checkm_redundancy</th>\n",
       "      <th>primary_cluster</th>\n",
       "      <th>secondary_cluster</th>\n",
       "      <th>representative</th>\n",
       "      <th>scluster_rubisco_set</th>\n",
       "    </tr>\n",
       "  </thead>\n",
       "  <tbody>\n",
       "    <tr>\n",
       "      <th>0</th>\n",
       "      <td>OceanDNA-b21631</td>\n",
       "      <td>d__Bacteria;p__Patescibacteria;c__Gracilibacte...</td>\n",
       "      <td>82.99</td>\n",
       "      <td>2.48</td>\n",
       "      <td>1</td>\n",
       "      <td>1_0</td>\n",
       "      <td>True</td>\n",
       "      <td>II_III_II_III</td>\n",
       "    </tr>\n",
       "    <tr>\n",
       "      <th>1</th>\n",
       "      <td>TARA_SAMEA2619970_METAG_OGBJMBMB</td>\n",
       "      <td>d__Bacteria;p__Patescibacteria;c__Gracilibacte...</td>\n",
       "      <td>50.57</td>\n",
       "      <td>0.99</td>\n",
       "      <td>2</td>\n",
       "      <td>2_0</td>\n",
       "      <td>True</td>\n",
       "      <td>None</td>\n",
       "    </tr>\n",
       "    <tr>\n",
       "      <th>2</th>\n",
       "      <td>OceanDNA-b21628</td>\n",
       "      <td>d__Bacteria;p__Patescibacteria;c__Gracilibacte...</td>\n",
       "      <td>79.21</td>\n",
       "      <td>2.09</td>\n",
       "      <td>3</td>\n",
       "      <td>3_0</td>\n",
       "      <td>True</td>\n",
       "      <td>II_III_II_III</td>\n",
       "    </tr>\n",
       "    <tr>\n",
       "      <th>3</th>\n",
       "      <td>TARA_SAMEA4397330_METAG_GFBBFFPE</td>\n",
       "      <td>d__Bacteria;p__Proteobacteria;c__Alphaproteoba...</td>\n",
       "      <td>88.16</td>\n",
       "      <td>1.10</td>\n",
       "      <td>4</td>\n",
       "      <td>4_1</td>\n",
       "      <td>True</td>\n",
       "      <td>II_II</td>\n",
       "    </tr>\n",
       "    <tr>\n",
       "      <th>5</th>\n",
       "      <td>GCA_030739585.1_ASM3073958v1_genomic</td>\n",
       "      <td>d__Archaea;p__Thermoproteota;c__Bathyarchaeia;...</td>\n",
       "      <td>93.93</td>\n",
       "      <td>1.87</td>\n",
       "      <td>5</td>\n",
       "      <td>5_1</td>\n",
       "      <td>True</td>\n",
       "      <td>III_B</td>\n",
       "    </tr>\n",
       "  </tbody>\n",
       "</table>\n",
       "</div>"
      ],
      "text/plain": [
       "                                 genome  \\\n",
       "0                       OceanDNA-b21631   \n",
       "1      TARA_SAMEA2619970_METAG_OGBJMBMB   \n",
       "2                       OceanDNA-b21628   \n",
       "3      TARA_SAMEA4397330_METAG_GFBBFFPE   \n",
       "5  GCA_030739585.1_ASM3073958v1_genomic   \n",
       "\n",
       "                                      classification  checkm_completeness  \\\n",
       "0  d__Bacteria;p__Patescibacteria;c__Gracilibacte...                82.99   \n",
       "1  d__Bacteria;p__Patescibacteria;c__Gracilibacte...                50.57   \n",
       "2  d__Bacteria;p__Patescibacteria;c__Gracilibacte...                79.21   \n",
       "3  d__Bacteria;p__Proteobacteria;c__Alphaproteoba...                88.16   \n",
       "5  d__Archaea;p__Thermoproteota;c__Bathyarchaeia;...                93.93   \n",
       "\n",
       "   checkm_redundancy  primary_cluster secondary_cluster  representative  \\\n",
       "0               2.48                1               1_0            True   \n",
       "1               0.99                2               2_0            True   \n",
       "2               2.09                3               3_0            True   \n",
       "3               1.10                4               4_1            True   \n",
       "5               1.87                5               5_1            True   \n",
       "\n",
       "  scluster_rubisco_set  \n",
       "0        II_III_II_III  \n",
       "1                 None  \n",
       "2        II_III_II_III  \n",
       "3                II_II  \n",
       "5                III_B  "
      ]
     },
     "execution_count": 33,
     "metadata": {},
     "output_type": "execute_result"
    }
   ],
   "source": [
    "non_redundant = genome_md.query(\"representative==True\")\n",
    "non_redundant[\"scluster_rubisco_set\"] = non_redundant[\"secondary_cluster\"].apply(lambda x: \\\n",
    "                                            rubisco_sets[x] if x in rubisco_sets.keys() else resolved[x])\n",
    "non_redundant.head()"
   ]
  },
  {
   "cell_type": "code",
   "execution_count": 34,
   "metadata": {},
   "outputs": [
    {
     "data": {
      "text/html": [
       "<div>\n",
       "<style scoped>\n",
       "    .dataframe tbody tr th:only-of-type {\n",
       "        vertical-align: middle;\n",
       "    }\n",
       "\n",
       "    .dataframe tbody tr th {\n",
       "        vertical-align: top;\n",
       "    }\n",
       "\n",
       "    .dataframe thead th {\n",
       "        text-align: right;\n",
       "    }\n",
       "</style>\n",
       "<table border=\"1\" class=\"dataframe\">\n",
       "  <thead>\n",
       "    <tr style=\"text-align: right;\">\n",
       "      <th></th>\n",
       "      <th>genome</th>\n",
       "      <th>classification</th>\n",
       "      <th>checkm_completeness</th>\n",
       "      <th>checkm_redundancy</th>\n",
       "      <th>primary_cluster</th>\n",
       "      <th>secondary_cluster</th>\n",
       "      <th>representative</th>\n",
       "      <th>scluster_rubisco_set</th>\n",
       "    </tr>\n",
       "  </thead>\n",
       "  <tbody>\n",
       "    <tr>\n",
       "      <th>0</th>\n",
       "      <td>OceanDNA-b21631</td>\n",
       "      <td>d__Bacteria;p__Patescibacteria;c__Gracilibacte...</td>\n",
       "      <td>82.99</td>\n",
       "      <td>2.48</td>\n",
       "      <td>1</td>\n",
       "      <td>1_0</td>\n",
       "      <td>True</td>\n",
       "      <td>II_III_II_III</td>\n",
       "    </tr>\n",
       "    <tr>\n",
       "      <th>2</th>\n",
       "      <td>OceanDNA-b21628</td>\n",
       "      <td>d__Bacteria;p__Patescibacteria;c__Gracilibacte...</td>\n",
       "      <td>79.21</td>\n",
       "      <td>2.09</td>\n",
       "      <td>3</td>\n",
       "      <td>3_0</td>\n",
       "      <td>True</td>\n",
       "      <td>II_III_II_III</td>\n",
       "    </tr>\n",
       "    <tr>\n",
       "      <th>3</th>\n",
       "      <td>TARA_SAMEA4397330_METAG_GFBBFFPE</td>\n",
       "      <td>d__Bacteria;p__Proteobacteria;c__Alphaproteoba...</td>\n",
       "      <td>88.16</td>\n",
       "      <td>1.10</td>\n",
       "      <td>4</td>\n",
       "      <td>4_1</td>\n",
       "      <td>True</td>\n",
       "      <td>II_II</td>\n",
       "    </tr>\n",
       "    <tr>\n",
       "      <th>5</th>\n",
       "      <td>GCA_030739585.1_ASM3073958v1_genomic</td>\n",
       "      <td>d__Archaea;p__Thermoproteota;c__Bathyarchaeia;...</td>\n",
       "      <td>93.93</td>\n",
       "      <td>1.87</td>\n",
       "      <td>5</td>\n",
       "      <td>5_1</td>\n",
       "      <td>True</td>\n",
       "      <td>III_B</td>\n",
       "    </tr>\n",
       "    <tr>\n",
       "      <th>13</th>\n",
       "      <td>OceanDNA-b35769</td>\n",
       "      <td>d__Bacteria;p__Proteobacteria;c__Gammaproteoba...</td>\n",
       "      <td>95.16</td>\n",
       "      <td>0.59</td>\n",
       "      <td>6</td>\n",
       "      <td>6_1</td>\n",
       "      <td>True</td>\n",
       "      <td>I</td>\n",
       "    </tr>\n",
       "  </tbody>\n",
       "</table>\n",
       "</div>"
      ],
      "text/plain": [
       "                                  genome  \\\n",
       "0                        OceanDNA-b21631   \n",
       "2                        OceanDNA-b21628   \n",
       "3       TARA_SAMEA4397330_METAG_GFBBFFPE   \n",
       "5   GCA_030739585.1_ASM3073958v1_genomic   \n",
       "13                       OceanDNA-b35769   \n",
       "\n",
       "                                       classification  checkm_completeness  \\\n",
       "0   d__Bacteria;p__Patescibacteria;c__Gracilibacte...                82.99   \n",
       "2   d__Bacteria;p__Patescibacteria;c__Gracilibacte...                79.21   \n",
       "3   d__Bacteria;p__Proteobacteria;c__Alphaproteoba...                88.16   \n",
       "5   d__Archaea;p__Thermoproteota;c__Bathyarchaeia;...                93.93   \n",
       "13  d__Bacteria;p__Proteobacteria;c__Gammaproteoba...                95.16   \n",
       "\n",
       "    checkm_redundancy  primary_cluster secondary_cluster  representative  \\\n",
       "0                2.48                1               1_0            True   \n",
       "2                2.09                3               3_0            True   \n",
       "3                1.10                4               4_1            True   \n",
       "5                1.87                5               5_1            True   \n",
       "13               0.59                6               6_1            True   \n",
       "\n",
       "   scluster_rubisco_set  \n",
       "0         II_III_II_III  \n",
       "2         II_III_II_III  \n",
       "3                 II_II  \n",
       "5                 III_B  \n",
       "13                    I  "
      ]
     },
     "execution_count": 34,
     "metadata": {},
     "output_type": "execute_result"
    }
   ],
   "source": [
    "# remove those secondary clusters with no rubisco assignment whatsoever\n",
    "non_redundant = non_redundant.query(\"scluster_rubisco_set!='None'\")\n",
    "non_redundant.head()"
   ]
  },
  {
   "cell_type": "markdown",
   "metadata": {},
   "source": [
    "### export"
   ]
  },
  {
   "cell_type": "code",
   "execution_count": 377,
   "metadata": {},
   "outputs": [
    {
     "name": "stdout",
     "output_type": "stream",
     "text": [
      "rclone copy /scratch/users/ajaffe/deepeco/tables/redundant_rubisco_info.tsv drive:deepeco/tables --progress\n",
      "rclone copy /scratch/users/ajaffe/deepeco/tables/nonredundant_genome_info.tsv drive:deepeco/tables --progress\n"
     ]
    }
   ],
   "source": [
    "# redundant gene info\n",
    "merged.to_csv(rootdir + \"tables/redundant_rubisco_info.tsv\", sep=\"\\t\", index=False)\n",
    "print(\"rclone copy /scratch/users/ajaffe/deepeco/tables/redundant_rubisco_info.tsv drive:deepeco/tables --progress\")\n",
    "\n",
    "# non-redundant genome info \n",
    "non_redundant.to_csv(rootdir + \"tables/nonredundant_genome_info.tsv\", sep=\"\\t\", index=False)\n",
    "print(\"rclone copy /scratch/users/ajaffe/deepeco/tables/nonredundant_genome_info.tsv drive:deepeco/tables --progress\")"
   ]
  },
  {
   "cell_type": "markdown",
   "metadata": {},
   "source": [
    "## supp tables"
   ]
  },
  {
   "cell_type": "code",
   "execution_count": 62,
   "metadata": {},
   "outputs": [],
   "source": [
    "def assign_dataset(genome):\n",
    "    \n",
    "    if \"OceanDNA\" in genome:\n",
    "        return \"OceanDNA MAG Catalog (Nishimura and Yoshizawa 2022)\"\n",
    "    elif genome.startswith(\"OC\"):\n",
    "        return \"OC1703A (PRJNA1054206)\"\n",
    "    elif genome.split(\"_\")[0] in [\"TARA\", \"MARD\", \"GORG\", \"BGEO\", \"MALA\", \"HOTS\", \"BATS\"]:\n",
    "        return \"Ocean Microbiomics Database (Paoli et al. 2022)\"\n",
    "    elif (genome.startswith(\"GCA\") or genome.startswith(\"metabat\")):\n",
    "        return \"other\"\n",
    "    else: return \"OMZ Database (Anstett et al. 2023)\"\n",
    "    \n",
    "def clean_rubisco_form(form):\n",
    "    \n",
    "    cleaned = []\n",
    "    \n",
    "    for item in form.split(\",\"):\n",
    "        if item == \"II_II\":\n",
    "            cleaned.append(\"II\")\n",
    "        elif item == \"II_III_II_III\":\n",
    "            cleaned.append(\"II_III\")\n",
    "        else: cleaned.append(item)\n",
    "\n",
    "    return \",\".join(cleaned)"
   ]
  },
  {
   "cell_type": "code",
   "execution_count": 36,
   "metadata": {},
   "outputs": [],
   "source": [
    "scafs, binlens = {}, {}\n",
    "\n",
    "for genome in glob.glob(rootdir + \"genomes/second_pass/*\"):\n",
    "    name = os.path.basename(genome).replace(\".fa\",\"\")\n",
    "    scaf, binlen= 0,0\n",
    "    for record in sfp(open(genome)):\n",
    "        scaf+=1\n",
    "        binlen+=len(record[1])\n",
    "    scafs[name] = scaf\n",
    "    binlens[name] = binlen"
   ]
  },
  {
   "cell_type": "code",
   "execution_count": 68,
   "metadata": {},
   "outputs": [],
   "source": [
    "non_redundant = pd.read_csv(rootdir + \"tables/nonredundant_genome_info.tsv\", sep=\"\\t\")\n",
    "non_redundant[\"dataset\"] = non_redundant[\"genome\"].apply(assign_dataset)\n",
    "non_redundant[\"num_scaffolds\"] = non_redundant[\"genome\"].map(scafs)\n",
    "non_redundant[\"bin_length\"] = non_redundant[\"genome\"].map(binlens)\n",
    "non_redundant[\"rubisco_gene_set\"] = non_redundant[\"scluster_rubisco_set\"].apply(clean_rubisco_form)\n",
    "non_redundant[[\"genome\", \"dataset\", \"secondary_cluster\", \"classification\", \"checkm_completeness\", \"checkm_redundancy\",\n",
    "               \"bin_length\", \"num_scaffolds\", \"rubisco_gene_set\"]].rename(columns={\"secondary_cluster\":\"species_group\"}).to_csv(rootdir + \"tables/table_s2.tsv\", sep=\"\\t\", index=False)"
   ]
  },
  {
   "cell_type": "code",
   "execution_count": 74,
   "metadata": {},
   "outputs": [],
   "source": [
    "merged = pd.read_csv(rootdir + \"tables/redundant_rubisco_info.tsv\", sep=\"\\t\")\n",
    "merged[\"cluster_numeric\"] = merged[\"cluster_name\"].apply(lambda x: int(x.split(\"_\")[1]))\n",
    "merged[[\"cluster_name\", \"cluster_size\", \"curated_rubisco_form\", \"cluster_numeric\",\n",
    "        \"is_centroid\", \"gene\", \"scaffold\", \"bin\", \"sequence\"]].sort_values(\"cluster_numeric\").drop(\"cluster_numeric\", axis=1).to_csv(rootdir + \"tables/table_s3.tsv\", sep=\"\\t\", index=False)"
   ]
  }
 ],
 "metadata": {
  "kernelspec": {
   "display_name": "Python 3 (ipykernel)",
   "language": "python",
   "name": "python3"
  },
  "language_info": {
   "codemirror_mode": {
    "name": "ipython",
    "version": 3
   },
   "file_extension": ".py",
   "mimetype": "text/x-python",
   "name": "python",
   "nbconvert_exporter": "python",
   "pygments_lexer": "ipython3",
   "version": "3.9.0"
  }
 },
 "nbformat": 4,
 "nbformat_minor": 4
}
