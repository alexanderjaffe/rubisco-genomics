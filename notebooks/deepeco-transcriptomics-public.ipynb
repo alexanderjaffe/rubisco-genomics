{
 "cells": [
  {
   "cell_type": "code",
   "execution_count": 1,
   "metadata": {},
   "outputs": [],
   "source": [
    "from collections import defaultdict\n",
    "from Bio.SeqIO.FastaIO import SimpleFastaParser as sfp\n",
    "from Bio import SeqIO, SearchIO, Entrez\n",
    "import subprocess as sp\n",
    "import seaborn as sns\n",
    "import numpy as np\n",
    "from scipy import stats\n",
    "import pandas as pd\n",
    "import os, glob, math, re, gzip, pysam, itertools, skbio, time\n",
    "from concurrent.futures import ProcessPoolExecutor\n",
    "from statsmodels.stats.multitest import multipletests\n",
    "from bs4 import BeautifulSoup\n",
    "import matplotlib.pyplot as plt\n",
    "import warnings\n",
    "warnings.filterwarnings('ignore')"
   ]
  },
  {
   "cell_type": "code",
   "execution_count": 2,
   "metadata": {},
   "outputs": [],
   "source": [
    "def cmdir(path):\n",
    "    if not os.path.isdir(path):\n",
    "        os.mkdir(path)\n",
    "\n",
    "def scaffold(gene):\n",
    "    if gene != \"None\":\n",
    "        try: return re.search(\"(.+?)_[0-9]+$\", gene).group(1)\n",
    "        except: print(gene)\n",
    "\n",
    "def sbatch(name, cpus, cmd):\n",
    "    return \"sbatch -J %s -p serc -t 1- -c %d --mem %dG --wrap '%s'\" %(name, cpus, cpus*8, cmd)"
   ]
  },
  {
   "cell_type": "code",
   "execution_count": 3,
   "metadata": {},
   "outputs": [],
   "source": [
    "rootdir = \"/scratch/users/ajaffe/deepeco/\"\n",
    "cmdir(rootdir + \"txomics\")"
   ]
  },
  {
   "cell_type": "markdown",
   "metadata": {
    "collapsed": true
   },
   "source": [
    "## compute"
   ]
  },
  {
   "cell_type": "code",
   "execution_count": 4,
   "metadata": {},
   "outputs": [],
   "source": [
    "cmdir(rootdir + \"txomics/mapping\")"
   ]
  },
  {
   "cell_type": "markdown",
   "metadata": {},
   "source": [
    "### read in non-redundant data"
   ]
  },
  {
   "cell_type": "code",
   "execution_count": 5,
   "metadata": {},
   "outputs": [
    {
     "data": {
      "text/html": [
       "<div>\n",
       "<style scoped>\n",
       "    .dataframe tbody tr th:only-of-type {\n",
       "        vertical-align: middle;\n",
       "    }\n",
       "\n",
       "    .dataframe tbody tr th {\n",
       "        vertical-align: top;\n",
       "    }\n",
       "\n",
       "    .dataframe thead th {\n",
       "        text-align: right;\n",
       "    }\n",
       "</style>\n",
       "<table border=\"1\" class=\"dataframe\">\n",
       "  <thead>\n",
       "    <tr style=\"text-align: right;\">\n",
       "      <th></th>\n",
       "      <th>genome</th>\n",
       "      <th>classification</th>\n",
       "      <th>checkm_completeness</th>\n",
       "      <th>checkm_redundancy</th>\n",
       "      <th>primary_cluster</th>\n",
       "      <th>secondary_cluster</th>\n",
       "      <th>representative</th>\n",
       "      <th>scluster_rubisco_set</th>\n",
       "      <th>phylum</th>\n",
       "    </tr>\n",
       "  </thead>\n",
       "  <tbody>\n",
       "    <tr>\n",
       "      <th>0</th>\n",
       "      <td>OceanDNA-b21631</td>\n",
       "      <td>d__Bacteria;p__Patescibacteria;c__Gracilibacte...</td>\n",
       "      <td>82.99</td>\n",
       "      <td>2.48</td>\n",
       "      <td>1</td>\n",
       "      <td>1_0</td>\n",
       "      <td>True</td>\n",
       "      <td>II_III_II_III</td>\n",
       "      <td>d__Bacteria_p__Patescibacteria</td>\n",
       "    </tr>\n",
       "    <tr>\n",
       "      <th>1</th>\n",
       "      <td>OceanDNA-b21628</td>\n",
       "      <td>d__Bacteria;p__Patescibacteria;c__Gracilibacte...</td>\n",
       "      <td>79.21</td>\n",
       "      <td>2.09</td>\n",
       "      <td>3</td>\n",
       "      <td>3_0</td>\n",
       "      <td>True</td>\n",
       "      <td>II_III_II_III</td>\n",
       "      <td>d__Bacteria_p__Patescibacteria</td>\n",
       "    </tr>\n",
       "    <tr>\n",
       "      <th>2</th>\n",
       "      <td>TARA_SAMEA4397330_METAG_GFBBFFPE</td>\n",
       "      <td>d__Bacteria;p__Proteobacteria;c__Alphaproteoba...</td>\n",
       "      <td>88.16</td>\n",
       "      <td>1.10</td>\n",
       "      <td>4</td>\n",
       "      <td>4_1</td>\n",
       "      <td>True</td>\n",
       "      <td>II_II</td>\n",
       "      <td>d__Bacteria_p__Proteobacteria</td>\n",
       "    </tr>\n",
       "    <tr>\n",
       "      <th>3</th>\n",
       "      <td>GCA_030739585.1_ASM3073958v1_genomic</td>\n",
       "      <td>d__Archaea;p__Thermoproteota;c__Bathyarchaeia;...</td>\n",
       "      <td>93.93</td>\n",
       "      <td>1.87</td>\n",
       "      <td>5</td>\n",
       "      <td>5_1</td>\n",
       "      <td>True</td>\n",
       "      <td>III_B</td>\n",
       "      <td>d__Archaea_p__Thermoproteota</td>\n",
       "    </tr>\n",
       "    <tr>\n",
       "      <th>4</th>\n",
       "      <td>OceanDNA-b35769</td>\n",
       "      <td>d__Bacteria;p__Proteobacteria;c__Gammaproteoba...</td>\n",
       "      <td>95.16</td>\n",
       "      <td>0.59</td>\n",
       "      <td>6</td>\n",
       "      <td>6_1</td>\n",
       "      <td>True</td>\n",
       "      <td>I</td>\n",
       "      <td>d__Bacteria_p__Proteobacteria</td>\n",
       "    </tr>\n",
       "  </tbody>\n",
       "</table>\n",
       "</div>"
      ],
      "text/plain": [
       "                                 genome  \\\n",
       "0                       OceanDNA-b21631   \n",
       "1                       OceanDNA-b21628   \n",
       "2      TARA_SAMEA4397330_METAG_GFBBFFPE   \n",
       "3  GCA_030739585.1_ASM3073958v1_genomic   \n",
       "4                       OceanDNA-b35769   \n",
       "\n",
       "                                      classification  checkm_completeness  \\\n",
       "0  d__Bacteria;p__Patescibacteria;c__Gracilibacte...                82.99   \n",
       "1  d__Bacteria;p__Patescibacteria;c__Gracilibacte...                79.21   \n",
       "2  d__Bacteria;p__Proteobacteria;c__Alphaproteoba...                88.16   \n",
       "3  d__Archaea;p__Thermoproteota;c__Bathyarchaeia;...                93.93   \n",
       "4  d__Bacteria;p__Proteobacteria;c__Gammaproteoba...                95.16   \n",
       "\n",
       "   checkm_redundancy  primary_cluster secondary_cluster  representative  \\\n",
       "0               2.48                1               1_0            True   \n",
       "1               2.09                3               3_0            True   \n",
       "2               1.10                4               4_1            True   \n",
       "3               1.87                5               5_1            True   \n",
       "4               0.59                6               6_1            True   \n",
       "\n",
       "  scluster_rubisco_set                          phylum  \n",
       "0        II_III_II_III  d__Bacteria_p__Patescibacteria  \n",
       "1        II_III_II_III  d__Bacteria_p__Patescibacteria  \n",
       "2                II_II   d__Bacteria_p__Proteobacteria  \n",
       "3                III_B    d__Archaea_p__Thermoproteota  \n",
       "4                    I   d__Bacteria_p__Proteobacteria  "
      ]
     },
     "execution_count": 5,
     "metadata": {},
     "output_type": "execute_result"
    }
   ],
   "source": [
    "nr_genomes = pd.read_csv(rootdir + \"tables/nonredundant_genome_info.tsv\", sep=\"\\t\")\n",
    "nr_genomes.head()"
   ]
  },
  {
   "cell_type": "code",
   "execution_count": 146,
   "metadata": {},
   "outputs": [
    {
     "data": {
      "text/html": [
       "<div>\n",
       "<style scoped>\n",
       "    .dataframe tbody tr th:only-of-type {\n",
       "        vertical-align: middle;\n",
       "    }\n",
       "\n",
       "    .dataframe tbody tr th {\n",
       "        vertical-align: top;\n",
       "    }\n",
       "\n",
       "    .dataframe thead th {\n",
       "        text-align: right;\n",
       "    }\n",
       "</style>\n",
       "<table border=\"1\" class=\"dataframe\">\n",
       "  <thead>\n",
       "    <tr style=\"text-align: right;\">\n",
       "      <th></th>\n",
       "      <th>function</th>\n",
       "      <th>genome_name</th>\n",
       "      <th>hit_count</th>\n",
       "      <th>hit_total</th>\n",
       "      <th>hit_perc</th>\n",
       "      <th>hit_kos</th>\n",
       "      <th>hit_ids</th>\n",
       "      <th>count_threshold</th>\n",
       "    </tr>\n",
       "  </thead>\n",
       "  <tbody>\n",
       "    <tr>\n",
       "      <th>0</th>\n",
       "      <td>Aerobic Hydrogen Oxidation</td>\n",
       "      <td>MARD_SAMEA2272692_REFG_MMP2272692</td>\n",
       "      <td>1</td>\n",
       "      <td>1</td>\n",
       "      <td>100.0</td>\n",
       "      <td>NiFe hydrogenase (1d, 1l, 2a)</td>\n",
       "      <td>MARD_MMP2272692_REFG-scaffold_10_10</td>\n",
       "      <td>1</td>\n",
       "    </tr>\n",
       "    <tr>\n",
       "      <th>1</th>\n",
       "      <td>Aerobic Hydrogen Oxidation</td>\n",
       "      <td>MARD_SAMEA3214536_REFG_MMP3214536</td>\n",
       "      <td>1</td>\n",
       "      <td>1</td>\n",
       "      <td>100.0</td>\n",
       "      <td>NiFe hydrogenase (1d, 1l, 2a)</td>\n",
       "      <td>MARD_MMP3214536_REFG-scaffold_171_4</td>\n",
       "      <td>1</td>\n",
       "    </tr>\n",
       "  </tbody>\n",
       "</table>\n",
       "</div>"
      ],
      "text/plain": [
       "                     function                        genome_name  hit_count  \\\n",
       "0  Aerobic Hydrogen Oxidation  MARD_SAMEA2272692_REFG_MMP2272692          1   \n",
       "1  Aerobic Hydrogen Oxidation  MARD_SAMEA3214536_REFG_MMP3214536          1   \n",
       "\n",
       "   hit_total  hit_perc                        hit_kos  \\\n",
       "0          1     100.0  NiFe hydrogenase (1d, 1l, 2a)   \n",
       "1          1     100.0  NiFe hydrogenase (1d, 1l, 2a)   \n",
       "\n",
       "                               hit_ids  count_threshold  \n",
       "0  MARD_MMP2272692_REFG-scaffold_10_10                1  \n",
       "1  MARD_MMP3214536_REFG-scaffold_171_4                1  "
      ]
     },
     "execution_count": 146,
     "metadata": {},
     "output_type": "execute_result"
    }
   ],
   "source": [
    "# metabolisms\n",
    "pathways = pd.read_csv(rootdir + \"tables/metabolic_pathway_info.tsv\", sep=\"\\t\")\n",
    "pathways.head(2)"
   ]
  },
  {
   "cell_type": "markdown",
   "metadata": {},
   "source": [
    "### prep genomes"
   ]
  },
  {
   "cell_type": "code",
   "execution_count": null,
   "metadata": {},
   "outputs": [],
   "source": [
    "# create fasta, genes, stb for nr db\n",
    "fasta = open(rootdir + \"txomics/nonredundant_genomes.fna\", \"w\")\n",
    "stb = open(rootdir + \"txomics/nonredundant_genomes.stb\", \"w\")\n",
    "\n",
    "for key, row in nr_genomes.iterrows():\n",
    "    \n",
    "    # locate the file\n",
    "    gpath = rootdir + \"genomes/first_pass/%s.fa\" %(row[\"genome\"])\n",
    "    \n",
    "    # write merged fasta and stb\n",
    "    for record in sfp(open(gpath)):\n",
    "        fasta.write(\">%s\\n%s\\n\" %(record[0].split(\" \")[0], record[1]))\n",
    "        stb.write(\"%s\\t%s\\n\" %(record[0].split(\" \")[0], row[\"genome\"]))\n",
    "\n",
    "fasta.close()\n",
    "stb.close()"
   ]
  },
  {
   "cell_type": "code",
   "execution_count": null,
   "metadata": {},
   "outputs": [],
   "source": [
    "# create bowtie idx\n",
    "cmd = \"bowtie2-build %s %s\" %(rootdir + \"txomics/nonredundant_genomes.fna\", \\\n",
    "                              rootdir + \"txomics/mapping/nr_genomes.idx\")\n",
    "print(cmd)"
   ]
  },
  {
   "cell_type": "code",
   "execution_count": null,
   "metadata": {},
   "outputs": [],
   "source": [
    "# write to snakefile config\n",
    "with open(rootdir + \"txomics/mapping/config.yaml\", \"w\") as out:\n",
    "    \n",
    "    out.write(\"fasta: %s\\n\" %(rootdir + \"txomics/nonredundant_genomes.fna\"))\n",
    "    out.write(\"stbfile: %s\\n\" %(rootdir + \"txomics/nonredundant_genomes.stb\"))\n",
    "    out.write(\"idx: %s\\n\" %(rootdir + \"txomics/mapping/nr_genomes.idx\"))"
   ]
  },
  {
   "cell_type": "markdown",
   "metadata": {},
   "source": [
    "### get input data - major cruises"
   ]
  },
  {
   "cell_type": "code",
   "execution_count": 5,
   "metadata": {},
   "outputs": [],
   "source": [
    "Entrez.email = \"ajaffe@stanford.edu\""
   ]
  },
  {
   "cell_type": "code",
   "execution_count": 12,
   "metadata": {},
   "outputs": [],
   "source": [
    "def retrieve_depth(biosample):\n",
    "    \n",
    "    try:\n",
    "        # get biosam_id\n",
    "        handle = Entrez.esearch(db='biosample', term=biosample + ' AND \"biosample sra\"[filter]', RetMax=10)\n",
    "        soup = BeautifulSoup(handle, \"html.parser\")\n",
    "        biosam = [item.string for item in soup.find(\"id\")]\n",
    "\n",
    "        handle.close()\n",
    "        # query biosample with that id\n",
    "        handle = Entrez.efetch(db=\"biosample\", id=biosam, rettype=\"summary\", retmode=\"xml\")\n",
    "        soup = BeautifulSoup(handle, \"html.parser\")\n",
    "        handle.close() \n",
    "    except:\n",
    "        print(\"%s failed.\" %(biosample))\n",
    "        return \"None\"\n",
    "    \n",
    "    attrs = {}\n",
    "    for attribute in soup.findAll(\"attribute\"):\n",
    "        attrs[attribute[\"attribute_name\"]] = attribute.string\n",
    "\n",
    "    for field in ['depth']:\n",
    "        if field in attrs.keys():\n",
    "            return(attrs[field])\n",
    "        else: return \"None\""
   ]
  },
  {
   "cell_type": "code",
   "execution_count": 15,
   "metadata": {},
   "outputs": [
    {
     "name": "stdout",
     "output_type": "stream",
     "text": [
      "SAMEA2620136,SAMEA2620147,SAMEA2620158,SAMEA2620169 failed.\n",
      "SAMEA2621041 failed.\n",
      "SAMEA2623734,SAMEA2623735 failed.\n",
      "SAMEA2623808,SAMEA2623809 failed.\n",
      "SAMEA2623850,SAMEA2623851 failed.\n",
      "SAMEA2623925,SAMEA2623929,SAMEA2623931 failed.\n",
      "SAMEA2623974,SAMEA2624000 failed.\n"
     ]
    },
    {
     "data": {
      "text/html": [
       "<div>\n",
       "<style scoped>\n",
       "    .dataframe tbody tr th:only-of-type {\n",
       "        vertical-align: middle;\n",
       "    }\n",
       "\n",
       "    .dataframe tbody tr th {\n",
       "        vertical-align: top;\n",
       "    }\n",
       "\n",
       "    .dataframe thead th {\n",
       "        text-align: right;\n",
       "    }\n",
       "</style>\n",
       "<table border=\"1\" class=\"dataframe\">\n",
       "  <thead>\n",
       "    <tr style=\"text-align: right;\">\n",
       "      <th></th>\n",
       "      <th>sample_name</th>\n",
       "      <th>internal_sample_name</th>\n",
       "      <th>sample_material</th>\n",
       "      <th>study_accessions</th>\n",
       "      <th>sample_accessions</th>\n",
       "      <th>run_accessions</th>\n",
       "      <th>internal_run_accessions</th>\n",
       "      <th>depth</th>\n",
       "    </tr>\n",
       "  </thead>\n",
       "  <tbody>\n",
       "    <tr>\n",
       "      <th>0</th>\n",
       "      <td>TARA_SAMEA3905024_METAT</td>\n",
       "      <td>TARA_011_SRF_0.22-1.6_T</td>\n",
       "      <td>TARA_011_SRF_0.22-1.6</td>\n",
       "      <td>PRJEB6608</td>\n",
       "      <td>SAMEA3905024</td>\n",
       "      <td>ERR1336912,ERR1336911</td>\n",
       "      <td>BEZ_ADGAOSW_3_C7BWPACXX.IND3_noribo_clean,BEZ_...</td>\n",
       "      <td>5</td>\n",
       "    </tr>\n",
       "    <tr>\n",
       "      <th>1</th>\n",
       "      <td>TARA_SAMEA2619639_METAT</td>\n",
       "      <td>TARA_015_SRF_0.22-1.6_T</td>\n",
       "      <td>TARA_015_SRF_0.22-1.6</td>\n",
       "      <td>PRJEB6608</td>\n",
       "      <td>SAMEA2619639</td>\n",
       "      <td>ERR3586985,ERR3587078</td>\n",
       "      <td>BEZ_ADHAOSW_1_C8D3YACXX.IND5_noribo_clean,BEZ_...</td>\n",
       "      <td>5</td>\n",
       "    </tr>\n",
       "    <tr>\n",
       "      <th>2</th>\n",
       "      <td>TARA_SAMEA2619647_METAT</td>\n",
       "      <td>TARA_016_SRF_0.22-1.6_T</td>\n",
       "      <td>TARA_016_SRF_0.22-1.6</td>\n",
       "      <td>PRJEB6608</td>\n",
       "      <td>SAMEA2619647</td>\n",
       "      <td>ERR3586986,ERR3587079</td>\n",
       "      <td>BEZ_ADIAOSW_2_C8D3YACXX.IND11_noribo_clean,BEZ...</td>\n",
       "      <td>5</td>\n",
       "    </tr>\n",
       "    <tr>\n",
       "      <th>3</th>\n",
       "      <td>TARA_SAMEA2619669_METAT</td>\n",
       "      <td>TARA_018_SRF_0.22-1.6_T</td>\n",
       "      <td>TARA_018_SRF_0.22-1.6</td>\n",
       "      <td>PRJEB6608</td>\n",
       "      <td>SAMEA2619669</td>\n",
       "      <td>ERR3586987,ERR3587080</td>\n",
       "      <td>BEZ_ADKAOSW_3_C8D3YACXX.IND12_noribo_clean,BEZ...</td>\n",
       "      <td>5</td>\n",
       "    </tr>\n",
       "    <tr>\n",
       "      <th>4</th>\n",
       "      <td>TARA_SAMEA2619691_METAT</td>\n",
       "      <td>TARA_019_SRF_0.22-1.6_T</td>\n",
       "      <td>TARA_019_SRF_0.22-1.6</td>\n",
       "      <td>PRJEB6608</td>\n",
       "      <td>SAMEA2619691</td>\n",
       "      <td>ERR3586988,ERR3587081</td>\n",
       "      <td>BEZ_ADLAOSW_4_C8D3YACXX.IND1_noribo_clean,BEZ_...</td>\n",
       "      <td>5</td>\n",
       "    </tr>\n",
       "  </tbody>\n",
       "</table>\n",
       "</div>"
      ],
      "text/plain": [
       "               sample_name     internal_sample_name        sample_material  \\\n",
       "0  TARA_SAMEA3905024_METAT  TARA_011_SRF_0.22-1.6_T  TARA_011_SRF_0.22-1.6   \n",
       "1  TARA_SAMEA2619639_METAT  TARA_015_SRF_0.22-1.6_T  TARA_015_SRF_0.22-1.6   \n",
       "2  TARA_SAMEA2619647_METAT  TARA_016_SRF_0.22-1.6_T  TARA_016_SRF_0.22-1.6   \n",
       "3  TARA_SAMEA2619669_METAT  TARA_018_SRF_0.22-1.6_T  TARA_018_SRF_0.22-1.6   \n",
       "4  TARA_SAMEA2619691_METAT  TARA_019_SRF_0.22-1.6_T  TARA_019_SRF_0.22-1.6   \n",
       "\n",
       "  study_accessions sample_accessions         run_accessions  \\\n",
       "0        PRJEB6608      SAMEA3905024  ERR1336912,ERR1336911   \n",
       "1        PRJEB6608      SAMEA2619639  ERR3586985,ERR3587078   \n",
       "2        PRJEB6608      SAMEA2619647  ERR3586986,ERR3587079   \n",
       "3        PRJEB6608      SAMEA2619669  ERR3586987,ERR3587080   \n",
       "4        PRJEB6608      SAMEA2619691  ERR3586988,ERR3587081   \n",
       "\n",
       "                             internal_run_accessions depth  \n",
       "0  BEZ_ADGAOSW_3_C7BWPACXX.IND3_noribo_clean,BEZ_...     5  \n",
       "1  BEZ_ADHAOSW_1_C8D3YACXX.IND5_noribo_clean,BEZ_...     5  \n",
       "2  BEZ_ADIAOSW_2_C8D3YACXX.IND11_noribo_clean,BEZ...     5  \n",
       "3  BEZ_ADKAOSW_3_C8D3YACXX.IND12_noribo_clean,BEZ...     5  \n",
       "4  BEZ_ADLAOSW_4_C8D3YACXX.IND1_noribo_clean,BEZ_...     5  "
      ]
     },
     "execution_count": 15,
     "metadata": {},
     "output_type": "execute_result"
    }
   ],
   "source": [
    "# full sample table - tara\n",
    "omd_metadata = pd.read_csv(rootdir + \"tables/omd_tara_metat.csv\")\n",
    "depths = [retrieve_depth(item) for item in omd_metadata[\"sample_accessions\"]]\n",
    "omd_metadata[\"depth\"] = depths\n",
    "omd_metadata.head()"
   ]
  },
  {
   "cell_type": "code",
   "execution_count": null,
   "metadata": {},
   "outputs": [],
   "source": [
    "with open(rootdir + \"txomics/mapping/sample_list.tsv\", \"w\") as out:\n",
    "    for key, row in omd_metadata.iterrows():\n",
    "        out.write(\"%s\\t%s\\n\" %(row[\"sample_name\"], row[\"run_accessions\"]))"
   ]
  },
  {
   "cell_type": "markdown",
   "metadata": {},
   "source": [
    "### various omz studies"
   ]
  },
  {
   "cell_type": "code",
   "execution_count": 17,
   "metadata": {},
   "outputs": [
    {
     "data": {
      "text/plain": [
       "67"
      ]
     },
     "execution_count": 17,
     "metadata": {},
     "output_type": "execute_result"
    }
   ],
   "source": [
    "query = 'PRJNA263621 OR PRJNA407229 OR PRJNA277357 OR PRJNA306182'\n",
    "handle = Entrez.esearch(db='sra', term=query, RetMax=20000)\n",
    "# parse the handle\n",
    "soup = BeautifulSoup(handle, \"html.parser\")\n",
    "handle.close()\n",
    "# then grab the uIds\n",
    "sra_ids = [item.string for item in soup.findAll(\"id\")]\n",
    "len(sra_ids)"
   ]
  },
  {
   "cell_type": "code",
   "execution_count": 18,
   "metadata": {},
   "outputs": [
    {
     "name": "stdout",
     "output_type": "stream",
     "text": [
      "67 of 67 done.\r"
     ]
    }
   ],
   "source": [
    "results = defaultdict(list)\n",
    "\n",
    "for i,sra_id in enumerate(sra_ids):\n",
    "    \n",
    "    try:\n",
    "        handle = Entrez.efetch(db=\"sra\", id=sra_id, rettype=\"runinfo\", retmode=\"xml\")\n",
    "        soup = BeautifulSoup(handle, \"html.parser\")\n",
    "        handle.close()\n",
    "    except:\n",
    "        print(\"%s failed.\" %(sra_id))\n",
    "        continue\n",
    "\n",
    "    for row in soup.findAll(\"row\"):\n",
    "        for attribute in [\"bases\",\"bioproject\", \"biosample\", \"experiment\", \"run\", \"libraryname\", \"samplename\",\n",
    "                          \"scientificname\", \"releasedate\", \"spots\",  \n",
    "                        \"avglength\", \"librarystrategy\", \"librarysource\", \"librarylayout\",\"platform\"]:\n",
    "            try:\n",
    "                results[attribute].append(row.find(attribute).string)\n",
    "            except: results[attribute].append(\"None\")\n",
    "    \n",
    "    print(\"%d of %d done.\" %(i+1, len(sra_ids)), end = \"\\r\")"
   ]
  },
  {
   "cell_type": "code",
   "execution_count": 19,
   "metadata": {},
   "outputs": [],
   "source": [
    "resultdf = pd.DataFrame(results).query(\"librarysource=='METATRANSCRIPTOMIC'\")\n",
    "resultdf[\"depth\"] = resultdf[\"samplename\"].apply(lambda x: x.split(\"_\")[-1].strip(\"m\") if \\\n",
    "                                                  x.startswith(\"ETNP\") else x.split(\"_\")[0].strip(\"m\"))\n",
    "\n",
    "#with open(rootdir + \"txomics/mapping/sample_list.tsv\", \"a\") as out:\n",
    "#    for key, row in resultdf.iterrows():\n",
    "#        out.write(\"%s\\t%s\\n\" %(row[\"samplename\"].replace(\">\",\"\"), row[\"run\"]))"
   ]
  },
  {
   "cell_type": "markdown",
   "metadata": {},
   "source": [
    "### run + check"
   ]
  },
  {
   "cell_type": "markdown",
   "metadata": {},
   "source": [
    "Move snakefile from local into `/mapping`, with instrain step removed."
   ]
  },
  {
   "cell_type": "code",
   "execution_count": null,
   "metadata": {},
   "outputs": [],
   "source": [
    "cmd = 'snakemake --keep-going -s RNASnakefile \\\n",
    "      --config sample_list=%s genome_table=%s maxthreads=20 \\\n",
    "      --cluster \"sbatch -p serc -c 20 -t 1- --mem 160G\" --jobs 25' %(rootdir + \"txomics/mapping/sample_list.tsv\",\n",
    "                                                                     rootdir + \"tables/nonredundant_genome_info.tsv\")\n",
    "print(cmd)"
   ]
  },
  {
   "cell_type": "code",
   "execution_count": null,
   "metadata": {},
   "outputs": [],
   "source": [
    "attempted = list(omd_metadata[\"sample_name\"]) + list(resultdf[\"samplename\"])\n",
    "succeeded = glob.glob(rootdir + \"txomics/mapping/output/*tsv\")\n",
    "\n",
    "print(\"%d of %d samples successfully mapped.\" %(len(succeeded), len(attempted)))"
   ]
  },
  {
   "cell_type": "markdown",
   "metadata": {},
   "source": [
    "## process"
   ]
  },
  {
   "cell_type": "markdown",
   "metadata": {},
   "source": [
    "### filter"
   ]
  },
  {
   "cell_type": "code",
   "execution_count": null,
   "metadata": {},
   "outputs": [],
   "source": [
    "def filter_sample(output_file):\n",
    "    \n",
    "    start=time.time()\n",
    "    filtered_results = []\n",
    "    sample_table = pd.read_csv(output_file, sep=\"\\t\")\n",
    "    \n",
    "    for genome in sample_table[\"genome\"].unique():\n",
    "        \n",
    "        subtable = sample_table[sample_table[\"genome\"]==genome]\n",
    "        \n",
    "        # min gene expressed threshold\n",
    "        if len(subtable.query(\"breadth>0.50\"))>=50:\n",
    "        \n",
    "            # then remove high outliers\n",
    "            genes_to_remove = []\n",
    "            counts = subtable[\"mean_coverage\"].to_list()\n",
    "            median = np.median([count for count in counts if count != 0])\n",
    "\n",
    "            for i, count in enumerate(counts):\n",
    "                if count > (median*10000):\n",
    "                    genes_to_remove.append(subtable[\"gene\"].to_list()[i])\n",
    "            \n",
    "            filtered_results.append(subtable[~subtable[\"gene\"].isin(genes_to_remove)])\n",
    "            \n",
    "    end = time.time()\n",
    "    print(\"%s finished in %f seconds.\" %(os.path.basename(output_file), end-start))\n",
    "    \n",
    "    if len(filtered_results) > 0:\n",
    "        return pd.concat(filtered_results)\n",
    "    else: return \"None\""
   ]
  },
  {
   "cell_type": "code",
   "execution_count": null,
   "metadata": {},
   "outputs": [],
   "source": [
    "%%time\n",
    "\n",
    "with ProcessPoolExecutor(10) as executor:\n",
    "    samples = glob.glob(rootdir + \"txomics/mapping/output/*tsv\")\n",
    "    results = list(executor.map(filter_sample, samples))\n",
    "\n",
    "all_results = pd.concat([result for result in results if type(result) != str])\n",
    "all_results = all_results[[\"sample\", \"genome\", \"gene\", \"mean_coverage\", \"breadth\", \"read_count\"]]\n",
    "#all_results.to_csv(rootdir + \"tables/filtered_txome_output.tsv\", sep=\"\\t\")"
   ]
  },
  {
   "cell_type": "code",
   "execution_count": null,
   "metadata": {},
   "outputs": [],
   "source": [
    "cmd = \"rclone copy %s drive:deepeco/tables\" %(rootdir + \"tables/filtered_txome_output.tsv\")\n",
    "print(cmd)"
   ]
  },
  {
   "cell_type": "markdown",
   "metadata": {},
   "source": [
    "### calculate rpkm"
   ]
  },
  {
   "cell_type": "code",
   "execution_count": 6,
   "metadata": {},
   "outputs": [],
   "source": [
    "all_results = pd.read_csv(rootdir + \"tables/filtered_txome_output.tsv\", sep=\"\\t\")"
   ]
  },
  {
   "cell_type": "code",
   "execution_count": 7,
   "metadata": {},
   "outputs": [],
   "source": [
    "tmp = {}\n",
    "\n",
    "for key, row in nr_genomes.iterrows():\n",
    "    gpath = rootdir + \"genomes/prodigal/%s.genes.fna\" %(row[\"genome\"])\n",
    "    for record in sfp(open(gpath)):\n",
    "        tmp[record[0].split(\" \")[0]] = len(record[1])\n",
    "\n",
    "all_results[\"gene_length\"] = all_results[\"gene\"].map(tmp)\n",
    "tmp={}"
   ]
  },
  {
   "cell_type": "code",
   "execution_count": 8,
   "metadata": {},
   "outputs": [],
   "source": [
    "tmp = {}\n",
    "\n",
    "for sample in glob.glob(rootdir + \"txomics/mapping/trimmed_reads/counts/*\"):\n",
    "    for line in open(sample).readlines():\n",
    "        tmp[line.split(\"\\t\")[0]] = int(line.split(\"\\t\")[1].strip())\n",
    "\n",
    "all_results[\"total_read_count\"] = all_results[\"sample\"].map(tmp)\n",
    "tmp = {}"
   ]
  },
  {
   "cell_type": "code",
   "execution_count": 9,
   "metadata": {},
   "outputs": [
    {
     "data": {
      "text/html": [
       "<div>\n",
       "<style scoped>\n",
       "    .dataframe tbody tr th:only-of-type {\n",
       "        vertical-align: middle;\n",
       "    }\n",
       "\n",
       "    .dataframe tbody tr th {\n",
       "        vertical-align: top;\n",
       "    }\n",
       "\n",
       "    .dataframe thead th {\n",
       "        text-align: right;\n",
       "    }\n",
       "</style>\n",
       "<table border=\"1\" class=\"dataframe\">\n",
       "  <thead>\n",
       "    <tr style=\"text-align: right;\">\n",
       "      <th></th>\n",
       "      <th>Unnamed: 0</th>\n",
       "      <th>sample</th>\n",
       "      <th>genome</th>\n",
       "      <th>gene</th>\n",
       "      <th>mean_coverage</th>\n",
       "      <th>breadth</th>\n",
       "      <th>read_count</th>\n",
       "      <th>gene_length</th>\n",
       "      <th>total_read_count</th>\n",
       "      <th>rpk</th>\n",
       "      <th>rpkm</th>\n",
       "    </tr>\n",
       "  </thead>\n",
       "  <tbody>\n",
       "    <tr>\n",
       "      <th>0</th>\n",
       "      <td>306706</td>\n",
       "      <td>TARA_SAMEA2623830_METAT</td>\n",
       "      <td>AG-333-E20</td>\n",
       "      <td>CABYJX010000001.1_1</td>\n",
       "      <td>0.05</td>\n",
       "      <td>0.053680</td>\n",
       "      <td>1</td>\n",
       "      <td>1155</td>\n",
       "      <td>315435310</td>\n",
       "      <td>1.731602</td>\n",
       "      <td>0.005490</td>\n",
       "    </tr>\n",
       "    <tr>\n",
       "      <th>1</th>\n",
       "      <td>306707</td>\n",
       "      <td>TARA_SAMEA2623830_METAT</td>\n",
       "      <td>AG-333-E20</td>\n",
       "      <td>CABYJX010000001.1_2</td>\n",
       "      <td>0.42</td>\n",
       "      <td>0.230159</td>\n",
       "      <td>3</td>\n",
       "      <td>882</td>\n",
       "      <td>315435310</td>\n",
       "      <td>6.802721</td>\n",
       "      <td>0.021566</td>\n",
       "    </tr>\n",
       "  </tbody>\n",
       "</table>\n",
       "</div>"
      ],
      "text/plain": [
       "   Unnamed: 0                   sample      genome                 gene  \\\n",
       "0      306706  TARA_SAMEA2623830_METAT  AG-333-E20  CABYJX010000001.1_1   \n",
       "1      306707  TARA_SAMEA2623830_METAT  AG-333-E20  CABYJX010000001.1_2   \n",
       "\n",
       "   mean_coverage   breadth  read_count  gene_length  total_read_count  \\\n",
       "0           0.05  0.053680           1         1155         315435310   \n",
       "1           0.42  0.230159           3          882         315435310   \n",
       "\n",
       "        rpk      rpkm  \n",
       "0  1.731602  0.005490  \n",
       "1  6.802721  0.021566  "
      ]
     },
     "execution_count": 9,
     "metadata": {},
     "output_type": "execute_result"
    }
   ],
   "source": [
    "# consider rewriting this in dask\n",
    "all_results[\"rpk\"] = all_results.apply(lambda x: (x[\"read_count\"]*2)/(x[\"gene_length\"]/1000), axis=1)\n",
    "all_results[\"rpkm\"] = all_results.apply(lambda x: x[\"rpk\"]/(x[\"total_read_count\"]/1e6), axis=1)\n",
    "all_results.head(2)"
   ]
  },
  {
   "cell_type": "markdown",
   "metadata": {},
   "source": [
    "## analyze"
   ]
  },
  {
   "cell_type": "markdown",
   "metadata": {},
   "source": [
    "### bring back metadata"
   ]
  },
  {
   "cell_type": "code",
   "execution_count": 10,
   "metadata": {},
   "outputs": [],
   "source": [
    "palette={\"I\":\"#A6D6A6\", \"I,II_II\":\"#c9bd75\", \"II_II\":\"#E2B2AC\", \"II_III_II_III\":\"#ff995c\",\n",
    "         \"III_A\": \"#EDB66E\", \"III_B\": \"#EDB66E\", \"III_C\": \"#EDB66E\", \"III_Like\": \"#EDB66E\", \"IV\":\"darkgrey\",\n",
    "         \"III_UNK\": \"darkgrey\"}"
   ]
  },
  {
   "cell_type": "code",
   "execution_count": 165,
   "metadata": {},
   "outputs": [
    {
     "data": {
      "text/html": [
       "<div>\n",
       "<style scoped>\n",
       "    .dataframe tbody tr th:only-of-type {\n",
       "        vertical-align: middle;\n",
       "    }\n",
       "\n",
       "    .dataframe tbody tr th {\n",
       "        vertical-align: top;\n",
       "    }\n",
       "\n",
       "    .dataframe thead th {\n",
       "        text-align: right;\n",
       "    }\n",
       "</style>\n",
       "<table border=\"1\" class=\"dataframe\">\n",
       "  <thead>\n",
       "    <tr style=\"text-align: right;\">\n",
       "      <th></th>\n",
       "      <th>sample_name</th>\n",
       "      <th>biosample</th>\n",
       "      <th>runs</th>\n",
       "      <th>depth</th>\n",
       "      <th>depth_numeric</th>\n",
       "    </tr>\n",
       "  </thead>\n",
       "  <tbody>\n",
       "    <tr>\n",
       "      <th>0</th>\n",
       "      <td>TARA_SAMEA3905024_METAT</td>\n",
       "      <td>SAMEA3905024</td>\n",
       "      <td>ERR1336912,ERR1336911</td>\n",
       "      <td>5</td>\n",
       "      <td>5</td>\n",
       "    </tr>\n",
       "    <tr>\n",
       "      <th>1</th>\n",
       "      <td>TARA_SAMEA2619639_METAT</td>\n",
       "      <td>SAMEA2619639</td>\n",
       "      <td>ERR3586985,ERR3587078</td>\n",
       "      <td>5</td>\n",
       "      <td>5</td>\n",
       "    </tr>\n",
       "    <tr>\n",
       "      <th>2</th>\n",
       "      <td>TARA_SAMEA2619647_METAT</td>\n",
       "      <td>SAMEA2619647</td>\n",
       "      <td>ERR3586986,ERR3587079</td>\n",
       "      <td>5</td>\n",
       "      <td>5</td>\n",
       "    </tr>\n",
       "    <tr>\n",
       "      <th>3</th>\n",
       "      <td>TARA_SAMEA2619669_METAT</td>\n",
       "      <td>SAMEA2619669</td>\n",
       "      <td>ERR3586987,ERR3587080</td>\n",
       "      <td>5</td>\n",
       "      <td>5</td>\n",
       "    </tr>\n",
       "    <tr>\n",
       "      <th>4</th>\n",
       "      <td>TARA_SAMEA2619691_METAT</td>\n",
       "      <td>SAMEA2619691</td>\n",
       "      <td>ERR3586988,ERR3587081</td>\n",
       "      <td>5</td>\n",
       "      <td>5</td>\n",
       "    </tr>\n",
       "  </tbody>\n",
       "</table>\n",
       "</div>"
      ],
      "text/plain": [
       "               sample_name     biosample                   runs depth  \\\n",
       "0  TARA_SAMEA3905024_METAT  SAMEA3905024  ERR1336912,ERR1336911     5   \n",
       "1  TARA_SAMEA2619639_METAT  SAMEA2619639  ERR3586985,ERR3587078     5   \n",
       "2  TARA_SAMEA2619647_METAT  SAMEA2619647  ERR3586986,ERR3587079     5   \n",
       "3  TARA_SAMEA2619669_METAT  SAMEA2619669  ERR3586987,ERR3587080     5   \n",
       "4  TARA_SAMEA2619691_METAT  SAMEA2619691  ERR3586988,ERR3587081     5   \n",
       "\n",
       "   depth_numeric  \n",
       "0              5  \n",
       "1              5  \n",
       "2              5  \n",
       "3              5  \n",
       "4              5  "
      ]
     },
     "execution_count": 165,
     "metadata": {},
     "output_type": "execute_result"
    }
   ],
   "source": [
    "metat_md = pd.concat([omd_metadata[~omd_metadata[\"depth\"].isin([\"None\", \n",
    "                        \"10-100\"])][[\"sample_name\", \"sample_accessions\", \"run_accessions\", \"depth\"]].rename(columns={\"sample_accessions\":\"biosample\", \"run_accessions\":\"runs\"}),\n",
    "                      resultdf[[\"samplename\", \"biosample\", \"depth\", \"run\"]].rename(columns={\"samplename\":\"sample_name\", \"run\":\"runs\"})])\n",
    "metat_md[\"depth_numeric\"] = metat_md[\"depth\"].apply(lambda x: int(x))\n",
    "deep_samples = metat_md.query(\"depth_numeric>=200\")[\"sample_name\"].to_list()\n",
    "metat_md.head()"
   ]
  },
  {
   "cell_type": "markdown",
   "metadata": {},
   "source": [
    "### rubisco specific"
   ]
  },
  {
   "cell_type": "code",
   "execution_count": 25,
   "metadata": {},
   "outputs": [],
   "source": [
    "rubisco = pd.read_csv(rootdir + \"tables/redundant_rubisco_info.tsv\", sep=\"\\t\")\n",
    "rmerge = all_results.merge(rubisco[[\"gene\", \"curated_rubisco_form\"]], how=\"left\", on=\"gene\").fillna(\"None\")\n",
    "rmerge = rmerge.merge(nr_genomes[[\"genome\", \"classification\"]], how=\"left\", on=\"genome\")"
   ]
  },
  {
   "cell_type": "code",
   "execution_count": 10,
   "metadata": {},
   "outputs": [],
   "source": [
    "def compute_percentile(row):\n",
    "    \n",
    "    if row[\"rpkm\"] == 0:\n",
    "        return [row[\"genome\"], row[\"sample\"], row[\"gene\"], 0]\n",
    "    else:\n",
    "        distribution = list(all_results[(all_results[\"genome\"]==row[\"genome\"]) &\\\n",
    "                           (all_results[\"sample\"]==row[\"sample\"]) &  (all_results[\"breadth\"]>=0.50)  & \\\n",
    "                            (all_results[\"gene\"]!=row[\"gene\"])][\"rpkm\"])\n",
    "        percentile = stats.percentileofscore(distribution, row[\"rpkm\"], kind=\"rank\")\n",
    "        return [row[\"genome\"], row[\"sample\"], row[\"gene\"], percentile]"
   ]
  },
  {
   "cell_type": "code",
   "execution_count": 11,
   "metadata": {},
   "outputs": [
    {
     "data": {
      "text/html": [
       "<div>\n",
       "<style scoped>\n",
       "    .dataframe tbody tr th:only-of-type {\n",
       "        vertical-align: middle;\n",
       "    }\n",
       "\n",
       "    .dataframe tbody tr th {\n",
       "        vertical-align: top;\n",
       "    }\n",
       "\n",
       "    .dataframe thead th {\n",
       "        text-align: right;\n",
       "    }\n",
       "</style>\n",
       "<table border=\"1\" class=\"dataframe\">\n",
       "  <thead>\n",
       "    <tr style=\"text-align: right;\">\n",
       "      <th></th>\n",
       "      <th>genome</th>\n",
       "      <th>sample</th>\n",
       "      <th>gene</th>\n",
       "      <th>percentile</th>\n",
       "    </tr>\n",
       "  </thead>\n",
       "  <tbody>\n",
       "    <tr>\n",
       "      <th>0</th>\n",
       "      <td>AG-333-E20</td>\n",
       "      <td>TARA_SAMEA2623830_METAT</td>\n",
       "      <td>CABYJX010000030.1_9</td>\n",
       "      <td>0.000000</td>\n",
       "    </tr>\n",
       "    <tr>\n",
       "      <th>1</th>\n",
       "      <td>TARA_SAMEA2622219_METAG_HPMPIAJL</td>\n",
       "      <td>TARA_SAMEA2623830_METAT</td>\n",
       "      <td>TARA_SAMEA2622219_METAG-scaffold_42861_1</td>\n",
       "      <td>0.000000</td>\n",
       "    </tr>\n",
       "    <tr>\n",
       "      <th>2</th>\n",
       "      <td>GORG_SAMEA6069932_SAGS_AG893G21</td>\n",
       "      <td>TARA_SAMEA2623830_METAT</td>\n",
       "      <td>GORG_AG893G21_SAGS-scaffold_1_149</td>\n",
       "      <td>0.000000</td>\n",
       "    </tr>\n",
       "    <tr>\n",
       "      <th>3</th>\n",
       "      <td>TARA_SAMEA2619766_METAG_GANBJGDD</td>\n",
       "      <td>TARA_SAMEA2623830_METAT</td>\n",
       "      <td>TARA_SAMEA2619766_METAG-scaffold_3601_3</td>\n",
       "      <td>0.000000</td>\n",
       "    </tr>\n",
       "    <tr>\n",
       "      <th>4</th>\n",
       "      <td>GORG_SAMEA6080110_SAGS_AG435J13</td>\n",
       "      <td>TARA_SAMEA2623830_METAT</td>\n",
       "      <td>GORG_AG435J13_SAGS-scaffold_2_74</td>\n",
       "      <td>45.116279</td>\n",
       "    </tr>\n",
       "  </tbody>\n",
       "</table>\n",
       "</div>"
      ],
      "text/plain": [
       "                             genome                   sample  \\\n",
       "0                        AG-333-E20  TARA_SAMEA2623830_METAT   \n",
       "1  TARA_SAMEA2622219_METAG_HPMPIAJL  TARA_SAMEA2623830_METAT   \n",
       "2   GORG_SAMEA6069932_SAGS_AG893G21  TARA_SAMEA2623830_METAT   \n",
       "3  TARA_SAMEA2619766_METAG_GANBJGDD  TARA_SAMEA2623830_METAT   \n",
       "4   GORG_SAMEA6080110_SAGS_AG435J13  TARA_SAMEA2623830_METAT   \n",
       "\n",
       "                                       gene  percentile  \n",
       "0                       CABYJX010000030.1_9    0.000000  \n",
       "1  TARA_SAMEA2622219_METAG-scaffold_42861_1    0.000000  \n",
       "2         GORG_AG893G21_SAGS-scaffold_1_149    0.000000  \n",
       "3   TARA_SAMEA2619766_METAG-scaffold_3601_3    0.000000  \n",
       "4          GORG_AG435J13_SAGS-scaffold_2_74   45.116279  "
      ]
     },
     "execution_count": 11,
     "metadata": {},
     "output_type": "execute_result"
    }
   ],
   "source": [
    "with ProcessPoolExecutor(10) as executor:\n",
    "    rows = [row for key, row in rmerge[(rmerge[\"curated_rubisco_form\"]!='None')].iterrows()]\n",
    "    results = list(executor.map(compute_percentile, rows))\n",
    "\n",
    "presults = pd.DataFrame(results, columns=[\"genome\", \"sample\", \"gene\", \"percentile\"])\n",
    "presults.head()"
   ]
  },
  {
   "cell_type": "code",
   "execution_count": 12,
   "metadata": {},
   "outputs": [],
   "source": [
    "#all_merge = rmerge[(rmerge[\"curated_rubisco_form\"]!='None')].merge(presults, how=\"left\", on=[\"genome\", \"sample\", \"gene\"])\n",
    "#all_merge.to_csv(rootdir + \"tables/rubisco_txome_output.tsv\", sep=\"\\t\")"
   ]
  },
  {
   "cell_type": "code",
   "execution_count": 26,
   "metadata": {},
   "outputs": [
    {
     "data": {
      "text/html": [
       "<div>\n",
       "<style scoped>\n",
       "    .dataframe tbody tr th:only-of-type {\n",
       "        vertical-align: middle;\n",
       "    }\n",
       "\n",
       "    .dataframe tbody tr th {\n",
       "        vertical-align: top;\n",
       "    }\n",
       "\n",
       "    .dataframe thead th {\n",
       "        text-align: right;\n",
       "    }\n",
       "</style>\n",
       "<table border=\"1\" class=\"dataframe\">\n",
       "  <thead>\n",
       "    <tr style=\"text-align: right;\">\n",
       "      <th></th>\n",
       "      <th>Unnamed: 0.1</th>\n",
       "      <th>Unnamed: 0</th>\n",
       "      <th>sample</th>\n",
       "      <th>genome</th>\n",
       "      <th>gene</th>\n",
       "      <th>mean_coverage</th>\n",
       "      <th>breadth</th>\n",
       "      <th>read_count</th>\n",
       "      <th>gene_length</th>\n",
       "      <th>total_read_count</th>\n",
       "      <th>rpk</th>\n",
       "      <th>rpkm</th>\n",
       "      <th>curated_rubisco_form</th>\n",
       "      <th>classification</th>\n",
       "      <th>percentile</th>\n",
       "    </tr>\n",
       "  </thead>\n",
       "  <tbody>\n",
       "    <tr>\n",
       "      <th>0</th>\n",
       "      <td>0</td>\n",
       "      <td>307902</td>\n",
       "      <td>TARA_SAMEA2623830_METAT</td>\n",
       "      <td>AG-333-E20</td>\n",
       "      <td>CABYJX010000030.1_9</td>\n",
       "      <td>0.00</td>\n",
       "      <td>0.000000</td>\n",
       "      <td>0</td>\n",
       "      <td>1455</td>\n",
       "      <td>315435310</td>\n",
       "      <td>0.000000</td>\n",
       "      <td>0.000000</td>\n",
       "      <td>I</td>\n",
       "      <td>d__Bacteria;p__Proteobacteria;c__Gammaproteoba...</td>\n",
       "      <td>0.000000</td>\n",
       "    </tr>\n",
       "    <tr>\n",
       "      <th>1</th>\n",
       "      <td>1</td>\n",
       "      <td>310801</td>\n",
       "      <td>TARA_SAMEA2623830_METAT</td>\n",
       "      <td>TARA_SAMEA2622219_METAG_HPMPIAJL</td>\n",
       "      <td>TARA_SAMEA2622219_METAG-scaffold_42861_1</td>\n",
       "      <td>0.00</td>\n",
       "      <td>0.000000</td>\n",
       "      <td>0</td>\n",
       "      <td>1491</td>\n",
       "      <td>315435310</td>\n",
       "      <td>0.000000</td>\n",
       "      <td>0.000000</td>\n",
       "      <td>I</td>\n",
       "      <td>d__Bacteria;p__Proteobacteria;c__Gammaproteoba...</td>\n",
       "      <td>0.000000</td>\n",
       "    </tr>\n",
       "    <tr>\n",
       "      <th>2</th>\n",
       "      <td>2</td>\n",
       "      <td>397680</td>\n",
       "      <td>TARA_SAMEA2623830_METAT</td>\n",
       "      <td>GORG_SAMEA6069932_SAGS_AG893G21</td>\n",
       "      <td>GORG_AG893G21_SAGS-scaffold_1_149</td>\n",
       "      <td>0.00</td>\n",
       "      <td>0.000000</td>\n",
       "      <td>0</td>\n",
       "      <td>1194</td>\n",
       "      <td>315435310</td>\n",
       "      <td>0.000000</td>\n",
       "      <td>0.000000</td>\n",
       "      <td>IV</td>\n",
       "      <td>d__Bacteria;p__Proteobacteria;c__Alphaproteoba...</td>\n",
       "      <td>0.000000</td>\n",
       "    </tr>\n",
       "    <tr>\n",
       "      <th>3</th>\n",
       "      <td>3</td>\n",
       "      <td>717621</td>\n",
       "      <td>TARA_SAMEA2623830_METAT</td>\n",
       "      <td>TARA_SAMEA2619766_METAG_GANBJGDD</td>\n",
       "      <td>TARA_SAMEA2619766_METAG-scaffold_3601_3</td>\n",
       "      <td>0.00</td>\n",
       "      <td>0.000000</td>\n",
       "      <td>0</td>\n",
       "      <td>1458</td>\n",
       "      <td>315435310</td>\n",
       "      <td>0.000000</td>\n",
       "      <td>0.000000</td>\n",
       "      <td>I</td>\n",
       "      <td>d__Bacteria;p__Proteobacteria;c__Alphaproteoba...</td>\n",
       "      <td>0.000000</td>\n",
       "    </tr>\n",
       "    <tr>\n",
       "      <th>4</th>\n",
       "      <td>4</td>\n",
       "      <td>719665</td>\n",
       "      <td>TARA_SAMEA2623830_METAT</td>\n",
       "      <td>GORG_SAMEA6080110_SAGS_AG435J13</td>\n",
       "      <td>GORG_AG435J13_SAGS-scaffold_2_74</td>\n",
       "      <td>1.64</td>\n",
       "      <td>0.672154</td>\n",
       "      <td>20</td>\n",
       "      <td>1458</td>\n",
       "      <td>315435310</td>\n",
       "      <td>27.434842</td>\n",
       "      <td>0.086975</td>\n",
       "      <td>I</td>\n",
       "      <td>d__Bacteria;p__Proteobacteria;c__Alphaproteoba...</td>\n",
       "      <td>45.116279</td>\n",
       "    </tr>\n",
       "  </tbody>\n",
       "</table>\n",
       "</div>"
      ],
      "text/plain": [
       "   Unnamed: 0.1  Unnamed: 0                   sample  \\\n",
       "0             0      307902  TARA_SAMEA2623830_METAT   \n",
       "1             1      310801  TARA_SAMEA2623830_METAT   \n",
       "2             2      397680  TARA_SAMEA2623830_METAT   \n",
       "3             3      717621  TARA_SAMEA2623830_METAT   \n",
       "4             4      719665  TARA_SAMEA2623830_METAT   \n",
       "\n",
       "                             genome                                      gene  \\\n",
       "0                        AG-333-E20                       CABYJX010000030.1_9   \n",
       "1  TARA_SAMEA2622219_METAG_HPMPIAJL  TARA_SAMEA2622219_METAG-scaffold_42861_1   \n",
       "2   GORG_SAMEA6069932_SAGS_AG893G21         GORG_AG893G21_SAGS-scaffold_1_149   \n",
       "3  TARA_SAMEA2619766_METAG_GANBJGDD   TARA_SAMEA2619766_METAG-scaffold_3601_3   \n",
       "4   GORG_SAMEA6080110_SAGS_AG435J13          GORG_AG435J13_SAGS-scaffold_2_74   \n",
       "\n",
       "   mean_coverage   breadth  read_count  gene_length  total_read_count  \\\n",
       "0           0.00  0.000000           0         1455         315435310   \n",
       "1           0.00  0.000000           0         1491         315435310   \n",
       "2           0.00  0.000000           0         1194         315435310   \n",
       "3           0.00  0.000000           0         1458         315435310   \n",
       "4           1.64  0.672154          20         1458         315435310   \n",
       "\n",
       "         rpk      rpkm curated_rubisco_form  \\\n",
       "0   0.000000  0.000000                    I   \n",
       "1   0.000000  0.000000                    I   \n",
       "2   0.000000  0.000000                   IV   \n",
       "3   0.000000  0.000000                    I   \n",
       "4  27.434842  0.086975                    I   \n",
       "\n",
       "                                      classification  percentile  \n",
       "0  d__Bacteria;p__Proteobacteria;c__Gammaproteoba...    0.000000  \n",
       "1  d__Bacteria;p__Proteobacteria;c__Gammaproteoba...    0.000000  \n",
       "2  d__Bacteria;p__Proteobacteria;c__Alphaproteoba...    0.000000  \n",
       "3  d__Bacteria;p__Proteobacteria;c__Alphaproteoba...    0.000000  \n",
       "4  d__Bacteria;p__Proteobacteria;c__Alphaproteoba...   45.116279  "
      ]
     },
     "execution_count": 26,
     "metadata": {},
     "output_type": "execute_result"
    }
   ],
   "source": [
    "all_merge = pd.read_csv(rootdir + \"tables/rubisco_txome_output.tsv\", sep=\"\\t\")\n",
    "all_merge.head()"
   ]
  },
  {
   "cell_type": "markdown",
   "metadata": {},
   "source": [
    "### plot general"
   ]
  },
  {
   "cell_type": "code",
   "execution_count": 27,
   "metadata": {
    "scrolled": false
   },
   "outputs": [
    {
     "data": {
      "image/png": "[encoded data removed]",
      "text/plain": [
       "<Figure size 360x576 with 1 Axes>"
      ]
     },
     "metadata": {
      "needs_background": "light"
     },
     "output_type": "display_data"
    }
   ],
   "source": [
    "plt.figure(figsize=[5,8])\n",
    "sns.stripplot(x=\"percentile\",y=\"curated_rubisco_form\", alpha=0.5, hue=\"curated_rubisco_form\",\n",
    "              palette=palette, size=7.5,\n",
    "              data=all_merge[(~all_merge[\"classification\"].str.contains(\"Cyano\")) & \n",
    "                            (all_merge[\"breadth\"]>=0.50) &\n",
    "                             (~all_merge[\"sample\"].isin(deep_samples))], marker=\"$\\circ$\", ec=\"face\")\n",
    "sns.stripplot(x=\"percentile\",y=\"curated_rubisco_form\", alpha=1, hue=\"curated_rubisco_form\",\n",
    "              palette=palette, size=10,\n",
    "              data=all_merge[(~all_merge[\"classification\"].str.contains(\"Cyano\")) & \n",
    "                            (all_merge[\"breadth\"]>=0.50) &\n",
    "                             (all_merge[\"sample\"].isin(deep_samples))], marker=\"X\")\n",
    "#plt.xscale(\"log\")\n",
    "plt.ylabel(\"preliminary rubisco form\")\n",
    "plt.xlabel(\"percentile rubisco expression in genome\")\n",
    "plt.show()"
   ]
  },
  {
   "cell_type": "code",
   "execution_count": 28,
   "metadata": {
    "scrolled": true
   },
   "outputs": [
    {
     "data": {
      "image/png": "[encoded data removed]",
      "text/plain": [
       "<Figure size 360x1080 with 1 Axes>"
      ]
     },
     "metadata": {
      "needs_background": "light"
     },
     "output_type": "display_data"
    }
   ],
   "source": [
    "all_merge[\"phylum\"] = all_merge[\"classification\"].apply(lambda x: x.split(\";\")[1])\n",
    "\n",
    "plt.figure(figsize=[5,15])\n",
    "sns.stripplot(x=\"percentile\",y=\"phylum\", alpha=0.5, hue=\"curated_rubisco_form\",\n",
    "              palette=palette, size=7.5, dodge=True,\n",
    "              data=all_merge[(all_merge[\"breadth\"]>=0.50) &\n",
    "                             (~all_merge[\"sample\"].isin(deep_samples))], marker=\"$\\circ$\")\n",
    "sns.stripplot(x=\"percentile\",y=\"phylum\", alpha=1, hue=\"curated_rubisco_form\",\n",
    "              palette=palette, size=10, dodge=True,\n",
    "              data=all_merge[(all_merge[\"breadth\"]>=0.50) &\n",
    "                             (all_merge[\"sample\"].isin(deep_samples))], marker=\"X\")\n",
    "plt.ylabel(\"preliminary rubisco form\")\n",
    "plt.xlabel(\"percentile rubisco expression in genome\")\n",
    "plt.show()"
   ]
  },
  {
   "cell_type": "code",
   "execution_count": 70,
   "metadata": {},
   "outputs": [
    {
     "data": {
      "image/png": "[encoded data removed]",
      "text/plain": [
       "<Figure size 288x432 with 1 Axes>"
      ]
     },
     "metadata": {
      "needs_background": "light"
     },
     "output_type": "display_data"
    }
   ],
   "source": [
    "depth_fixes = {\"TARA_SAMEA2623925_METAT\": 25, \"TARA_SAMEA2623974_METAT\":25,\n",
    "              \"TARA_SAMEA2623808_METAT\": 5, \"TARA_SAMEA2623850_METAT\": 5,\n",
    "              \"TARA_SAMEA2623734_METAT\": 5, \"TARA_SAMEA2620136_METAT\": 25}\n",
    "all_merge_depth = all_merge.merge(metat_md[[\"sample_name\", \"depth_numeric\"]], \n",
    "                                  left_on=\"sample\", right_on=\"sample_name\", how=\"left\").fillna(\"None\")\n",
    "all_merge_depth[\"depth_corrected\"] = all_merge_depth.apply(lambda x: x[\"depth_numeric\"] if \\\n",
    "                                    x[\"sample\"] not in depth_fixes else depth_fixes[x[\"sample\"]], axis=1)\n",
    "\n",
    "display_data=all_merge_depth[(~all_merge_depth[\"classification\"].str.contains(\"Cyano\")) &\n",
    "                             (all_merge_depth[\"depth_corrected\"]!='None') & \n",
    "                             (all_merge_depth[\"breadth\"]>0.50) & (all_merge[\"curated_rubisco_form\"]!='IV')]\n",
    "display_data[\"depth_negative\"] = display_data[\"depth_corrected\"].apply(lambda x: -1*x)\n",
    "\n",
    "plt.figure(figsize=[4,6])\n",
    "sns.scatterplot(x=\"percentile\", y=\"depth_negative\", hue=\"curated_rubisco_form\",\n",
    "               palette=palette, data=display_data.query(\"depth_negative>-200\"), marker=\"$\\circ$\", ec=\"face\", s=75)\n",
    "sns.scatterplot(x=\"percentile\", y=\"depth_negative\", hue=\"curated_rubisco_form\",\n",
    "               palette=palette, data=display_data.query(\"depth_negative<=-200\"), marker=\"X\", s=75)\n",
    "plt.legend(bbox_to_anchor=(1.1, 1.05))\n",
    "plt.axhline(-200, ls=\"-\", zorder=0, linewidth=0.5,color=\"lightgrey\")\n",
    "plt.ylabel(\"depth (m)\")\n",
    "plt.xlabel(\"percentile rubisco expression in genome\")\n",
    "plt.savefig(rootdir + \"figures/metat_perc_depth.svg\", format=\"svg\", \n",
    "            dpi=300,  bbox_inches=\"tight\", facecolor=\"white\")\n",
    "plt.show()"
   ]
  },
  {
   "cell_type": "code",
   "execution_count": 34,
   "metadata": {},
   "outputs": [
    {
     "data": {
      "image/png": "[encoded data removed]",
      "text/plain": [
       "<Figure size 108x432 with 1 Axes>"
      ]
     },
     "metadata": {
      "needs_background": "light"
     },
     "output_type": "display_data"
    }
   ],
   "source": [
    "## sampling\n",
    "plt.figure(figsize=[1.5,6])\n",
    "metat_md[\"depth_negative\"] = metat_md[\"depth_numeric\"].apply(lambda x: x*-1)\n",
    "ax = sns.histplot(y=metat_md[\"depth_negative\"], bins=33, color=\"darkgrey\", linewidth=0)\n",
    "ax.set(yticklabels=[])\n",
    "plt.xscale(\"log\")\n",
    "\n",
    "for k in [-200]:\n",
    "    plt.axhline(k, ls=\"-\", zorder=0, linewidth=0.5,color=\"lightgrey\")\n",
    "for k in [1,10,100]:\n",
    "    plt.axvline(k, ls=\"-\", zorder=0, linewidth=0.5,color=\"lightgrey\")\n",
    "\n",
    "plt.ylabel(\"\")\n",
    "plt.xlabel(\"samples analyzed\")\n",
    "sns.despine(top=True)\n",
    "plt.savefig(rootdir + \"figures/metat_sampling_long.pdf\", format=\"pdf\", \n",
    "            dpi=300,  bbox_inches=\"tight\", facecolor=\"white\")\n",
    "plt.show()"
   ]
  },
  {
   "cell_type": "code",
   "execution_count": 35,
   "metadata": {},
   "outputs": [
    {
     "data": {
      "image/png": "[encoded data removed]",
      "text/plain": [
       "<Figure size 288x72 with 1 Axes>"
      ]
     },
     "metadata": {
      "needs_background": "light"
     },
     "output_type": "display_data"
    }
   ],
   "source": [
    "## histos\n",
    "display_data=all_merge_depth[(~all_merge_depth[\"classification\"].str.contains(\"Cyano\")) &\n",
    "                             (all_merge_depth[\"depth_corrected\"]!='None') & \n",
    "                             (all_merge_depth[\"breadth\"]>=0.50) & (all_merge[\"curated_rubisco_form\"]!='IV')]\n",
    "plt.figure(figsize=[4,1])\n",
    "sns.histplot(x=display_data[\"percentile\"],element=\"step\", color=\"lightblue\", stat=\"density\", bins=25)\n",
    "plt.xlabel(\"\")\n",
    "plt.ylabel(\"\")\n",
    "plt.savefig(rootdir + \"figures/metat_all_histo.svg\", format=\"svg\", \n",
    "            dpi=300,  bbox_inches=\"tight\", facecolor=\"white\")\n",
    "plt.show()"
   ]
  },
  {
   "cell_type": "code",
   "execution_count": 36,
   "metadata": {},
   "outputs": [
    {
     "data": {
      "image/png": "[encoded data removed]",
      "text/plain": [
       "<Figure size 288x72 with 1 Axes>"
      ]
     },
     "metadata": {
      "needs_background": "light"
     },
     "output_type": "display_data"
    }
   ],
   "source": [
    "display_data=all_merge_depth[(all_merge_depth[\"classification\"].str.contains(\"Cyano\")) &\n",
    "                             (all_merge_depth[\"depth_corrected\"]!='None') & \n",
    "                             (all_merge_depth[\"breadth\"]>=0.50) & (all_merge[\"curated_rubisco_form\"]!='IV')]\n",
    "plt.figure(figsize=[4,1])\n",
    "sns.histplot(x=display_data[\"percentile\"],element=\"step\", color=\"#A6D6A6\", stat=\"density\", bins=25)\n",
    "plt.xlabel(\"\")\n",
    "plt.ylabel(\"\")\n",
    "plt.savefig(rootdir + \"figures/metat_cyano_histo.svg\", format=\"svg\", \n",
    "            dpi=300,  bbox_inches=\"tight\", facecolor=\"white\")\n",
    "plt.show()"
   ]
  },
  {
   "cell_type": "markdown",
   "metadata": {},
   "source": [
    "### add back functions"
   ]
  },
  {
   "cell_type": "code",
   "execution_count": 115,
   "metadata": {},
   "outputs": [
    {
     "data": {
      "text/html": [
       "<div>\n",
       "<style scoped>\n",
       "    .dataframe tbody tr th:only-of-type {\n",
       "        vertical-align: middle;\n",
       "    }\n",
       "\n",
       "    .dataframe tbody tr th {\n",
       "        vertical-align: top;\n",
       "    }\n",
       "\n",
       "    .dataframe thead th {\n",
       "        text-align: right;\n",
       "    }\n",
       "</style>\n",
       "<table border=\"1\" class=\"dataframe\">\n",
       "  <thead>\n",
       "    <tr style=\"text-align: right;\">\n",
       "      <th></th>\n",
       "      <th>Unnamed: 0</th>\n",
       "      <th>sample</th>\n",
       "      <th>genome</th>\n",
       "      <th>gene</th>\n",
       "      <th>mean_coverage</th>\n",
       "      <th>breadth</th>\n",
       "      <th>read_count</th>\n",
       "      <th>gene_length</th>\n",
       "      <th>total_read_count</th>\n",
       "      <th>rpk</th>\n",
       "      <th>rpkm</th>\n",
       "      <th>curated_rubisco_form</th>\n",
       "      <th>classification</th>\n",
       "      <th>curated_function</th>\n",
       "      <th>curated_pathway</th>\n",
       "      <th>raw_ko</th>\n",
       "      <th>raw_ko_def</th>\n",
       "    </tr>\n",
       "  </thead>\n",
       "  <tbody>\n",
       "    <tr>\n",
       "      <th>0</th>\n",
       "      <td>306706</td>\n",
       "      <td>TARA_SAMEA2623830_METAT</td>\n",
       "      <td>AG-333-E20</td>\n",
       "      <td>CABYJX010000001.1_1</td>\n",
       "      <td>0.05</td>\n",
       "      <td>0.053680</td>\n",
       "      <td>1</td>\n",
       "      <td>1155</td>\n",
       "      <td>315435310</td>\n",
       "      <td>1.731602</td>\n",
       "      <td>0.005490</td>\n",
       "      <td>None</td>\n",
       "      <td>d__Bacteria;p__Proteobacteria;c__Gammaproteoba...</td>\n",
       "      <td>None</td>\n",
       "      <td>None</td>\n",
       "      <td>K17724</td>\n",
       "      <td>aconitate decarboxylase [EC:4.1.1.6]</td>\n",
       "    </tr>\n",
       "    <tr>\n",
       "      <th>1</th>\n",
       "      <td>306707</td>\n",
       "      <td>TARA_SAMEA2623830_METAT</td>\n",
       "      <td>AG-333-E20</td>\n",
       "      <td>CABYJX010000001.1_2</td>\n",
       "      <td>0.42</td>\n",
       "      <td>0.230159</td>\n",
       "      <td>3</td>\n",
       "      <td>882</td>\n",
       "      <td>315435310</td>\n",
       "      <td>6.802721</td>\n",
       "      <td>0.021566</td>\n",
       "      <td>None</td>\n",
       "      <td>d__Bacteria;p__Proteobacteria;c__Gammaproteoba...</td>\n",
       "      <td>None</td>\n",
       "      <td>None</td>\n",
       "      <td>K01644</td>\n",
       "      <td>citrate lyase subunit beta / citryl-CoA lyase ...</td>\n",
       "    </tr>\n",
       "  </tbody>\n",
       "</table>\n",
       "</div>"
      ],
      "text/plain": [
       "   Unnamed: 0                   sample      genome                 gene  \\\n",
       "0      306706  TARA_SAMEA2623830_METAT  AG-333-E20  CABYJX010000001.1_1   \n",
       "1      306707  TARA_SAMEA2623830_METAT  AG-333-E20  CABYJX010000001.1_2   \n",
       "\n",
       "   mean_coverage   breadth  read_count  gene_length  total_read_count  \\\n",
       "0           0.05  0.053680           1         1155         315435310   \n",
       "1           0.42  0.230159           3          882         315435310   \n",
       "\n",
       "        rpk      rpkm curated_rubisco_form  \\\n",
       "0  1.731602  0.005490                 None   \n",
       "1  6.802721  0.021566                 None   \n",
       "\n",
       "                                      classification curated_function  \\\n",
       "0  d__Bacteria;p__Proteobacteria;c__Gammaproteoba...             None   \n",
       "1  d__Bacteria;p__Proteobacteria;c__Gammaproteoba...             None   \n",
       "\n",
       "  curated_pathway  raw_ko                                         raw_ko_def  \n",
       "0            None  K17724               aconitate decarboxylase [EC:4.1.1.6]  \n",
       "1            None  K01644  citrate lyase subunit beta / citryl-CoA lyase ...  "
      ]
     },
     "execution_count": 115,
     "metadata": {},
     "output_type": "execute_result"
    }
   ],
   "source": [
    "# split out functions when multiple hits\n",
    "funcs_raw = pd.read_csv(rootdir + \"tables/metabolic_gene_info.tsv\", sep=\"\\t\")\n",
    "\n",
    "funcs_info = defaultdict(list)\n",
    "\n",
    "for key, row in funcs_raw.query(\"present==True\").iterrows():\n",
    "    \n",
    "    for hit_id in row[\"hit_ids\"].split(\",\"):\n",
    "        funcs_info[\"gene\"].append(hit_id)\n",
    "        funcs_info[\"curated_function\"].append(row[\"gene\"])\n",
    "        funcs_info[\"curated_pathway\"].append(row[\"function\"])\n",
    "\n",
    "funcs_df = pd.DataFrame(funcs_info)\n",
    "amerge = rmerge.merge(funcs_df, how=\"left\").fillna(\"None\")\n",
    "# then add back raw kofamscan for others\n",
    "amerge = amerge.merge(pd.read_csv(rootdir + \\\n",
    "    \"tables/nonredundant_kfscan_parsed.tsv\", sep=\"\\t\")[[\"gene\", \"ko\",\"def\"]], how=\"left\").fillna(\"None\")\n",
    "amerge = amerge.rename(columns={\"ko\": \"raw_ko\", \"def\": \"raw_ko_def\"})\n",
    "amerge.head(2)"
   ]
  },
  {
   "cell_type": "code",
   "execution_count": 116,
   "metadata": {},
   "outputs": [],
   "source": [
    "def reconcile_functions(row):\n",
    "    \n",
    "    if \"III\" in row[\"curated_rubisco_form\"]:\n",
    "        return \"form III rubisco\"\n",
    "    elif row[\"curated_rubisco_form\"] not in [\"None\", \"IV\"]:\n",
    "        return \"form %s rubisco\" %(row[\"curated_rubisco_form\"].split(\"_\")[0])\n",
    "    elif \"sulf\" in row[\"curated_pathway\"].lower():\n",
    "        return \"sulfur metabolism\"\n",
    "    elif \"calvin\" in row[\"curated_pathway\"]:\n",
    "        return \"calvin cycle\"\n",
    "    elif row[\"curated_pathway\"] == \"Aerobic Hydrogen Oxidation\":\n",
    "        return \"uptake hydrogenase\"\n",
    "    elif \"subunit ribosomal protein\" in row[\"raw_ko_def\"]:\n",
    "        return \"ribosomal proteins\"\n",
    "    else: return \"other\"\n",
    "\n",
    "amerge[\"reconciled_function\"] = amerge.apply(reconcile_functions, axis=1)"
   ]
  },
  {
   "cell_type": "code",
   "execution_count": 201,
   "metadata": {},
   "outputs": [
    {
     "data": {
      "text/plain": [
       "reconciled_function\n",
       "other                 10313432\n",
       "ribosomal proteins      212790\n",
       "calvin cycle             40835\n",
       "sulfur metabolism         8895\n",
       "form I rubisco            3661\n",
       "uptake hydrogenase         330\n",
       "form II rubisco            141\n",
       "form III rubisco            37\n",
       "Name: count, dtype: int64"
      ]
     },
     "execution_count": 201,
     "metadata": {},
     "output_type": "execute_result"
    }
   ],
   "source": [
    "clean = amerge[[\"sample\", \"genome\", \"gene\", \"rpkm\", \"breadth\", \"curated_pathway\", \"reconciled_function\", \"raw_ko\", \"raw_ko_def\"]]\n",
    "clean[\"reconciled_function\"].value_counts()"
   ]
  },
  {
   "cell_type": "markdown",
   "metadata": {},
   "source": [
    "### genome based"
   ]
  },
  {
   "cell_type": "code",
   "execution_count": 118,
   "metadata": {},
   "outputs": [],
   "source": [
    "shorthand = {row[\"sample_name\"]:\"%s (%d m)\" %(row[\"biosample\"], row[\"depth_numeric\"]) for \\\n",
    "            key, row in metat_md.iterrows()}"
   ]
  },
  {
   "cell_type": "code",
   "execution_count": 121,
   "metadata": {},
   "outputs": [],
   "source": [
    "def make_txome_plot(genomes, samples=clean[\"sample\"].unique()):\n",
    "    \n",
    "    palette = {\"form I rubisco\": \"green\", \"form II rubisco\":\"pink\", \"form III rubisco\": \"orange\",\n",
    "               \"calvin cycle\": \"lightgreen\", \"uptake hydrogenase\": \"blue\", \"sulfur metabolism\": \"yellow\", \n",
    "               \"ribosomal proteins\": \"lightblue\", \"other\":\"lightgrey\"}\n",
    "\n",
    "    table = clean[(clean[\"genome\"].isin(genomes)) & \\\n",
    "                  (clean[\"sample\"].isin(samples))]\n",
    "    table[\"log_rpkm\"] = table[\"rpkm\"].apply(lambda x: math.log10(x+1))\n",
    "    sort_base = all_merge[(all_merge[\"genome\"].isin(genomes)) & \\\n",
    "                  (all_merge[\"sample\"].isin(samples))].sort_values(\"rpkm\")\n",
    "    table[\"sort_order\"] = table[\"sample\"].apply(lambda x: list(sort_base[\"sample\"]).index(x))\n",
    "    table[\"sample_short\"] = table[\"sample\"].map(shorthand)\n",
    "    table = table.sort_values(\"sort_order\")\n",
    "\n",
    "    plt.figure(figsize=[2,1*max(len(genomes), len(table[\"sample\"].unique()))])\n",
    "    \n",
    "    if len(genomes) > 1:\n",
    "        facetvar = \"genome\"\n",
    "        title = samples[0]\n",
    "    else: \n",
    "        facetvar = \"sample_short\"\n",
    "        title = genomes[0]\n",
    "        \n",
    "    sns.stripplot(y=facetvar, x=\"log_rpkm\", data=table.query(\"reconciled_function=='other'\"), \n",
    "                  hue=\"reconciled_function\", palette=palette, alpha=0.5, marker=\"$\\circ$\")\n",
    "    sns.stripplot(y=facetvar, x=\"log_rpkm\", data=table.query(\"reconciled_function!='other'\"), \n",
    "                  hue=\"reconciled_function\", palette=palette, alpha=1, dodge=True)\n",
    "    plt.legend(bbox_to_anchor=(1, 1), loc='upper left', fontsize=9)\n",
    "    plt.xlabel(\"expression (log rpkm+1)\")\n",
    "    #plt.title(title)\n",
    "    plt.ylabel(\"\")\n",
    "    #plt.xticks(rotation=45, ha=\"right\")"
   ]
  },
  {
   "cell_type": "code",
   "execution_count": 122,
   "metadata": {},
   "outputs": [
    {
     "data": {
      "text/plain": [
       "<Figure size 432x288 with 0 Axes>"
      ]
     },
     "metadata": {},
     "output_type": "display_data"
    },
    {
     "data": {
      "image/png": "[encoded data removed]",
      "text/plain": [
       "<Figure size 144x576 with 1 Axes>"
      ]
     },
     "metadata": {
      "needs_background": "light"
     },
     "output_type": "display_data"
    }
   ],
   "source": [
    "plt.figure()\n",
    "make_txome_plot(genomes=[\"BGEO_SAMN07136798_METAG_LAMHFHAM\"],\n",
    "                              samples=[\"TARA_SAMEA4397085_METAT\",\"TARA_SAMEA2622295_METAT\", \n",
    "                                       \"TARA_SAMEA4398233_METAT\",\"TARA_SAMEA2621941_METAT\",\n",
    "                                      \"TARA_SAMEA2623101_METAT\",\"TARA_SAMEA2622197_METAT\", \n",
    "                                       \"TARA_SAMEA4397357_METAT\", \"TARA_SAMEA2621236_METAT\"])\n",
    "plt.savefig(rootdir + \"figures/sar324_genome_metat_1.svg\", format=\"svg\", \n",
    "            dpi=300,  bbox_inches=\"tight\", facecolor=\"white\")\n",
    "plt.show()"
   ]
  },
  {
   "cell_type": "markdown",
   "metadata": {},
   "source": [
    "### supp"
   ]
  },
  {
   "cell_type": "code",
   "execution_count": 188,
   "metadata": {},
   "outputs": [],
   "source": [
    "table_s10 = all_merge_depth[(all_merge_depth[\"depth_corrected\"]!='None') & \n",
    "    (all_merge[\"curated_rubisco_form\"]!='IV')].merge(metat_md[[\"sample_name\", \"runs\"]], \n",
    "     how=\"left\", left_on=\"sample\", right_on=\"sample_name\").fillna(\"None\")\n",
    "table_s10[\"runs_corrected\"] = table_s10.apply(lambda x: x[\"runs\"] if x[\"runs\"]!='None' else \\\n",
    "                                                omd_metadata[omd_metadata[\"sample_name\"]==x[\"sample\"]][\"run_accessions\"].iloc[0], axis=1)\n",
    "table_s10[\"percentile_rubisco_expr\"] = table_s10.apply(lambda x: x[\"percentile\"] if x[\"breadth\"]>=0.50 else \"None\", axis=1)\n",
    "table_s10[[\"sample\", \"runs_corrected\",\"depth_corrected\", \"genome\", \"classification\", \"gene\", \"curated_rubisco_form\", \"gene_length\", \n",
    "           \"mean_coverage\", \"read_count\", \"breadth\", \"total_read_count\", \"rpkm\", \n",
    "           \"percentile_rubisco_expr\"]].sort_values([\"sample\", \"mean_coverage\"], ascending=[True,False]).to_csv(rootdir + \"tables/table_s10.tsv\", sep=\"\\t\", index=False)"
   ]
  },
  {
   "cell_type": "code",
   "execution_count": 215,
   "metadata": {},
   "outputs": [],
   "source": [
    "picked = [\"TARA_SAMEA4397085_METAT\",\"TARA_SAMEA2622295_METAT\", \n",
    "           \"TARA_SAMEA4398233_METAT\",\"TARA_SAMEA2621941_METAT\",\n",
    "          \"TARA_SAMEA2623101_METAT\",\"TARA_SAMEA2622197_METAT\", \n",
    "           \"TARA_SAMEA4397357_METAT\", \"TARA_SAMEA2621236_METAT\"]\n",
    "table_s11 = clean[(clean[\"genome\"].str.contains(\"LAM\")) & (clean[\"sample\"].isin(picked))]\n",
    "table_s11.query(\"reconciled_function!='other'\")[[\"sample\", \"genome\", \"gene\", \"raw_ko_def\", \"reconciled_function\",\n",
    "                                                 \"rpkm\", \"breadth\"]].sort_values([\"sample\", \"rpkm\"], ascending=[True,False]).to_csv(rootdir + \"tables/table_s11.tsv\", sep=\"\\t\", index=False)"
   ]
  }
 ],
 "metadata": {
  "kernelspec": {
   "display_name": "Python 3 (ipykernel)",
   "language": "python",
   "name": "python3"
  },
  "language_info": {
   "codemirror_mode": {
    "name": "ipython",
    "version": 3
   },
   "file_extension": ".py",
   "mimetype": "text/x-python",
   "name": "python",
   "nbconvert_exporter": "python",
   "pygments_lexer": "ipython3",
   "version": "3.9.0"
  }
 },
 "nbformat": 4,
 "nbformat_minor": 2
}
