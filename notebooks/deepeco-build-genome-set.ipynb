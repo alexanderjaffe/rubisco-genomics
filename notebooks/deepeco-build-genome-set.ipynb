{
 "cells": [
  {
   "cell_type": "code",
   "execution_count": 1,
   "metadata": {},
   "outputs": [],
   "source": [
    "def cmdir(path):\n",
    "    if not os.path.isdir(path):\n",
    "        os.mkdir(path)\n",
    "\n",
    "def scaffold(gene):\n",
    "    if gene != \"None\":\n",
    "        try: return re.search(\"(.+?)_[0-9]+$\", gene).group(1)\n",
    "        except: print(gene)\n",
    "\n",
    "def sbatch(name, cpus, cmd):\n",
    "    return \"sbatch -J %s -p serc -t 1- -c %d --mem %dG --wrap '%s'\" %(name, cpus, cpus*8, cmd)"
   ]
  },
  {
   "cell_type": "code",
   "execution_count": 27,
   "metadata": {
    "collapsed": true
   },
   "outputs": [],
   "source": [
    "rootdir = \"/scratch/users/ajaffe/deepeco/\"\n",
    "cmdir(rootdir)"
   ]
  },
  {
   "cell_type": "markdown",
   "metadata": {},
   "source": [
    "## public genomes and metadata"
   ]
  },
  {
   "cell_type": "code",
   "execution_count": 8,
   "metadata": {
    "collapsed": true
   },
   "outputs": [],
   "source": [
    "cmdir(rootdir + \"data\")"
   ]
  },
  {
   "cell_type": "markdown",
   "metadata": {},
   "source": [
    "### omd"
   ]
  },
  {
   "cell_type": "markdown",
   "metadata": {},
   "source": [
    "wget https://sunagawalab.ethz.ch/share/microbiomics/ocean/suppl_data/genomes-fasta.tar.gz into data dir. download corresponding genome summary table from there or pub supp material."
   ]
  },
  {
   "cell_type": "code",
   "execution_count": 4,
   "metadata": {},
   "outputs": [
    {
     "data": {
      "text/html": [
       "<div>\n",
       "<style scoped>\n",
       "    .dataframe tbody tr th:only-of-type {\n",
       "        vertical-align: middle;\n",
       "    }\n",
       "\n",
       "    .dataframe tbody tr th {\n",
       "        vertical-align: top;\n",
       "    }\n",
       "\n",
       "    .dataframe thead th {\n",
       "        text-align: right;\n",
       "    }\n",
       "</style>\n",
       "<table border=\"1\" class=\"dataframe\">\n",
       "  <thead>\n",
       "    <tr style=\"text-align: right;\">\n",
       "      <th></th>\n",
       "      <th>genome_name</th>\n",
       "      <th>classification</th>\n",
       "      <th>checkm_completeness</th>\n",
       "      <th>checkm_redundancy</th>\n",
       "      <th>16S_rRNA</th>\n",
       "      <th>genome_length</th>\n",
       "      <th>num_scaffolds</th>\n",
       "      <th>station</th>\n",
       "      <th>depth</th>\n",
       "      <th>depth_layer</th>\n",
       "      <th>lat</th>\n",
       "      <th>long</th>\n",
       "      <th>detected_water_column</th>\n",
       "    </tr>\n",
       "  </thead>\n",
       "  <tbody>\n",
       "    <tr>\n",
       "      <th>0</th>\n",
       "      <td>MARD_SAMEA4707921_REFG_MMP4707921</td>\n",
       "      <td>d__Bacteria;p__Cyanobacteria;c__Cyanobacteriia...</td>\n",
       "      <td>100.00</td>\n",
       "      <td>0.41</td>\n",
       "      <td>1.0</td>\n",
       "      <td>3057835</td>\n",
       "      <td>35</td>\n",
       "      <td>NaN</td>\n",
       "      <td>NaN</td>\n",
       "      <td>NaN</td>\n",
       "      <td>NaN</td>\n",
       "      <td>NaN</td>\n",
       "      <td>True</td>\n",
       "    </tr>\n",
       "    <tr>\n",
       "      <th>1</th>\n",
       "      <td>TARA_SAMEA2623741_METAG_DLKGCKBM</td>\n",
       "      <td>d__Bacteria;p__Eremiobacterota;c__UBP9;o__UBA4...</td>\n",
       "      <td>97.22</td>\n",
       "      <td>11.88</td>\n",
       "      <td>0.0</td>\n",
       "      <td>9451077</td>\n",
       "      <td>96</td>\n",
       "      <td>NaN</td>\n",
       "      <td>NaN</td>\n",
       "      <td>NaN</td>\n",
       "      <td>NaN</td>\n",
       "      <td>NaN</td>\n",
       "      <td>True</td>\n",
       "    </tr>\n",
       "  </tbody>\n",
       "</table>\n",
       "</div>"
      ],
      "text/plain": [
       "                         genome_name  \\\n",
       "0  MARD_SAMEA4707921_REFG_MMP4707921   \n",
       "1   TARA_SAMEA2623741_METAG_DLKGCKBM   \n",
       "\n",
       "                                      classification  checkm_completeness  \\\n",
       "0  d__Bacteria;p__Cyanobacteria;c__Cyanobacteriia...               100.00   \n",
       "1  d__Bacteria;p__Eremiobacterota;c__UBP9;o__UBA4...                97.22   \n",
       "\n",
       "   checkm_redundancy  16S_rRNA  genome_length  num_scaffolds station  depth  \\\n",
       "0               0.41       1.0        3057835             35     NaN    NaN   \n",
       "1              11.88       0.0        9451077             96     NaN    NaN   \n",
       "\n",
       "  depth_layer  lat  long  detected_water_column  \n",
       "0         NaN  NaN   NaN                   True  \n",
       "1         NaN  NaN   NaN                   True  "
      ]
     },
     "execution_count": 4,
     "metadata": {},
     "output_type": "execute_result"
    }
   ],
   "source": [
    "omd = pd.read_csv(rootdir + \"data/omd_summary.csv\")\n",
    "omd = omd[[\"Genome\", \"GTDB Taxonomy\", \"CheckM Completeness\", \"CheckM Contamination\", \"16S rRNA\",\n",
    "          \"Genome size\", \"# scaffolds\", \"station\", \"depth\", \"depth layer\",\n",
    "          \"latitude\", \"longitude\", \"detected in the water column\"]]\n",
    "omd.columns = [\"genome_name\", \"classification\", \"checkm_completeness\", \"checkm_redundancy\",\n",
    "              \"16S_rRNA\", \"genome_length\", \"num_scaffolds\", \"station\",\n",
    "              \"depth\", \"depth_layer\", \"lat\", \"long\", \"detected_water_column\"]\n",
    "omd.head(2)"
   ]
  },
  {
   "cell_type": "markdown",
   "metadata": {},
   "source": [
    "### odna"
   ]
  },
  {
   "cell_type": "markdown",
   "metadata": {},
   "source": [
    "wget representative and non representative genomes from here, as well as supp table: https://springernature.figshare.com/collections/The_OceanDNA_MAG_catalog_contains_over_50_000_prokaryotic_genomes_originated_from_various_marine_environments/5564844"
   ]
  },
  {
   "cell_type": "code",
   "execution_count": 5,
   "metadata": {},
   "outputs": [
    {
     "data": {
      "text/html": [
       "<div>\n",
       "<style scoped>\n",
       "    .dataframe tbody tr th:only-of-type {\n",
       "        vertical-align: middle;\n",
       "    }\n",
       "\n",
       "    .dataframe tbody tr th {\n",
       "        vertical-align: top;\n",
       "    }\n",
       "\n",
       "    .dataframe thead th {\n",
       "        text-align: right;\n",
       "    }\n",
       "</style>\n",
       "<table border=\"1\" class=\"dataframe\">\n",
       "  <thead>\n",
       "    <tr style=\"text-align: right;\">\n",
       "      <th></th>\n",
       "      <th>genome</th>\n",
       "      <th>division</th>\n",
       "      <th>biosample</th>\n",
       "      <th>num_contig</th>\n",
       "      <th>is_16S_rRNA_detected</th>\n",
       "      <th>checkm_compl</th>\n",
       "      <th>checkm_contam</th>\n",
       "      <th>gtdb_classification</th>\n",
       "      <th>division</th>\n",
       "      <th>subdivision</th>\n",
       "      <th>sample_name</th>\n",
       "      <th>sra_sample</th>\n",
       "      <th>original_bioproject</th>\n",
       "      <th>original_biosample</th>\n",
       "      <th>sra_run</th>\n",
       "      <th>depth</th>\n",
       "      <th>latitude</th>\n",
       "      <th>longitude</th>\n",
       "    </tr>\n",
       "  </thead>\n",
       "  <tbody>\n",
       "    <tr>\n",
       "      <th>0</th>\n",
       "      <td>OceanDNA-a1</td>\n",
       "      <td>Tara girus</td>\n",
       "      <td>SAMD00334869</td>\n",
       "      <td>83</td>\n",
       "      <td>no</td>\n",
       "      <td>69.78</td>\n",
       "      <td>0.00</td>\n",
       "      <td>d__Archaea;p__Aenigmatarchaeota;c__Aenigmatarc...</td>\n",
       "      <td>Tara girus</td>\n",
       "      <td>TARA_Girus</td>\n",
       "      <td>ERS488773</td>\n",
       "      <td>ERS488773</td>\n",
       "      <td>PRJEB1788</td>\n",
       "      <td>SAMEA2619974</td>\n",
       "      <td>ERR594290,ERR594345</td>\n",
       "      <td>600.0</td>\n",
       "      <td>20.83220</td>\n",
       "      <td>63.6004</td>\n",
       "    </tr>\n",
       "    <tr>\n",
       "      <th>1</th>\n",
       "      <td>OceanDNA-a2</td>\n",
       "      <td>Tara prok</td>\n",
       "      <td>SAMD00334870</td>\n",
       "      <td>374</td>\n",
       "      <td>yes</td>\n",
       "      <td>62.72</td>\n",
       "      <td>0.07</td>\n",
       "      <td>d__Archaea;p__Asgardarchaeota;c__Heimdallarcha...</td>\n",
       "      <td>Tara prok</td>\n",
       "      <td>Sunagawa_et_al_2015</td>\n",
       "      <td>ERS493914</td>\n",
       "      <td>ERS493914</td>\n",
       "      <td>PRJEB1787</td>\n",
       "      <td>SAMEA2623446</td>\n",
       "      <td>ERR599029</td>\n",
       "      <td>5.0</td>\n",
       "      <td>9.84705</td>\n",
       "      <td>-80.0530</td>\n",
       "    </tr>\n",
       "  </tbody>\n",
       "</table>\n",
       "</div>"
      ],
      "text/plain": [
       "        genome    division     biosample  num_contig is_16S_rRNA_detected  \\\n",
       "0  OceanDNA-a1  Tara girus  SAMD00334869          83                   no   \n",
       "1  OceanDNA-a2   Tara prok  SAMD00334870         374                  yes   \n",
       "\n",
       "   checkm_compl  checkm_contam  \\\n",
       "0         69.78           0.00   \n",
       "1         62.72           0.07   \n",
       "\n",
       "                                 gtdb_classification    division  \\\n",
       "0  d__Archaea;p__Aenigmatarchaeota;c__Aenigmatarc...  Tara girus   \n",
       "1  d__Archaea;p__Asgardarchaeota;c__Heimdallarcha...   Tara prok   \n",
       "\n",
       "           subdivision sample_name sra_sample original_bioproject  \\\n",
       "0           TARA_Girus   ERS488773  ERS488773           PRJEB1788   \n",
       "1  Sunagawa_et_al_2015   ERS493914  ERS493914           PRJEB1787   \n",
       "\n",
       "  original_biosample              sra_run  depth  latitude  longitude  \n",
       "0       SAMEA2619974  ERR594290,ERR594345  600.0  20.83220    63.6004  \n",
       "1       SAMEA2623446            ERR599029    5.0   9.84705   -80.0530  "
      ]
     },
     "execution_count": 5,
     "metadata": {},
     "output_type": "execute_result"
    }
   ],
   "source": [
    "odna = pd.read_csv(rootdir + \"data/odna.tsv\", sep=\"\\t\")\n",
    "odna = odna[[\"genome\", \"division\", \"biosample\", \"num_contig\", \"is_16S_rRNA_detected\",\n",
    "            \"checkm_compl\", \"checkm_contam\", \"gtdb_classification\",\n",
    "            \"division\", \"subdivision\", \"sample_name\", \"sra_sample\",\n",
    "            \"original_bioproject\", \"original_biosample\", \"sra_run\",\n",
    "            \"depth\", \"latitude\", \"longigute\"]].rename(columns={\"longigute\":\"longitude\"})\n",
    "odna.head(2)"
   ]
  },
  {
   "cell_type": "markdown",
   "metadata": {},
   "source": [
    "### other pubs"
   ]
  },
  {
   "cell_type": "code",
   "execution_count": 6,
   "metadata": {},
   "outputs": [
    {
     "data": {
      "text/html": [
       "<div>\n",
       "<style scoped>\n",
       "    .dataframe tbody tr th:only-of-type {\n",
       "        vertical-align: middle;\n",
       "    }\n",
       "\n",
       "    .dataframe tbody tr th {\n",
       "        vertical-align: top;\n",
       "    }\n",
       "\n",
       "    .dataframe thead th {\n",
       "        text-align: right;\n",
       "    }\n",
       "</style>\n",
       "<table border=\"1\" class=\"dataframe\">\n",
       "  <thead>\n",
       "    <tr style=\"text-align: right;\">\n",
       "      <th></th>\n",
       "      <th>Bin Id</th>\n",
       "      <th>Method</th>\n",
       "      <th>Marker lineage</th>\n",
       "      <th># genomes</th>\n",
       "      <th># markers</th>\n",
       "      <th># marker sets</th>\n",
       "      <th>Completeness</th>\n",
       "      <th>Contamination</th>\n",
       "      <th>Strain heterogeneity</th>\n",
       "      <th>Genome size (bp)</th>\n",
       "      <th>...</th>\n",
       "      <th>GC std (scaffolds &gt; 1kbp)</th>\n",
       "      <th>Coding density</th>\n",
       "      <th>Translation table</th>\n",
       "      <th># predicted genes</th>\n",
       "      <th>0</th>\n",
       "      <th>1</th>\n",
       "      <th>2</th>\n",
       "      <th>3</th>\n",
       "      <th>4</th>\n",
       "      <th>5+</th>\n",
       "    </tr>\n",
       "  </thead>\n",
       "  <tbody>\n",
       "    <tr>\n",
       "      <th>0</th>\n",
       "      <td>AAA001_A19</td>\n",
       "      <td>CheckM v1.2.1</td>\n",
       "      <td>k__Archaea (UID2)</td>\n",
       "      <td>207.0</td>\n",
       "      <td>145.0</td>\n",
       "      <td>103.0</td>\n",
       "      <td>27.18</td>\n",
       "      <td>0.0</td>\n",
       "      <td>0.0</td>\n",
       "      <td>446988.0</td>\n",
       "      <td>...</td>\n",
       "      <td>1.56</td>\n",
       "      <td>92.82</td>\n",
       "      <td>11.0</td>\n",
       "      <td>570.0</td>\n",
       "      <td>103.0</td>\n",
       "      <td>42.0</td>\n",
       "      <td>0.0</td>\n",
       "      <td>0.0</td>\n",
       "      <td>0.0</td>\n",
       "      <td>0.0</td>\n",
       "    </tr>\n",
       "    <tr>\n",
       "      <th>1</th>\n",
       "      <td>AAA001_B15</td>\n",
       "      <td>CheckM v1.2.1</td>\n",
       "      <td>p__Proteobacteria (UID3880)</td>\n",
       "      <td>1495.0</td>\n",
       "      <td>242.0</td>\n",
       "      <td>151.0</td>\n",
       "      <td>25.57</td>\n",
       "      <td>0.0</td>\n",
       "      <td>0.0</td>\n",
       "      <td>488860.0</td>\n",
       "      <td>...</td>\n",
       "      <td>2.04</td>\n",
       "      <td>93.73</td>\n",
       "      <td>11.0</td>\n",
       "      <td>493.0</td>\n",
       "      <td>166.0</td>\n",
       "      <td>76.0</td>\n",
       "      <td>0.0</td>\n",
       "      <td>0.0</td>\n",
       "      <td>0.0</td>\n",
       "      <td>0.0</td>\n",
       "    </tr>\n",
       "  </tbody>\n",
       "</table>\n",
       "<p>2 rows × 30 columns</p>\n",
       "</div>"
      ],
      "text/plain": [
       "       Bin Id         Method               Marker lineage  # genomes  \\\n",
       "0  AAA001_A19  CheckM v1.2.1            k__Archaea (UID2)      207.0   \n",
       "1  AAA001_B15  CheckM v1.2.1  p__Proteobacteria (UID3880)     1495.0   \n",
       "\n",
       "   # markers  # marker sets  Completeness  Contamination  \\\n",
       "0      145.0          103.0         27.18            0.0   \n",
       "1      242.0          151.0         25.57            0.0   \n",
       "\n",
       "   Strain heterogeneity  Genome size (bp)  ...  GC std (scaffolds > 1kbp)  \\\n",
       "0                   0.0          446988.0  ...                       1.56   \n",
       "1                   0.0          488860.0  ...                       2.04   \n",
       "\n",
       "   Coding density  Translation table  # predicted genes      0     1    2  \\\n",
       "0           92.82               11.0              570.0  103.0  42.0  0.0   \n",
       "1           93.73               11.0              493.0  166.0  76.0  0.0   \n",
       "\n",
       "     3    4   5+  \n",
       "0  0.0  0.0  0.0  \n",
       "1  0.0  0.0  0.0  \n",
       "\n",
       "[2 rows x 30 columns]"
      ]
     },
     "execution_count": 6,
     "metadata": {},
     "output_type": "execute_result"
    }
   ],
   "source": [
    "# omz catalog - https://www.nature.com/articles/s41597-023-02222-y\n",
    "omz = pd.read_csv(rootdir + \"data/omz_catalog.csv\")\n",
    "omz.head(2)"
   ]
  },
  {
   "cell_type": "markdown",
   "metadata": {},
   "source": [
    "Plus two others (Zhang, Sun et al. + Sun and Ward)."
   ]
  },
  {
   "cell_type": "markdown",
   "metadata": {},
   "source": [
    "## identify genomes of interest"
   ]
  },
  {
   "cell_type": "code",
   "execution_count": 21,
   "metadata": {
    "collapsed": true
   },
   "outputs": [],
   "source": [
    "cmdir(rootdir + \"scripts\")\n",
    "cmdir(rootdir + \"graft\")"
   ]
  },
  {
   "cell_type": "markdown",
   "metadata": {},
   "source": [
    "### run graft per genome"
   ]
  },
  {
   "cell_type": "code",
   "execution_count": 13,
   "metadata": {
    "collapsed": true
   },
   "outputs": [],
   "source": [
    "# set up\n",
    "genome_dirs = glob.glob(rootdir + \"data/*/\")\n",
    "genome_dirs.append(\"/scratch/groups/dekas/OC17_metagenomics_2022/genomes/refined_genomes/\")\n",
    "gpkg = \"/home/users/ajaffe/misc/graftm_gpkg/rubisco_superfamily.gpkg/\""
   ]
  },
  {
   "cell_type": "code",
   "execution_count": 33,
   "metadata": {
    "collapsed": true
   },
   "outputs": [],
   "source": [
    "# which are unrun?\n",
    "\n",
    "genomes = []\n",
    "completed = [item.split(\"/\")[-2] for item \\\n",
    "             in glob.glob(rootdir + \"graft/chunk*/*/\")]\n",
    "    \n",
    "for genome_dir in genome_dirs:\n",
    "    for gpath in glob.glob(genome_dir + \"/*\"):\n",
    "        genome = re.search(\"(.+?)\\.f[na\\.gz]\", os.path.basename(gpath)).group(1)\n",
    "        if genome not in completed:\n",
    "            genomes.append(gpath)"
   ]
  },
  {
   "cell_type": "code",
   "execution_count": 26,
   "metadata": {},
   "outputs": [
    {
     "name": "stdout",
     "output_type": "stream",
     "text": [
      "179\n"
     ]
    }
   ],
   "source": [
    "count, chunk = 0, 0\n",
    "current=[]\n",
    "out = open(rootdir + \"/scripts/graft.sh\", \"w\")\n",
    "\n",
    "for genome in genomes:\n",
    "    \n",
    "    if count < round(len(genomes),0)/50:\n",
    "        current.append(genome)\n",
    "        count+=1\n",
    "    \n",
    "    else:\n",
    "        \n",
    "        outdir = rootdir + \"graft/chunk\" + str(chunk)\n",
    "        base = \"graftM graft --threads 20 --evalue 1e-5 --forward %s \\\n",
    "                --input_sequence_type nucleotide --search_only --graftm_package %s \\\n",
    "                --output_directory %s\" %(\" \".join(current), gpkg, outdir)\n",
    "        out.write(sbatch(\"graft\", 20, base) + \"\\n\")\n",
    "        print(len(current))\n",
    "        count=0\n",
    "        chunk+=1\n",
    "        current=[]\n",
    "\n",
    "out.close()"
   ]
  },
  {
   "cell_type": "markdown",
   "metadata": {},
   "source": [
    "### parse grafts"
   ]
  },
  {
   "cell_type": "code",
   "execution_count": 6,
   "metadata": {},
   "outputs": [
    {
     "data": {
      "text/html": [
       "<div>\n",
       "<style scoped>\n",
       "    .dataframe tbody tr th:only-of-type {\n",
       "        vertical-align: middle;\n",
       "    }\n",
       "\n",
       "    .dataframe tbody tr th {\n",
       "        vertical-align: top;\n",
       "    }\n",
       "\n",
       "    .dataframe thead th {\n",
       "        text-align: right;\n",
       "    }\n",
       "</style>\n",
       "<table border=\"1\" class=\"dataframe\">\n",
       "  <thead>\n",
       "    <tr style=\"text-align: right;\">\n",
       "      <th></th>\n",
       "      <th>genome</th>\n",
       "      <th>protein</th>\n",
       "      <th>protein_len</th>\n",
       "      <th>protein_seq</th>\n",
       "    </tr>\n",
       "  </thead>\n",
       "  <tbody>\n",
       "    <tr>\n",
       "      <th>0</th>\n",
       "      <td>OceanDNA-b43099</td>\n",
       "      <td>OceanDNA-b43099_00060_1753_4_38</td>\n",
       "      <td>478</td>\n",
       "      <td>AGRAIMAKKGYDAGVKEYRDTYWMPEYEPKDTDILACFKITPQPGV...</td>\n",
       "    </tr>\n",
       "    <tr>\n",
       "      <th>1</th>\n",
       "      <td>OceanDNA-b41123</td>\n",
       "      <td>OceanDNA-b41123_00033_5629_1_112</td>\n",
       "      <td>285</td>\n",
       "      <td>CPRQSLPRAACAPGPGLQLLRSGGMSAPIGVFDSGVGGLSVLREIR...</td>\n",
       "    </tr>\n",
       "    <tr>\n",
       "      <th>2</th>\n",
       "      <td>OceanDNA-b17538</td>\n",
       "      <td>OceanDNA-b17538_00047_3787_1_75</td>\n",
       "      <td>221</td>\n",
       "      <td>SKVMKIAPSILSCDFSRLGEEIVAVKEGGADWIHVDVMDGHFVPNI...</td>\n",
       "    </tr>\n",
       "    <tr>\n",
       "      <th>3</th>\n",
       "      <td>OceanDNA-b38333</td>\n",
       "      <td>OceanDNA-b38333_00008_26579_2_507</td>\n",
       "      <td>423</td>\n",
       "      <td>LMSTRIHARYLIETPYPVEHAAQVMAGEQSSGTFTRLANETDALRA...</td>\n",
       "    </tr>\n",
       "    <tr>\n",
       "      <th>4</th>\n",
       "      <td>OceanDNA-b13241</td>\n",
       "      <td>OceanDNA-b13241_00184_4013_5_57</td>\n",
       "      <td>36</td>\n",
       "      <td>CLAVKQCLFLHVKKATREPWQVLRKCLPIPSSGSQL</td>\n",
       "    </tr>\n",
       "  </tbody>\n",
       "</table>\n",
       "</div>"
      ],
      "text/plain": [
       "            genome                            protein  protein_len  \\\n",
       "0  OceanDNA-b43099    OceanDNA-b43099_00060_1753_4_38          478   \n",
       "1  OceanDNA-b41123   OceanDNA-b41123_00033_5629_1_112          285   \n",
       "2  OceanDNA-b17538    OceanDNA-b17538_00047_3787_1_75          221   \n",
       "3  OceanDNA-b38333  OceanDNA-b38333_00008_26579_2_507          423   \n",
       "4  OceanDNA-b13241    OceanDNA-b13241_00184_4013_5_57           36   \n",
       "\n",
       "                                         protein_seq  \n",
       "0  AGRAIMAKKGYDAGVKEYRDTYWMPEYEPKDTDILACFKITPQPGV...  \n",
       "1  CPRQSLPRAACAPGPGLQLLRSGGMSAPIGVFDSGVGGLSVLREIR...  \n",
       "2  SKVMKIAPSILSCDFSRLGEEIVAVKEGGADWIHVDVMDGHFVPNI...  \n",
       "3  LMSTRIHARYLIETPYPVEHAAQVMAGEQSSGTFTRLANETDALRA...  \n",
       "4               CLAVKQCLFLHVKKATREPWQVLRKCLPIPSSGSQL  "
      ]
     },
     "execution_count": 6,
     "metadata": {},
     "output_type": "execute_result"
    }
   ],
   "source": [
    "rub_info = defaultdict(list)\n",
    "\n",
    "for graftdir in glob.glob(rootdir + \"graft/chunk*/*/\"):\n",
    "\n",
    "    name = graftdir.split(\"/\")[-2]\n",
    "    aln = glob.glob(graftdir + \"*orf.fa\")\n",
    "    \n",
    "    if aln != []:\n",
    "        \n",
    "        for record in sfp(open(aln[0])):\n",
    "            rub_info[\"genome\"].append(name)\n",
    "            rub_info[\"protein\"].append(record[0].split(\" \")[0])\n",
    "            rub_info[\"protein_len\"].append(len(record[1]))\n",
    "            rub_info[\"protein_seq\"].append(str(record[1]))\n",
    "\n",
    "rub_df = pd.DataFrame(rub_info)\n",
    "rub_df.head()"
   ]
  },
  {
   "cell_type": "markdown",
   "metadata": {},
   "source": [
    "### clean up proteins"
   ]
  },
  {
   "cell_type": "code",
   "execution_count": 36,
   "metadata": {
    "collapsed": true
   },
   "outputs": [],
   "source": [
    "cmdir(rootdir + \"proteins\")"
   ]
  },
  {
   "cell_type": "code",
   "execution_count": 9,
   "metadata": {
    "collapsed": true
   },
   "outputs": [],
   "source": [
    "def parse_kofamscan(path):\n",
    "   \n",
    "    buffer = []\n",
    "    for line in open(path).readlines():\n",
    "        if \"#\" not in line:\n",
    "            # hilariously long regex\n",
    "            m = re.search(\"[* ]*([\\S]+)\\s+([\\S]+)\\s+([0-9.-]+)\\s+\" + \\\n",
    "                \"([0-9.-]+)\\s+([0-9.+-e]+)\\s(.+?$)\", line.strip())\n",
    "            try:\n",
    "                buffer.append(m.groups())\n",
    "            except:\n",
    "                print(line)\n",
    "\n",
    "    kodf = pd.DataFrame.from_records(buffer, columns =[\"gene\", \"ko\", \"threshold\", \"score\", \"eval\", \"def\"]) \n",
    "    buffer=[]\n",
    "    return kodf"
   ]
  },
  {
   "cell_type": "code",
   "execution_count": 38,
   "metadata": {
    "collapsed": true,
    "jupyter": {
     "outputs_hidden": true
    }
   },
   "outputs": [],
   "source": [
    "with open(rootdir + \"proteins/first_pass.faa\", \"w\") as outfile:\n",
    "    for key, row in rub_df.iterrows():\n",
    "        outfile.write(\">%s\\n%s\\n\" %(row[\"protein\"], row[\"protein_seq\"]))"
   ]
  },
  {
   "cell_type": "code",
   "execution_count": 39,
   "metadata": {},
   "outputs": [
    {
     "name": "stdout",
     "output_type": "stream",
     "text": [
      "sbatch -J kofamscan -p serc -t 1- -c 20 --mem 160G --wrap 'exec_annotation -o /scratch/users/ajaffe/deepeco/proteins/first_pass.kfscan.txt /scratch/users/ajaffe/deepeco/proteins/first_pass.faa -p /home/groups/dekas/software/kofamscan/profiles/prokaryote.hal -k /home/groups/dekas/software/kofamscan/ko_list --cpu 20 -f detail'\n"
     ]
    }
   ],
   "source": [
    "# launch kofamscan\n",
    "kocall = \"exec_annotation -o %s %s -p %s -k %s --cpu 20 -f detail\" \\\n",
    "    %(rootdir + \"proteins/first_pass.kfscan.txt\", rootdir + \"proteins/first_pass.faa\",\n",
    "     \"/home/groups/dekas/software/kofamscan/profiles/prokaryote.hal\",\n",
    "      \"/home/groups/dekas/software/kofamscan/ko_list\")\n",
    "print(sbatch(\"kofamscan\", 20, kocall))"
   ]
  },
  {
   "cell_type": "code",
   "execution_count": 10,
   "metadata": {},
   "outputs": [
    {
     "data": {
      "text/plain": [
       "K01601    4868\n",
       "K01698    4740\n",
       "K00788    1632\n",
       "K01559    1003\n",
       "K25035     896\n",
       "K01783     511\n",
       "K13038     249\n",
       "K01714     245\n",
       "K01776     209\n",
       "K03972     149\n",
       "Name: ko, dtype: int64"
      ]
     },
     "execution_count": 10,
     "metadata": {},
     "output_type": "execute_result"
    }
   ],
   "source": [
    "# filter for significance\n",
    "kodf = parse_kofamscan(rootdir + \"proteins/first_pass.kfscan.txt\")\n",
    "kodf[\"eval\"] = kodf[\"eval\"].apply(lambda x: float(x))\n",
    "kodf[\"score\"] = kodf[\"score\"].apply(lambda x: float(x))\n",
    "kodf = kodf[kodf[\"eval\"] < 1e-5]\n",
    "# get best hit per gene based on score\n",
    "kfilt = kodf.sort_values('score', ascending=False).drop_duplicates(\"gene\")\n",
    "kfilt[\"ko\"].value_counts()[0:10]"
   ]
  },
  {
   "cell_type": "code",
   "execution_count": 11,
   "metadata": {},
   "outputs": [
    {
     "data": {
      "text/html": [
       "<div>\n",
       "<style scoped>\n",
       "    .dataframe tbody tr th:only-of-type {\n",
       "        vertical-align: middle;\n",
       "    }\n",
       "\n",
       "    .dataframe tbody tr th {\n",
       "        vertical-align: top;\n",
       "    }\n",
       "\n",
       "    .dataframe thead th {\n",
       "        text-align: right;\n",
       "    }\n",
       "</style>\n",
       "<table border=\"1\" class=\"dataframe\">\n",
       "  <thead>\n",
       "    <tr style=\"text-align: right;\">\n",
       "      <th></th>\n",
       "      <th>genome</th>\n",
       "      <th>protein</th>\n",
       "      <th>protein_len</th>\n",
       "      <th>protein_seq</th>\n",
       "    </tr>\n",
       "  </thead>\n",
       "  <tbody>\n",
       "    <tr>\n",
       "      <th>0</th>\n",
       "      <td>OceanDNA-b43099</td>\n",
       "      <td>OceanDNA-b43099_00060_1753_4_38</td>\n",
       "      <td>478</td>\n",
       "      <td>AGRAIMAKKGYDAGVKEYRDTYWMPEYEPKDTDILACFKITPQPGV...</td>\n",
       "    </tr>\n",
       "    <tr>\n",
       "      <th>13</th>\n",
       "      <td>OceanDNA-b43459</td>\n",
       "      <td>OceanDNA-b43459_00039_2973_3_74</td>\n",
       "      <td>464</td>\n",
       "      <td>KAVSLNQSSRYADLNLDEQTLMDEGRHILCAYRMKPKPGAGYLEGA...</td>\n",
       "    </tr>\n",
       "    <tr>\n",
       "      <th>15</th>\n",
       "      <td>OceanDNA-b35742</td>\n",
       "      <td>OceanDNA-b35742_00039_3392_2_73</td>\n",
       "      <td>500</td>\n",
       "      <td>TSKRFTVNYTHPPLQFNALDERTHLEQIFFSPYRLNFQENGMDQSA...</td>\n",
       "    </tr>\n",
       "    <tr>\n",
       "      <th>16</th>\n",
       "      <td>OceanDNA-b35742</td>\n",
       "      <td>OceanDNA-b35742_00388_705_3_27</td>\n",
       "      <td>403</td>\n",
       "      <td>SSPTKVQRTGWGYPTGKIFFILTDLNFLENGMDQSARYADLSLDED...</td>\n",
       "    </tr>\n",
       "    <tr>\n",
       "      <th>20</th>\n",
       "      <td>OceanDNA-b16381</td>\n",
       "      <td>OceanDNA-b16381_00013_5941_1_86</td>\n",
       "      <td>305</td>\n",
       "      <td>QELSMAKKYDAGVKEYRDTYFTPDYVPLDTDLLACFKCTGQEGVPK...</td>\n",
       "    </tr>\n",
       "  </tbody>\n",
       "</table>\n",
       "</div>"
      ],
      "text/plain": [
       "             genome                          protein  protein_len  \\\n",
       "0   OceanDNA-b43099  OceanDNA-b43099_00060_1753_4_38          478   \n",
       "13  OceanDNA-b43459  OceanDNA-b43459_00039_2973_3_74          464   \n",
       "15  OceanDNA-b35742  OceanDNA-b35742_00039_3392_2_73          500   \n",
       "16  OceanDNA-b35742   OceanDNA-b35742_00388_705_3_27          403   \n",
       "20  OceanDNA-b16381  OceanDNA-b16381_00013_5941_1_86          305   \n",
       "\n",
       "                                          protein_seq  \n",
       "0   AGRAIMAKKGYDAGVKEYRDTYWMPEYEPKDTDILACFKITPQPGV...  \n",
       "13  KAVSLNQSSRYADLNLDEQTLMDEGRHILCAYRMKPKPGAGYLEGA...  \n",
       "15  TSKRFTVNYTHPPLQFNALDERTHLEQIFFSPYRLNFQENGMDQSA...  \n",
       "16  SSPTKVQRTGWGYPTGKIFFILTDLNFLENGMDQSARYADLSLDED...  \n",
       "20  QELSMAKKYDAGVKEYRDTYFTPDYVPLDTDLLACFKCTGQEGVPK...  "
      ]
     },
     "execution_count": 11,
     "metadata": {},
     "output_type": "execute_result"
    }
   ],
   "source": [
    "# main rubisco ko + 2 RLP ones\n",
    "genes_to_retain = kfilt[kfilt[\"ko\"].isin([\"K01601\", \"K08965\", \"K25035\"])][\"gene\"].to_list()\n",
    "rub_df_filtered = rub_df[rub_df[\"protein\"].isin(genes_to_retain)]\n",
    "rub_df_filtered.head()"
   ]
  },
  {
   "cell_type": "markdown",
   "metadata": {},
   "source": [
    "### write out working set"
   ]
  },
  {
   "cell_type": "code",
   "execution_count": 42,
   "metadata": {
    "collapsed": true,
    "jupyter": {
     "outputs_hidden": true
    }
   },
   "outputs": [],
   "source": [
    "cmdir(rootdir + \"genomes\")\n",
    "cmdir(rootdir + \"genomes/first_pass\")"
   ]
  },
  {
   "cell_type": "code",
   "execution_count": 14,
   "metadata": {},
   "outputs": [
    {
     "name": "stderr",
     "output_type": "stream",
     "text": [
      "/share/software/user/open/py-jupyter/1.0.0_py36/lib/python3.6/site-packages/ipykernel_launcher.py:8: SettingWithCopyWarning: \n",
      "A value is trying to be set on a copy of a slice from a DataFrame.\n",
      "Try using .loc[row_indexer,col_indexer] = value instead\n",
      "\n",
      "See the caveats in the documentation: https://pandas.pydata.org/pandas-docs/stable/user_guide/indexing.html#returning-a-view-versus-a-copy\n",
      "  \n"
     ]
    }
   ],
   "source": [
    "paths = {}\n",
    "\n",
    "for genome_dir in genome_dirs: \n",
    "    for genome in glob.glob(genome_dir + \"/*\"):\n",
    "        name = re.search(\"(.+?)\\.f[na\\.gz]\", os.path.basename(genome)).group(1)\n",
    "        paths[name] = genome\n",
    "        \n",
    "rub_df_filtered[\"gpath\"] = rub_df_filtered[\"genome\"].map(paths).fillna(\"None\")"
   ]
  },
  {
   "cell_type": "code",
   "execution_count": 44,
   "metadata": {
    "collapsed": true,
    "jupyter": {
     "outputs_hidden": true
    }
   },
   "outputs": [],
   "source": [
    "for key, row in rub_df_filtered.iterrows():\n",
    "    \n",
    "    with open(rootdir + \"genomes/first_pass/\" + row[\"genome\"] + \".fa\", \"w\") as out:\n",
    "        \n",
    "        if \".gz\" in row[\"gpath\"]:\n",
    "            with gzip.open(row[\"gpath\"], \"rt\") as handle:\n",
    "                for record in sfp(handle):\n",
    "                    out.write(\">%s\\n%s\\n\" %(record[0], str(record[1])))\n",
    "        else:\n",
    "            for record in sfp(open(row[\"gpath\"])):\n",
    "                out.write(\">%s\\n%s\\n\" %(record[0], str(record[1])))  "
   ]
  },
  {
   "cell_type": "code",
   "execution_count": 45,
   "metadata": {},
   "outputs": [
    {
     "name": "stdout",
     "output_type": "stream",
     "text": [
      "rclone copy /scratch/users/ajaffe/deepeco/genomes/first_pass drive:deepeco/first_pass_genomes --progress\n"
     ]
    }
   ],
   "source": [
    "cmd = \"rclone copy /scratch/users/ajaffe/deepeco/genomes/first_pass drive:deepeco/first_pass_genomes --progress\"\n",
    "print(cmd)"
   ]
  },
  {
   "cell_type": "markdown",
   "metadata": {},
   "source": [
    "## generate genome metadata"
   ]
  },
  {
   "cell_type": "code",
   "execution_count": 46,
   "metadata": {
    "collapsed": true,
    "jupyter": {
     "outputs_hidden": true
    }
   },
   "outputs": [],
   "source": [
    "cmdir(rootdir + \"genomes/tk/\")\n",
    "cmdir(rootdir + \"genomes/quality/\")"
   ]
  },
  {
   "cell_type": "markdown",
   "metadata": {},
   "source": [
    "### identity"
   ]
  },
  {
   "cell_type": "code",
   "execution_count": 47,
   "metadata": {
    "collapsed": true,
    "jupyter": {
     "outputs_hidden": true
    }
   },
   "outputs": [],
   "source": [
    "genomes = glob.glob(rootdir + \"genomes/first_pass/*\")\n",
    "n = math.ceil(len(genomes)/20)\n",
    "\n",
    "for a, i in enumerate(range(0, len(genomes), n)):\n",
    "    with open(rootdir + \"genomes/tk/batch%d.txt\" %(a), \"w\") as out:\n",
    "        for genome in genomes[i:i + n]:\n",
    "            out.write(genome + \"\\t\" + os.path.basename(genome).split(\".fa\")[0] + \"\\n\")"
   ]
  },
  {
   "cell_type": "code",
   "execution_count": 48,
   "metadata": {
    "collapsed": true,
    "jupyter": {
     "outputs_hidden": true
    }
   },
   "outputs": [],
   "source": [
    "with open(rootdir + \"genomes/tk/classify.sh\", \"w+\") as out:\n",
    "    for batchfile in glob.glob(rootdir + \"genomes/tk/batch*.txt\"):\n",
    "        dirname = rootdir + \"genomes/tk/%s\" %(os.path.basename(batchfile).replace(\".txt\", \"\"))\n",
    "        base = \"gtdbtk classify_wf --cpus 20 -x .fa --batchfile %s --out_dir %s\" %(batchfile, dirname)\n",
    "        cmd = sbatch(os.path.basename(batchfile).split(\".\")[0], 20, base)\n",
    "        out.write(cmd + \"\\n\")"
   ]
  },
  {
   "cell_type": "code",
   "execution_count": 13,
   "metadata": {},
   "outputs": [
    {
     "data": {
      "text/html": [
       "<div>\n",
       "<style scoped>\n",
       "    .dataframe tbody tr th:only-of-type {\n",
       "        vertical-align: middle;\n",
       "    }\n",
       "\n",
       "    .dataframe tbody tr th {\n",
       "        vertical-align: top;\n",
       "    }\n",
       "\n",
       "    .dataframe thead th {\n",
       "        text-align: right;\n",
       "    }\n",
       "</style>\n",
       "<table border=\"1\" class=\"dataframe\">\n",
       "  <thead>\n",
       "    <tr style=\"text-align: right;\">\n",
       "      <th></th>\n",
       "      <th>user_genome</th>\n",
       "      <th>classification</th>\n",
       "      <th>fastani_reference</th>\n",
       "      <th>fastani_reference_radius</th>\n",
       "      <th>fastani_taxonomy</th>\n",
       "      <th>fastani_ani</th>\n",
       "      <th>fastani_af</th>\n",
       "      <th>closest_placement_reference</th>\n",
       "      <th>closest_placement_radius</th>\n",
       "      <th>closest_placement_taxonomy</th>\n",
       "      <th>closest_placement_ani</th>\n",
       "      <th>closest_placement_af</th>\n",
       "      <th>pplacer_taxonomy</th>\n",
       "      <th>classification_method</th>\n",
       "      <th>note</th>\n",
       "      <th>other_related_references(genome_id,species_name,radius,ANI,AF)</th>\n",
       "      <th>msa_percent</th>\n",
       "      <th>translation_table</th>\n",
       "      <th>red_value</th>\n",
       "      <th>warnings</th>\n",
       "    </tr>\n",
       "  </thead>\n",
       "  <tbody>\n",
       "    <tr>\n",
       "      <th>0</th>\n",
       "      <td>GORG_SAMEA6075888_SAGS_AG414B09</td>\n",
       "      <td>d__Archaea;p__Thermoproteota;c__Nitrososphaeri...</td>\n",
       "      <td>GCF_000812185.1</td>\n",
       "      <td>95.0</td>\n",
       "      <td>d__Archaea;p__Thermoproteota;c__Nitrososphaeri...</td>\n",
       "      <td>96.14</td>\n",
       "      <td>0.87</td>\n",
       "      <td>GCF_000812185.1</td>\n",
       "      <td>95.0</td>\n",
       "      <td>d__Archaea;p__Thermoproteota;c__Nitrososphaeri...</td>\n",
       "      <td>96.14</td>\n",
       "      <td>0.87</td>\n",
       "      <td>d__Archaea;p__Thermoproteota;c__Nitrososphaeri...</td>\n",
       "      <td>taxonomic classification defined by topology a...</td>\n",
       "      <td>topological placement and ANI have congruent s...</td>\n",
       "      <td>GCA_902552015.1, s__Nitrosopelagicus sp9025520...</td>\n",
       "      <td>68.95</td>\n",
       "      <td>11.0</td>\n",
       "      <td>NaN</td>\n",
       "      <td>NaN</td>\n",
       "    </tr>\n",
       "    <tr>\n",
       "      <th>1</th>\n",
       "      <td>HOTS_SAMN07137057_METAG_MGKKCAMH</td>\n",
       "      <td>d__Archaea;p__Thermoproteota;c__Nitrososphaeri...</td>\n",
       "      <td>NaN</td>\n",
       "      <td>NaN</td>\n",
       "      <td>NaN</td>\n",
       "      <td>NaN</td>\n",
       "      <td>NaN</td>\n",
       "      <td>GCA_002495905.1</td>\n",
       "      <td>95.0</td>\n",
       "      <td>d__Archaea;p__Thermoproteota;c__Nitrososphaeri...</td>\n",
       "      <td>88.30</td>\n",
       "      <td>0.80</td>\n",
       "      <td>d__Archaea;p__Thermoproteota;c__Nitrososphaeri...</td>\n",
       "      <td>taxonomic classification defined by topology a...</td>\n",
       "      <td>NaN</td>\n",
       "      <td>GCA_013378385.1, s__UBA57 sp013378385, 95.0, 8...</td>\n",
       "      <td>89.21</td>\n",
       "      <td>11.0</td>\n",
       "      <td>0.983248</td>\n",
       "      <td>Genome not assigned to closest species as it f...</td>\n",
       "    </tr>\n",
       "  </tbody>\n",
       "</table>\n",
       "</div>"
      ],
      "text/plain": [
       "                        user_genome  \\\n",
       "0   GORG_SAMEA6075888_SAGS_AG414B09   \n",
       "1  HOTS_SAMN07137057_METAG_MGKKCAMH   \n",
       "\n",
       "                                      classification fastani_reference  \\\n",
       "0  d__Archaea;p__Thermoproteota;c__Nitrososphaeri...   GCF_000812185.1   \n",
       "1  d__Archaea;p__Thermoproteota;c__Nitrososphaeri...               NaN   \n",
       "\n",
       "   fastani_reference_radius  \\\n",
       "0                      95.0   \n",
       "1                       NaN   \n",
       "\n",
       "                                    fastani_taxonomy  fastani_ani  fastani_af  \\\n",
       "0  d__Archaea;p__Thermoproteota;c__Nitrososphaeri...        96.14        0.87   \n",
       "1                                                NaN          NaN         NaN   \n",
       "\n",
       "  closest_placement_reference  closest_placement_radius  \\\n",
       "0             GCF_000812185.1                      95.0   \n",
       "1             GCA_002495905.1                      95.0   \n",
       "\n",
       "                          closest_placement_taxonomy  closest_placement_ani  \\\n",
       "0  d__Archaea;p__Thermoproteota;c__Nitrososphaeri...                  96.14   \n",
       "1  d__Archaea;p__Thermoproteota;c__Nitrososphaeri...                  88.30   \n",
       "\n",
       "   closest_placement_af                                   pplacer_taxonomy  \\\n",
       "0                  0.87  d__Archaea;p__Thermoproteota;c__Nitrososphaeri...   \n",
       "1                  0.80  d__Archaea;p__Thermoproteota;c__Nitrososphaeri...   \n",
       "\n",
       "                               classification_method  \\\n",
       "0  taxonomic classification defined by topology a...   \n",
       "1  taxonomic classification defined by topology a...   \n",
       "\n",
       "                                                note  \\\n",
       "0  topological placement and ANI have congruent s...   \n",
       "1                                                NaN   \n",
       "\n",
       "  other_related_references(genome_id,species_name,radius,ANI,AF)  msa_percent  \\\n",
       "0  GCA_902552015.1, s__Nitrosopelagicus sp9025520...                    68.95   \n",
       "1  GCA_013378385.1, s__UBA57 sp013378385, 95.0, 8...                    89.21   \n",
       "\n",
       "   translation_table  red_value  \\\n",
       "0               11.0        NaN   \n",
       "1               11.0   0.983248   \n",
       "\n",
       "                                            warnings  \n",
       "0                                                NaN  \n",
       "1  Genome not assigned to closest species as it f...  "
      ]
     },
     "execution_count": 13,
     "metadata": {},
     "output_type": "execute_result"
    }
   ],
   "source": [
    "# parse\n",
    "gtresults = pd.concat([pd.read_csv(item, sep=\"\\t\") for item in glob.glob(rootdir + \"genomes/tk/batch*/gtdbtk.*.summary.tsv\")])\n",
    "gtresults.head(2)"
   ]
  },
  {
   "cell_type": "code",
   "execution_count": 14,
   "metadata": {},
   "outputs": [
    {
     "data": {
      "text/plain": [
       "p__Nanoarchaeota        216\n",
       "p__Patescibacteria       19\n",
       "p__Iainarchaeota          5\n",
       "p__Aenigmatarchaeota      3\n",
       "Name: phylum, dtype: int64"
      ]
     },
     "execution_count": 14,
     "metadata": {},
     "output_type": "execute_result"
    }
   ],
   "source": [
    "# how many are CPR-DPANN?\n",
    "dpann_phyla = [\"p__Nanoarchaeota\", \"p__Huberarchaeota\", \"p__UAP2\", \"p__EX4484-52\", \n",
    "               \"p__Nanohaloarchaeota\", \"p__Iainarchaeota\", \"p__Aenigmatarchaeota\", \"p__Micrarchaeota\"]\n",
    "gtresults[\"phylum\"] = gtresults[\"classification\"].apply(lambda x: x.split(\";\")[1] if len(x.split(\";\"))>1 else \"None\")\n",
    "gtresults[(gtresults[\"phylum\"].str.contains(\"Patesci\") | gtresults[\"phylum\"].isin(dpann_phyla))][\"phylum\"].value_counts()"
   ]
  },
  {
   "cell_type": "markdown",
   "metadata": {},
   "source": [
    "### quality"
   ]
  },
  {
   "cell_type": "code",
   "execution_count": 49,
   "metadata": {
    "collapsed": true,
    "jupyter": {
     "outputs_hidden": true
    }
   },
   "outputs": [],
   "source": [
    "with open(rootdir + \"genomes/quality/run_checkm.sh\", \"w\") as out:\n",
    "    \n",
    "    for batchfile in glob.glob(rootdir + \"genomes/tk/batch*.txt\"):\n",
    "        \n",
    "        # create subdir for each batch\n",
    "        basename = os.path.basename(batchfile).split(\".\")[0]\n",
    "        batchdir = rootdir + \"genomes/quality/\" + basename + \"/\"\n",
    "        cmdir(batchdir)\n",
    "        \n",
    "        # rewrite batch file to work with checkm\n",
    "        with open(batchdir + \"batchfile.txt\", \"w\") as bf:\n",
    "            for line in open(batchfile).readlines():\n",
    "                bf.write(\"%s\\t%s\\n\" %(line.strip().split(\"\\t\")[1],\n",
    "                    line.strip().split(\"\\t\")[0]))\n",
    "        \n",
    "        # construct checkm calls\n",
    "        call = \"checkm lineage_wf -t 20 -x .fa --pplacer_threads 20 %s %s\" %(batchdir + \"batchfile.txt\", batchdir)\n",
    "        call2 = \"checkm qa -t 20 -o 1 -f %s --tab_table %s %s\" %(batchdir + \"output_table.txt\",\n",
    "            batchdir + \"lineage.ms\", batchdir)\n",
    "        cmd = sbatch(basename, 20, \"%s && %s\" %(call, call2))\n",
    "        out.write(cmd + \"\\n\")"
   ]
  },
  {
   "cell_type": "code",
   "execution_count": 16,
   "metadata": {
    "jupyter": {
     "outputs_hidden": true
    }
   },
   "outputs": [
    {
     "data": {
      "text/html": [
       "<div>\n",
       "<style scoped>\n",
       "    .dataframe tbody tr th:only-of-type {\n",
       "        vertical-align: middle;\n",
       "    }\n",
       "\n",
       "    .dataframe tbody tr th {\n",
       "        vertical-align: top;\n",
       "    }\n",
       "\n",
       "    .dataframe thead th {\n",
       "        text-align: right;\n",
       "    }\n",
       "</style>\n",
       "<table border=\"1\" class=\"dataframe\">\n",
       "  <thead>\n",
       "    <tr style=\"text-align: right;\">\n",
       "      <th></th>\n",
       "      <th>user_genome</th>\n",
       "      <th>checkm_completeness</th>\n",
       "      <th>checkm_redundancy</th>\n",
       "    </tr>\n",
       "  </thead>\n",
       "  <tbody>\n",
       "    <tr>\n",
       "      <th>0</th>\n",
       "      <td>AB-750_A23_AB-903_clean</td>\n",
       "      <td>40.15</td>\n",
       "      <td>0.86</td>\n",
       "    </tr>\n",
       "    <tr>\n",
       "      <th>1</th>\n",
       "      <td>AB-750_C07_AB-903_clean</td>\n",
       "      <td>32.60</td>\n",
       "      <td>1.87</td>\n",
       "    </tr>\n",
       "    <tr>\n",
       "      <th>2</th>\n",
       "      <td>AB-750_I16_AB-904_clean</td>\n",
       "      <td>22.75</td>\n",
       "      <td>0.00</td>\n",
       "    </tr>\n",
       "    <tr>\n",
       "      <th>3</th>\n",
       "      <td>AB-750_K03_AB-904_clean</td>\n",
       "      <td>51.73</td>\n",
       "      <td>1.38</td>\n",
       "    </tr>\n",
       "    <tr>\n",
       "      <th>4</th>\n",
       "      <td>AB-754_I23_AB-906_clean</td>\n",
       "      <td>40.87</td>\n",
       "      <td>1.49</td>\n",
       "    </tr>\n",
       "  </tbody>\n",
       "</table>\n",
       "</div>"
      ],
      "text/plain": [
       "               user_genome  checkm_completeness  checkm_redundancy\n",
       "0  AB-750_A23_AB-903_clean                40.15               0.86\n",
       "1  AB-750_C07_AB-903_clean                32.60               1.87\n",
       "2  AB-750_I16_AB-904_clean                22.75               0.00\n",
       "3  AB-750_K03_AB-904_clean                51.73               1.38\n",
       "4  AB-754_I23_AB-906_clean                40.87               1.49"
      ]
     },
     "execution_count": 16,
     "metadata": {},
     "output_type": "execute_result"
    }
   ],
   "source": [
    "# read in all results\n",
    "checkm_df = pd.concat([pd.read_csv(item, sep=\"\\t\") for item in \n",
    "    glob.glob(rootdir + \"genomes/quality/batch*/output_table.txt\")]).reset_index()\n",
    "checkm_df = checkm_df[[\"Bin Id\", \"Completeness\", \"Contamination\"]]\n",
    "checkm_df.columns = [\"user_genome\", \"checkm_completeness\", \"checkm_redundancy\"]\n",
    "checkm_df.head()"
   ]
  },
  {
   "cell_type": "markdown",
   "metadata": {},
   "source": [
    "### redundancy - first pass"
   ]
  },
  {
   "cell_type": "code",
   "execution_count": 56,
   "metadata": {
    "collapsed": true
   },
   "outputs": [],
   "source": [
    "cmdir(rootdir + \"genomes/first_pass_drep/\")"
   ]
  },
  {
   "cell_type": "code",
   "execution_count": 57,
   "metadata": {
    "collapsed": true,
    "jupyter": {
     "outputs_hidden": true
    }
   },
   "outputs": [],
   "source": [
    "# reformat quality information\n",
    "drep_df = checkm_df.rename(columns={\"checkm_completeness\":\"completeness\",\"checkm_redundancy\":\"contamination\"})\n",
    "drep_df[\"genome\"] = drep_df[\"user_genome\"].apply(lambda x: x + \".fa\")\n",
    "drep_df[[\"genome\", \"completeness\", \"contamination\"]].to_csv(rootdir + \"genomes/first_pass_drep/genomeInformation.csv\", sep=\",\", index=False)"
   ]
  },
  {
   "cell_type": "code",
   "execution_count": 58,
   "metadata": {},
   "outputs": [
    {
     "name": "stdout",
     "output_type": "stream",
     "text": [
      "sbatch -J drep -p serc -t 1- -c 20 --mem 160G --wrap 'dRep dereplicate /scratch/users/ajaffe/deepeco//genomes/first_pass_drep/ -sa 0.95 -p 20 -comp 50 -con 25 -d -g /scratch/users/ajaffe/deepeco//genomes/first_pass/*fa --genomeInfo /scratch/users/ajaffe/deepeco/genomes/first_pass_drep/genomeInformation.csv'\n"
     ]
    }
   ],
   "source": [
    "call = \"dRep dereplicate %s -sa 0.95 -p 20 -comp 50 -con 25 -d -g %s --genomeInfo %s\" %(rootdir + \\\n",
    "    \"/genomes/first_pass_drep/\", rootdir + \"/genomes/first_pass/*fa\",rootdir + \"genomes/first_pass_drep/genomeInformation.csv\")\n",
    "cmd = sbatch(\"drep\", 20, call)\n",
    "print(cmd)"
   ]
  },
  {
   "cell_type": "code",
   "execution_count": 18,
   "metadata": {},
   "outputs": [
    {
     "name": "stdout",
     "output_type": "stream",
     "text": [
      "prelim dRep and quality filtering cut down 5113 bins to 1192.\n"
     ]
    }
   ],
   "source": [
    "print(\"prelim dRep and quality filtering cut down %d bins to %d.\" %(len(glob.glob(rootdir+\"genomes/first_pass/*\")), len(glob.glob(rootdir+\"genomes/first_pass_drep/dereplicated_genomes/*\"))))"
   ]
  },
  {
   "cell_type": "markdown",
   "metadata": {},
   "source": [
    "## genome refinement"
   ]
  },
  {
   "cell_type": "code",
   "execution_count": 60,
   "metadata": {
    "collapsed": true
   },
   "outputs": [],
   "source": [
    "cmdir(rootdir + \"genomes/contigs\")\n",
    "cmdir(rootdir + \"genomes/contigs/fasta\")"
   ]
  },
  {
   "cell_type": "markdown",
   "metadata": {},
   "source": [
    "### get contigs across genomes"
   ]
  },
  {
   "cell_type": "code",
   "execution_count": 61,
   "metadata": {},
   "outputs": [
    {
     "name": "stdout",
     "output_type": "stream",
     "text": [
      "5747\n"
     ]
    }
   ],
   "source": [
    "count = 0\n",
    "\n",
    "for genome in rub_df_filtered[\"genome\"].unique():\n",
    "    \n",
    "    subtable = rub_df_filtered[rub_df_filtered[\"genome\"]==genome]\n",
    "    gpath = subtable[\"gpath\"].iloc[0]\n",
    "    proteins = subtable[\"protein\"].to_list()\n",
    "    contigs = [\"_\".join(protein.split(\"_\")[:-3]) for protein in proteins]\n",
    "    count += len(set(contigs))\n",
    "        \n",
    "    if \".gz\" in gpath:\n",
    "        handle = gzip.open(gpath, \"rt\")\n",
    "    else: handle = open(gpath)\n",
    "    \n",
    "    for record in sfp(handle):\n",
    "        if record[0].split(\" \")[0] in contigs:\n",
    "            clean = record[0].split(\" \")[0].replace(\"(\", \"_\").replace(\")\", \"_\")\n",
    "            with open(rootdir + \"genomes/contigs/fasta/\" + clean + \".fna\", \"w\") as out:\n",
    "                out.write(\">%s\\n%s\\n\" %(record[0].split(\" \")[0], str(record[1])))\n",
    "\n",
    "print(count)"
   ]
  },
  {
   "cell_type": "markdown",
   "metadata": {},
   "source": [
    "### annotate proteins"
   ]
  },
  {
   "cell_type": "code",
   "execution_count": 29,
   "metadata": {
    "collapsed": true
   },
   "outputs": [],
   "source": [
    "cmdir(rootdir + \"genomes/contigs/diamond\")\n",
    "cmdir(rootdir + \"genomes/contigs/diamond/parts\")\n",
    "adir = rootdir + \"genomes/contigs/\"\n",
    "import skbio"
   ]
  },
  {
   "cell_type": "code",
   "execution_count": 62,
   "metadata": {
    "collapsed": true
   },
   "outputs": [],
   "source": [
    "with open(rootdir + \"genomes/contigs/predict.sh\", \"w\") as out:\n",
    "    for contig in glob.glob(rootdir + \"genomes/contigs/fasta/*\"):\n",
    "        call = \"prodigal -i %s -a %s -p meta\" %(contig, contig.replace(\".fna\", \".faa\"))\n",
    "        out.write(call + \"\\n\")"
   ]
  },
  {
   "cell_type": "markdown",
   "metadata": {},
   "source": [
    "cat all prodigal into all_scaffold_proteins.faa."
   ]
  },
  {
   "cell_type": "code",
   "execution_count": 66,
   "metadata": {
    "collapsed": true
   },
   "outputs": [],
   "source": [
    "# split and launch diamond\n",
    "records = [r for r in sfp(open(adir + \"diamond/all_scaffold_proteins.faa\"))]\n",
    "wrapper = open(adir + \"diamond/diamond.sh\", \"w\")\n",
    "\n",
    "n = math.ceil(len(records)/30)\n",
    "for i in range(0, len(records),n):\n",
    "    \n",
    "    # write partial faa\n",
    "    with open(adir + \"diamond/parts/part\" + str(int(i/n)+1) + \".faa\", \"w\") as chunk:\n",
    "        for record in records[i:i + n]:\n",
    "            chunk.write(\">%s\\n%s\\n\" %(record[0], str(record[1])))\n",
    "    \n",
    "    # generate diamond call\n",
    "    call = \"diamond blastp -d /$OAK/db/uniref100.dmnd -q %s -o %s --threads 20 -b8 -c1\" \\\n",
    "            %(adir + \"diamond/parts/part\" + str(int(i/n)+1) + \".faa\",\n",
    "              adir + \"diamond/parts/part\" + str(int(i/n)+1) + \".txt\")\n",
    "    cmd = sbatch(\"dmnd\", 20, call)\n",
    "    wrapper.write(cmd + \"\\n\")\n",
    "\n",
    "wrapper.close()"
   ]
  },
  {
   "cell_type": "code",
   "execution_count": 37,
   "metadata": {},
   "outputs": [
    {
     "data": {
      "text/html": [
       "<div>\n",
       "<style scoped>\n",
       "    .dataframe tbody tr th:only-of-type {\n",
       "        vertical-align: middle;\n",
       "    }\n",
       "\n",
       "    .dataframe tbody tr th {\n",
       "        vertical-align: top;\n",
       "    }\n",
       "\n",
       "    .dataframe thead th {\n",
       "        text-align: right;\n",
       "    }\n",
       "</style>\n",
       "<table border=\"1\" class=\"dataframe\">\n",
       "  <thead>\n",
       "    <tr style=\"text-align: right;\">\n",
       "      <th></th>\n",
       "      <th>qseqid</th>\n",
       "      <th>sseqid</th>\n",
       "      <th>pident</th>\n",
       "      <th>length</th>\n",
       "      <th>mismatch</th>\n",
       "      <th>gapopen</th>\n",
       "      <th>qstart</th>\n",
       "      <th>qend</th>\n",
       "      <th>sstart</th>\n",
       "      <th>send</th>\n",
       "      <th>evalue</th>\n",
       "      <th>bitscore</th>\n",
       "      <th>qlen</th>\n",
       "      <th>qcov</th>\n",
       "    </tr>\n",
       "  </thead>\n",
       "  <tbody>\n",
       "    <tr>\n",
       "      <th>254960</th>\n",
       "      <td>GORG_AG893I20_SAGS-scaffold_1_86</td>\n",
       "      <td>UniRef100_A0A3D8UNY3</td>\n",
       "      <td>98.3</td>\n",
       "      <td>1501.0</td>\n",
       "      <td>25.0</td>\n",
       "      <td>0.0</td>\n",
       "      <td>1.0</td>\n",
       "      <td>1501.0</td>\n",
       "      <td>1.0</td>\n",
       "      <td>1501.0</td>\n",
       "      <td>0.0</td>\n",
       "      <td>2922.0</td>\n",
       "      <td>1502</td>\n",
       "      <td>0.998668</td>\n",
       "    </tr>\n",
       "    <tr>\n",
       "      <th>202970</th>\n",
       "      <td>GORG_AG891C19_SAGS-scaffold_1_60</td>\n",
       "      <td>UniRef100_A0A3D8UNY3</td>\n",
       "      <td>98.3</td>\n",
       "      <td>1501.0</td>\n",
       "      <td>26.0</td>\n",
       "      <td>0.0</td>\n",
       "      <td>1.0</td>\n",
       "      <td>1501.0</td>\n",
       "      <td>1.0</td>\n",
       "      <td>1501.0</td>\n",
       "      <td>0.0</td>\n",
       "      <td>2920.0</td>\n",
       "      <td>1502</td>\n",
       "      <td>0.998668</td>\n",
       "    </tr>\n",
       "    <tr>\n",
       "      <th>184217</th>\n",
       "      <td>GORG_AG447F10_SAGS-scaffold_1_110</td>\n",
       "      <td>UniRef100_A0A3D8UNY3</td>\n",
       "      <td>98.3</td>\n",
       "      <td>1501.0</td>\n",
       "      <td>25.0</td>\n",
       "      <td>0.0</td>\n",
       "      <td>1.0</td>\n",
       "      <td>1501.0</td>\n",
       "      <td>1.0</td>\n",
       "      <td>1501.0</td>\n",
       "      <td>0.0</td>\n",
       "      <td>2919.0</td>\n",
       "      <td>1502</td>\n",
       "      <td>0.998668</td>\n",
       "    </tr>\n",
       "    <tr>\n",
       "      <th>189199</th>\n",
       "      <td>GORG_AG453A13_SAGS-scaffold_1_48</td>\n",
       "      <td>UniRef100_A0A0A2B5Q5</td>\n",
       "      <td>93.6</td>\n",
       "      <td>1298.0</td>\n",
       "      <td>83.0</td>\n",
       "      <td>0.0</td>\n",
       "      <td>1.0</td>\n",
       "      <td>1298.0</td>\n",
       "      <td>1.0</td>\n",
       "      <td>1298.0</td>\n",
       "      <td>0.0</td>\n",
       "      <td>2365.0</td>\n",
       "      <td>1299</td>\n",
       "      <td>0.998460</td>\n",
       "    </tr>\n",
       "    <tr>\n",
       "      <th>225892</th>\n",
       "      <td>GORG_AG892J14_SAGS-scaffold_1_59</td>\n",
       "      <td>UniRef100_A0A8I1WZA4</td>\n",
       "      <td>91.2</td>\n",
       "      <td>1298.0</td>\n",
       "      <td>112.0</td>\n",
       "      <td>2.0</td>\n",
       "      <td>1.0</td>\n",
       "      <td>1296.0</td>\n",
       "      <td>1.0</td>\n",
       "      <td>1298.0</td>\n",
       "      <td>0.0</td>\n",
       "      <td>2303.0</td>\n",
       "      <td>1297</td>\n",
       "      <td>0.998458</td>\n",
       "    </tr>\n",
       "  </tbody>\n",
       "</table>\n",
       "</div>"
      ],
      "text/plain": [
       "                                   qseqid                sseqid  pident  \\\n",
       "254960   GORG_AG893I20_SAGS-scaffold_1_86  UniRef100_A0A3D8UNY3    98.3   \n",
       "202970   GORG_AG891C19_SAGS-scaffold_1_60  UniRef100_A0A3D8UNY3    98.3   \n",
       "184217  GORG_AG447F10_SAGS-scaffold_1_110  UniRef100_A0A3D8UNY3    98.3   \n",
       "189199   GORG_AG453A13_SAGS-scaffold_1_48  UniRef100_A0A0A2B5Q5    93.6   \n",
       "225892   GORG_AG892J14_SAGS-scaffold_1_59  UniRef100_A0A8I1WZA4    91.2   \n",
       "\n",
       "        length  mismatch  gapopen  qstart    qend  sstart    send  evalue  \\\n",
       "254960  1501.0      25.0      0.0     1.0  1501.0     1.0  1501.0     0.0   \n",
       "202970  1501.0      26.0      0.0     1.0  1501.0     1.0  1501.0     0.0   \n",
       "184217  1501.0      25.0      0.0     1.0  1501.0     1.0  1501.0     0.0   \n",
       "189199  1298.0      83.0      0.0     1.0  1298.0     1.0  1298.0     0.0   \n",
       "225892  1298.0     112.0      2.0     1.0  1296.0     1.0  1298.0     0.0   \n",
       "\n",
       "        bitscore  qlen      qcov  \n",
       "254960    2922.0  1502  0.998668  \n",
       "202970    2920.0  1502  0.998668  \n",
       "184217    2919.0  1502  0.998668  \n",
       "189199    2365.0  1299  0.998460  \n",
       "225892    2303.0  1297  0.998458  "
      ]
     },
     "execution_count": 37,
     "metadata": {},
     "output_type": "execute_result"
    }
   ],
   "source": [
    "# concatenate + collect taxonomy\n",
    "dmnd = pd.concat([skbio.io.read(item, format=\"blast+6\", into=pd.DataFrame, default_columns=True) \\\n",
    "                      for item in glob.glob(adir + \"diamond/parts/part*.txt\")])\n",
    "# compute coverage\n",
    "faalens = {record[0].split(\" \")[0]: len(record[1]) for record \\\n",
    "           in sfp(open(adir + \"diamond/all_scaffold_proteins.faa\"))}\n",
    "dmnd[\"qlen\"] = dmnd[\"qseqid\"].map(faalens)\n",
    "dmnd[\"qcov\"] = dmnd.apply(lambda x: (x[\"qend\"]-x[\"qstart\"])/x[\"qlen\"], axis=1)\n",
    "# choose best hits for each\n",
    "dmnd = dmnd.sort_values([\"bitscore\", \"qcov\"], ascending=[False,False]).drop_duplicates(\"qseqid\")\n",
    "# filter for min cov /eval\n",
    "dmnd = dmnd[(dmnd[\"evalue\"]<1e-20) & (dmnd[\"qcov\"]>0.70)]\n",
    "dmnd.head()"
   ]
  },
  {
   "cell_type": "markdown",
   "metadata": {},
   "source": [
    "### get taxonomy"
   ]
  },
  {
   "cell_type": "code",
   "execution_count": 32,
   "metadata": {
    "collapsed": true
   },
   "outputs": [],
   "source": [
    "from scipy import stats\n",
    "from bs4 import BeautifulSoup"
   ]
  },
  {
   "cell_type": "code",
   "execution_count": 19,
   "metadata": {
    "collapsed": true
   },
   "outputs": [],
   "source": [
    "# map to uniref ids\n",
    "with open(adir + \"diamond/uniref_ids.txt\", \"w\") as out:\n",
    "    for uid in dmnd[\"sseqid\"].unique():\n",
    "        out.write(uid.split(\"_\")[1] + \"\\n\")"
   ]
  },
  {
   "cell_type": "markdown",
   "metadata": {},
   "source": [
    "N.B. need to do two searches, one for uniref and one for uniparc. In this case also need to split input."
   ]
  },
  {
   "cell_type": "code",
   "execution_count": 38,
   "metadata": {},
   "outputs": [
    {
     "data": {
      "text/html": [
       "<div>\n",
       "<style scoped>\n",
       "    .dataframe tbody tr th:only-of-type {\n",
       "        vertical-align: middle;\n",
       "    }\n",
       "\n",
       "    .dataframe tbody tr th {\n",
       "        vertical-align: top;\n",
       "    }\n",
       "\n",
       "    .dataframe thead th {\n",
       "        text-align: right;\n",
       "    }\n",
       "</style>\n",
       "<table border=\"1\" class=\"dataframe\">\n",
       "  <thead>\n",
       "    <tr style=\"text-align: right;\">\n",
       "      <th></th>\n",
       "      <th>from</th>\n",
       "      <th>entry</th>\n",
       "      <th>organism</th>\n",
       "      <th>organism_id</th>\n",
       "      <th>taxid</th>\n",
       "    </tr>\n",
       "  </thead>\n",
       "  <tbody>\n",
       "    <tr>\n",
       "      <th>0</th>\n",
       "      <td>UPI0008E7A175</td>\n",
       "      <td>A0A9W5XJD4</td>\n",
       "      <td>Micromonospora sediminimaris</td>\n",
       "      <td>547162</td>\n",
       "      <td>547162</td>\n",
       "    </tr>\n",
       "    <tr>\n",
       "      <th>1</th>\n",
       "      <td>UPI0008DF770B</td>\n",
       "      <td>A0A9W5XHW8</td>\n",
       "      <td>Micromonospora sediminimaris</td>\n",
       "      <td>547162</td>\n",
       "      <td>547162</td>\n",
       "    </tr>\n",
       "    <tr>\n",
       "      <th>2</th>\n",
       "      <td>UPI0008EAC30F</td>\n",
       "      <td>A0A9W5XHX2</td>\n",
       "      <td>Micromonospora sediminimaris</td>\n",
       "      <td>547162</td>\n",
       "      <td>547162</td>\n",
       "    </tr>\n",
       "    <tr>\n",
       "      <th>3</th>\n",
       "      <td>UPI0008F0A88F</td>\n",
       "      <td>A0A9W5XI89</td>\n",
       "      <td>Micromonospora sediminimaris</td>\n",
       "      <td>547162</td>\n",
       "      <td>547162</td>\n",
       "    </tr>\n",
       "    <tr>\n",
       "      <th>4</th>\n",
       "      <td>UPI0008EDCAD6</td>\n",
       "      <td>A0A9W5ULQ2</td>\n",
       "      <td>Micromonospora sediminimaris</td>\n",
       "      <td>547162</td>\n",
       "      <td>547162</td>\n",
       "    </tr>\n",
       "  </tbody>\n",
       "</table>\n",
       "</div>"
      ],
      "text/plain": [
       "            from       entry                      organism organism_id   taxid\n",
       "0  UPI0008E7A175  A0A9W5XJD4  Micromonospora sediminimaris      547162  547162\n",
       "1  UPI0008DF770B  A0A9W5XHW8  Micromonospora sediminimaris      547162  547162\n",
       "2  UPI0008EAC30F  A0A9W5XHX2  Micromonospora sediminimaris      547162  547162\n",
       "3  UPI0008F0A88F  A0A9W5XI89  Micromonospora sediminimaris      547162  547162\n",
       "4  UPI0008EDCAD6  A0A9W5ULQ2  Micromonospora sediminimaris      547162  547162"
      ]
     },
     "execution_count": 38,
     "metadata": {},
     "output_type": "execute_result"
    }
   ],
   "source": [
    "uni = pd.concat([pd.read_csv(item,sep=\"\\t\", dtype=str) for \\\n",
    "                 item in glob.glob(adir + \"diamond/uniref/*tsv\")]).fillna(\"None\")\n",
    "uni.columns = [\"from\", \"entry\", \"organism\", \"organism_id\"]\n",
    "uni[\"taxid\"] = uni[\"organism_id\"].apply(lambda x: stats.mode(x.split(\"; \"))[0][0])\n",
    "uni.head()"
   ]
  },
  {
   "cell_type": "code",
   "execution_count": 23,
   "metadata": {
    "collapsed": true
   },
   "outputs": [],
   "source": [
    "with open(adir + \"diamond/ncbi_tax.txt\", \"w\") as out:\n",
    "    for tax in uni[\"taxid\"].unique():\n",
    "        if tax != \"None\":\n",
    "            out.write(tax + \"\\n\")"
   ]
  },
  {
   "cell_type": "code",
   "execution_count": 39,
   "metadata": {},
   "outputs": [
    {
     "data": {
      "text/html": [
       "<div>\n",
       "<style scoped>\n",
       "    .dataframe tbody tr th:only-of-type {\n",
       "        vertical-align: middle;\n",
       "    }\n",
       "\n",
       "    .dataframe tbody tr th {\n",
       "        vertical-align: top;\n",
       "    }\n",
       "\n",
       "    .dataframe thead th {\n",
       "        text-align: right;\n",
       "    }\n",
       "</style>\n",
       "<table border=\"1\" class=\"dataframe\">\n",
       "  <thead>\n",
       "    <tr style=\"text-align: right;\">\n",
       "      <th></th>\n",
       "      <th>from</th>\n",
       "      <th>entry</th>\n",
       "      <th>organism</th>\n",
       "      <th>organism_id</th>\n",
       "      <th>taxid</th>\n",
       "      <th>lineage</th>\n",
       "      <th>phylum</th>\n",
       "    </tr>\n",
       "  </thead>\n",
       "  <tbody>\n",
       "    <tr>\n",
       "      <th>0</th>\n",
       "      <td>UPI0008E7A175</td>\n",
       "      <td>A0A9W5XJD4</td>\n",
       "      <td>Micromonospora sediminimaris</td>\n",
       "      <td>547162</td>\n",
       "      <td>547162</td>\n",
       "      <td>cellular organisms; Bacteria; Terrabacteria gr...</td>\n",
       "      <td>Actinomycetota;Actinomycetes</td>\n",
       "    </tr>\n",
       "    <tr>\n",
       "      <th>1</th>\n",
       "      <td>UPI0008DF770B</td>\n",
       "      <td>A0A9W5XHW8</td>\n",
       "      <td>Micromonospora sediminimaris</td>\n",
       "      <td>547162</td>\n",
       "      <td>547162</td>\n",
       "      <td>cellular organisms; Bacteria; Terrabacteria gr...</td>\n",
       "      <td>Actinomycetota;Actinomycetes</td>\n",
       "    </tr>\n",
       "    <tr>\n",
       "      <th>2</th>\n",
       "      <td>UPI0008EAC30F</td>\n",
       "      <td>A0A9W5XHX2</td>\n",
       "      <td>Micromonospora sediminimaris</td>\n",
       "      <td>547162</td>\n",
       "      <td>547162</td>\n",
       "      <td>cellular organisms; Bacteria; Terrabacteria gr...</td>\n",
       "      <td>Actinomycetota;Actinomycetes</td>\n",
       "    </tr>\n",
       "    <tr>\n",
       "      <th>3</th>\n",
       "      <td>UPI0008F0A88F</td>\n",
       "      <td>A0A9W5XI89</td>\n",
       "      <td>Micromonospora sediminimaris</td>\n",
       "      <td>547162</td>\n",
       "      <td>547162</td>\n",
       "      <td>cellular organisms; Bacteria; Terrabacteria gr...</td>\n",
       "      <td>Actinomycetota;Actinomycetes</td>\n",
       "    </tr>\n",
       "    <tr>\n",
       "      <th>4</th>\n",
       "      <td>UPI0008EDCAD6</td>\n",
       "      <td>A0A9W5ULQ2</td>\n",
       "      <td>Micromonospora sediminimaris</td>\n",
       "      <td>547162</td>\n",
       "      <td>547162</td>\n",
       "      <td>cellular organisms; Bacteria; Terrabacteria gr...</td>\n",
       "      <td>Actinomycetota;Actinomycetes</td>\n",
       "    </tr>\n",
       "  </tbody>\n",
       "</table>\n",
       "</div>"
      ],
      "text/plain": [
       "            from       entry                      organism organism_id  \\\n",
       "0  UPI0008E7A175  A0A9W5XJD4  Micromonospora sediminimaris      547162   \n",
       "1  UPI0008DF770B  A0A9W5XHW8  Micromonospora sediminimaris      547162   \n",
       "2  UPI0008EAC30F  A0A9W5XHX2  Micromonospora sediminimaris      547162   \n",
       "3  UPI0008F0A88F  A0A9W5XI89  Micromonospora sediminimaris      547162   \n",
       "4  UPI0008EDCAD6  A0A9W5ULQ2  Micromonospora sediminimaris      547162   \n",
       "\n",
       "    taxid                                            lineage  \\\n",
       "0  547162  cellular organisms; Bacteria; Terrabacteria gr...   \n",
       "1  547162  cellular organisms; Bacteria; Terrabacteria gr...   \n",
       "2  547162  cellular organisms; Bacteria; Terrabacteria gr...   \n",
       "3  547162  cellular organisms; Bacteria; Terrabacteria gr...   \n",
       "4  547162  cellular organisms; Bacteria; Terrabacteria gr...   \n",
       "\n",
       "                         phylum  \n",
       "0  Actinomycetota;Actinomycetes  \n",
       "1  Actinomycetota;Actinomycetes  \n",
       "2  Actinomycetota;Actinomycetes  \n",
       "3  Actinomycetota;Actinomycetes  \n",
       "4  Actinomycetota;Actinomycetes  "
      ]
     },
     "execution_count": 39,
     "metadata": {},
     "output_type": "execute_result"
    }
   ],
   "source": [
    "lineage_info = defaultdict(list)\n",
    "\n",
    "for xml in glob.glob(adir + \"/diamond/*xml\"):\n",
    "    \n",
    "    for block in BeautifulSoup(open(xml), \"xml\").findAll(\"Taxon\"):\n",
    "        \n",
    "        lineage, phylum, classe = \"None\", \"None\", \"None\"\n",
    "\n",
    "        if block.find(\"Lineage\"):\n",
    "            lineage = block.find(\"Lineage\").string\n",
    "\n",
    "        for level in block.findAll(\"Taxon\"):\n",
    "            if level.find(\"Rank\").string==\"phylum\":\n",
    "                phylum = level.find(\"ScientificName\").string\n",
    "            elif level.find(\"Rank\").string==\"class\":\n",
    "                classe = level.find(\"ScientificName\").string\n",
    "                \n",
    "        if (phylum == classe == 'None') and (lineage!='None'):\n",
    "            phylum = lineage.split(\"; \")[-1]\n",
    "\n",
    "        lineage_info[\"taxid\"].append(block.find(\"TaxId\").string)\n",
    "        lineage_info[\"lineage\"].append(lineage)\n",
    "        lineage_info[\"phylum\"].append(\";\".join([phylum, classe]))\n",
    "\n",
    "lineage_df = pd.DataFrame(lineage_info).query(\"lineage!='None'\")\n",
    "uni = uni.merge(lineage_df, how=\"left\", on=\"taxid\")\n",
    "uni.head()"
   ]
  },
  {
   "cell_type": "code",
   "execution_count": 40,
   "metadata": {},
   "outputs": [
    {
     "data": {
      "text/html": [
       "<div>\n",
       "<style scoped>\n",
       "    .dataframe tbody tr th:only-of-type {\n",
       "        vertical-align: middle;\n",
       "    }\n",
       "\n",
       "    .dataframe tbody tr th {\n",
       "        vertical-align: top;\n",
       "    }\n",
       "\n",
       "    .dataframe thead th {\n",
       "        text-align: right;\n",
       "    }\n",
       "</style>\n",
       "<table border=\"1\" class=\"dataframe\">\n",
       "  <thead>\n",
       "    <tr style=\"text-align: right;\">\n",
       "      <th></th>\n",
       "      <th>qseqid</th>\n",
       "      <th>sseqid</th>\n",
       "      <th>pident</th>\n",
       "      <th>length</th>\n",
       "      <th>mismatch</th>\n",
       "      <th>gapopen</th>\n",
       "      <th>qstart</th>\n",
       "      <th>qend</th>\n",
       "      <th>sstart</th>\n",
       "      <th>send</th>\n",
       "      <th>evalue</th>\n",
       "      <th>bitscore</th>\n",
       "      <th>qlen</th>\n",
       "      <th>qcov</th>\n",
       "      <th>scaffold</th>\n",
       "      <th>entry</th>\n",
       "      <th>phylum</th>\n",
       "    </tr>\n",
       "  </thead>\n",
       "  <tbody>\n",
       "    <tr>\n",
       "      <th>0</th>\n",
       "      <td>GORG_AG893I20_SAGS-scaffold_1_86</td>\n",
       "      <td>UniRef100_A0A3D8UNY3</td>\n",
       "      <td>98.3</td>\n",
       "      <td>1501.0</td>\n",
       "      <td>25.0</td>\n",
       "      <td>0.0</td>\n",
       "      <td>1.0</td>\n",
       "      <td>1501.0</td>\n",
       "      <td>1.0</td>\n",
       "      <td>1501.0</td>\n",
       "      <td>0.0</td>\n",
       "      <td>2922.0</td>\n",
       "      <td>1502</td>\n",
       "      <td>0.998668</td>\n",
       "      <td>GORG_AG893I20_SAGS-scaffold_1</td>\n",
       "      <td>A0A3D8UNY3</td>\n",
       "      <td>unclassified Bacteria;None</td>\n",
       "    </tr>\n",
       "    <tr>\n",
       "      <th>1</th>\n",
       "      <td>GORG_AG891C19_SAGS-scaffold_1_60</td>\n",
       "      <td>UniRef100_A0A3D8UNY3</td>\n",
       "      <td>98.3</td>\n",
       "      <td>1501.0</td>\n",
       "      <td>26.0</td>\n",
       "      <td>0.0</td>\n",
       "      <td>1.0</td>\n",
       "      <td>1501.0</td>\n",
       "      <td>1.0</td>\n",
       "      <td>1501.0</td>\n",
       "      <td>0.0</td>\n",
       "      <td>2920.0</td>\n",
       "      <td>1502</td>\n",
       "      <td>0.998668</td>\n",
       "      <td>GORG_AG891C19_SAGS-scaffold_1</td>\n",
       "      <td>A0A3D8UNY3</td>\n",
       "      <td>unclassified Bacteria;None</td>\n",
       "    </tr>\n",
       "    <tr>\n",
       "      <th>2</th>\n",
       "      <td>GORG_AG447F10_SAGS-scaffold_1_110</td>\n",
       "      <td>UniRef100_A0A3D8UNY3</td>\n",
       "      <td>98.3</td>\n",
       "      <td>1501.0</td>\n",
       "      <td>25.0</td>\n",
       "      <td>0.0</td>\n",
       "      <td>1.0</td>\n",
       "      <td>1501.0</td>\n",
       "      <td>1.0</td>\n",
       "      <td>1501.0</td>\n",
       "      <td>0.0</td>\n",
       "      <td>2919.0</td>\n",
       "      <td>1502</td>\n",
       "      <td>0.998668</td>\n",
       "      <td>GORG_AG447F10_SAGS-scaffold_1</td>\n",
       "      <td>A0A3D8UNY3</td>\n",
       "      <td>unclassified Bacteria;None</td>\n",
       "    </tr>\n",
       "    <tr>\n",
       "      <th>3</th>\n",
       "      <td>GORG_AG453A13_SAGS-scaffold_1_48</td>\n",
       "      <td>UniRef100_A0A0A2B5Q5</td>\n",
       "      <td>93.6</td>\n",
       "      <td>1298.0</td>\n",
       "      <td>83.0</td>\n",
       "      <td>0.0</td>\n",
       "      <td>1.0</td>\n",
       "      <td>1298.0</td>\n",
       "      <td>1.0</td>\n",
       "      <td>1298.0</td>\n",
       "      <td>0.0</td>\n",
       "      <td>2365.0</td>\n",
       "      <td>1299</td>\n",
       "      <td>0.998460</td>\n",
       "      <td>GORG_AG453A13_SAGS-scaffold_1</td>\n",
       "      <td>A0A0A2B5Q5</td>\n",
       "      <td>Cyanobacteriota;Cyanophyceae</td>\n",
       "    </tr>\n",
       "    <tr>\n",
       "      <th>4</th>\n",
       "      <td>GORG_AG892J14_SAGS-scaffold_1_59</td>\n",
       "      <td>UniRef100_A0A8I1WZA4</td>\n",
       "      <td>91.2</td>\n",
       "      <td>1298.0</td>\n",
       "      <td>112.0</td>\n",
       "      <td>2.0</td>\n",
       "      <td>1.0</td>\n",
       "      <td>1296.0</td>\n",
       "      <td>1.0</td>\n",
       "      <td>1298.0</td>\n",
       "      <td>0.0</td>\n",
       "      <td>2303.0</td>\n",
       "      <td>1297</td>\n",
       "      <td>0.998458</td>\n",
       "      <td>GORG_AG892J14_SAGS-scaffold_1</td>\n",
       "      <td>A0A8I1WZA4</td>\n",
       "      <td>Cyanobacteriota;Cyanophyceae</td>\n",
       "    </tr>\n",
       "  </tbody>\n",
       "</table>\n",
       "</div>"
      ],
      "text/plain": [
       "                              qseqid                sseqid  pident  length  \\\n",
       "0   GORG_AG893I20_SAGS-scaffold_1_86  UniRef100_A0A3D8UNY3    98.3  1501.0   \n",
       "1   GORG_AG891C19_SAGS-scaffold_1_60  UniRef100_A0A3D8UNY3    98.3  1501.0   \n",
       "2  GORG_AG447F10_SAGS-scaffold_1_110  UniRef100_A0A3D8UNY3    98.3  1501.0   \n",
       "3   GORG_AG453A13_SAGS-scaffold_1_48  UniRef100_A0A0A2B5Q5    93.6  1298.0   \n",
       "4   GORG_AG892J14_SAGS-scaffold_1_59  UniRef100_A0A8I1WZA4    91.2  1298.0   \n",
       "\n",
       "   mismatch  gapopen  qstart    qend  sstart    send  evalue  bitscore  qlen  \\\n",
       "0      25.0      0.0     1.0  1501.0     1.0  1501.0     0.0    2922.0  1502   \n",
       "1      26.0      0.0     1.0  1501.0     1.0  1501.0     0.0    2920.0  1502   \n",
       "2      25.0      0.0     1.0  1501.0     1.0  1501.0     0.0    2919.0  1502   \n",
       "3      83.0      0.0     1.0  1298.0     1.0  1298.0     0.0    2365.0  1299   \n",
       "4     112.0      2.0     1.0  1296.0     1.0  1298.0     0.0    2303.0  1297   \n",
       "\n",
       "       qcov                       scaffold       entry  \\\n",
       "0  0.998668  GORG_AG893I20_SAGS-scaffold_1  A0A3D8UNY3   \n",
       "1  0.998668  GORG_AG891C19_SAGS-scaffold_1  A0A3D8UNY3   \n",
       "2  0.998668  GORG_AG447F10_SAGS-scaffold_1  A0A3D8UNY3   \n",
       "3  0.998460  GORG_AG453A13_SAGS-scaffold_1  A0A0A2B5Q5   \n",
       "4  0.998458  GORG_AG892J14_SAGS-scaffold_1  A0A8I1WZA4   \n",
       "\n",
       "                         phylum  \n",
       "0    unclassified Bacteria;None  \n",
       "1    unclassified Bacteria;None  \n",
       "2    unclassified Bacteria;None  \n",
       "3  Cyanobacteriota;Cyanophyceae  \n",
       "4  Cyanobacteriota;Cyanophyceae  "
      ]
     },
     "execution_count": 40,
     "metadata": {},
     "output_type": "execute_result"
    }
   ],
   "source": [
    "# add back in\n",
    "dmnd[\"scaffold\"] = dmnd[\"qseqid\"].apply(lambda x: \"_\".join(x.split(\"_\")[:-1]))\n",
    "dmnd[\"entry\"] = dmnd[\"sseqid\"].apply(lambda x: x.split(\"_\")[1])\n",
    "dmnd = dmnd.merge(uni[[\"entry\", \"phylum\"]], how=\"left\").fillna(\"None\")\n",
    "dmnd.head()"
   ]
  },
  {
   "cell_type": "markdown",
   "metadata": {},
   "source": [
    "### reconcile"
   ]
  },
  {
   "cell_type": "code",
   "execution_count": 26,
   "metadata": {},
   "outputs": [
    {
     "data": {
      "text/plain": [
       "5747"
      ]
     },
     "execution_count": 26,
     "metadata": {},
     "output_type": "execute_result"
    }
   ],
   "source": [
    "orf_counts = {}\n",
    "\n",
    "for record in sfp(open(adir + \"diamond/all_scaffold_proteins.faa\")):\n",
    "    scaf = \"_\".join(record[0].split(\" \")[0].split(\"_\")[:-1])\n",
    "    if scaf not in orf_counts:\n",
    "        orf_counts[scaf] = 1\n",
    "    else: orf_counts[scaf] +=1\n",
    "    \n",
    "len(orf_counts.keys())"
   ]
  },
  {
   "cell_type": "code",
   "execution_count": 27,
   "metadata": {},
   "outputs": [
    {
     "data": {
      "text/html": [
       "<div>\n",
       "<style scoped>\n",
       "    .dataframe tbody tr th:only-of-type {\n",
       "        vertical-align: middle;\n",
       "    }\n",
       "\n",
       "    .dataframe tbody tr th {\n",
       "        vertical-align: top;\n",
       "    }\n",
       "\n",
       "    .dataframe thead th {\n",
       "        text-align: right;\n",
       "    }\n",
       "</style>\n",
       "<table border=\"1\" class=\"dataframe\">\n",
       "  <thead>\n",
       "    <tr style=\"text-align: right;\">\n",
       "      <th></th>\n",
       "      <th>scaffold</th>\n",
       "      <th>prot_phylum_winner</th>\n",
       "      <th>prot_phylum_winner_perc</th>\n",
       "    </tr>\n",
       "  </thead>\n",
       "  <tbody>\n",
       "    <tr>\n",
       "      <th>5741</th>\n",
       "      <td>AB-746_K17_AB-902_NODE_385_length_285_cov_0.91...</td>\n",
       "      <td>Pseudomonadota;Gammaproteobacteria</td>\n",
       "      <td>1.0</td>\n",
       "    </tr>\n",
       "    <tr>\n",
       "      <th>5742</th>\n",
       "      <td>AB-747_D03_AB-902_NODE_602_length_208_cov_1.11...</td>\n",
       "      <td>Pseudomonadota;Gammaproteobacteria</td>\n",
       "      <td>1.0</td>\n",
       "    </tr>\n",
       "    <tr>\n",
       "      <th>5743</th>\n",
       "      <td>TARA_SAMEA2623295_METAG-scaffold_168437</td>\n",
       "      <td>Planctomycetota;Candidatus Brocadiia</td>\n",
       "      <td>1.0</td>\n",
       "    </tr>\n",
       "    <tr>\n",
       "      <th>5744</th>\n",
       "      <td>MARD_MMP02671383_SAGS-scaffold_187</td>\n",
       "      <td>Cyanobacteriota;Cyanophyceae</td>\n",
       "      <td>1.0</td>\n",
       "    </tr>\n",
       "    <tr>\n",
       "      <th>5745</th>\n",
       "      <td>AB-750_C07_AB-903_NODE_1237_length_210_cov_2.0...</td>\n",
       "      <td>None</td>\n",
       "      <td>1.0</td>\n",
       "    </tr>\n",
       "  </tbody>\n",
       "</table>\n",
       "</div>"
      ],
      "text/plain": [
       "                                               scaffold  \\\n",
       "5741  AB-746_K17_AB-902_NODE_385_length_285_cov_0.91...   \n",
       "5742  AB-747_D03_AB-902_NODE_602_length_208_cov_1.11...   \n",
       "5743            TARA_SAMEA2623295_METAG-scaffold_168437   \n",
       "5744                 MARD_MMP02671383_SAGS-scaffold_187   \n",
       "5745  AB-750_C07_AB-903_NODE_1237_length_210_cov_2.0...   \n",
       "\n",
       "                        prot_phylum_winner  prot_phylum_winner_perc  \n",
       "5741    Pseudomonadota;Gammaproteobacteria                      1.0  \n",
       "5742    Pseudomonadota;Gammaproteobacteria                      1.0  \n",
       "5743  Planctomycetota;Candidatus Brocadiia                      1.0  \n",
       "5744          Cyanobacteriota;Cyanophyceae                      1.0  \n",
       "5745                                  None                      1.0  "
      ]
     },
     "execution_count": 27,
     "metadata": {},
     "output_type": "execute_result"
    }
   ],
   "source": [
    "tax_info = defaultdict(list)\n",
    "\n",
    "for scaf in dmnd[\"scaffold\"].unique():\n",
    "    \n",
    "    subtable = dmnd[dmnd[\"scaffold\"]==scaf].groupby([\"scaffold\", \"phylum\",], \\\n",
    "        as_index=False).aggregate({\"qseqid\":\"count\"}).sort_values(\"qseqid\", ascending=False)\n",
    "    subtable[\"total_orfs\"] = orf_counts[subtable[\"scaffold\"].iloc[0]]\n",
    "    subtable[\"perc_orfs\"] = subtable.apply(lambda x: x[\"qseqid\"]/x[\"total_orfs\"], axis=1)\n",
    "    sorted_table = subtable.sort_values(\"perc_orfs\", ascending=False)\n",
    "    tax_info[\"scaffold\"].append(sorted_table[\"scaffold\"].iloc[0])\n",
    "    tax_info[\"prot_phylum_winner\"].append(sorted_table[\"phylum\"].iloc[0])\n",
    "    tax_info[\"prot_phylum_winner_perc\"].append(sorted_table[\"perc_orfs\"].iloc[0])\n",
    "\n",
    "tax_info_df = pd.DataFrame(tax_info)\n",
    "tax_info_df.tail()"
   ]
  },
  {
   "cell_type": "markdown",
   "metadata": {},
   "source": [
    "### curate"
   ]
  },
  {
   "cell_type": "code",
   "execution_count": 96,
   "metadata": {
    "collapsed": true
   },
   "outputs": [],
   "source": [
    "tmerge = tax_info_df\n",
    "\n",
    "tmp = {}\n",
    "for contig in glob.glob(adir + \"fasta/*\"):\n",
    "    for record in sfp(open(contig)):\n",
    "        tmp[record[0]]=len(record[1])\n",
    "tmerge[\"scaffold_len\"] = tmerge[\"scaffold\"].map(tmp)\n",
    "tmp = {}"
   ]
  },
  {
   "cell_type": "code",
   "execution_count": 97,
   "metadata": {},
   "outputs": [
    {
     "data": {
      "text/html": [
       "<div>\n",
       "<style scoped>\n",
       "    .dataframe tbody tr th:only-of-type {\n",
       "        vertical-align: middle;\n",
       "    }\n",
       "\n",
       "    .dataframe tbody tr th {\n",
       "        vertical-align: top;\n",
       "    }\n",
       "\n",
       "    .dataframe thead th {\n",
       "        text-align: right;\n",
       "    }\n",
       "</style>\n",
       "<table border=\"1\" class=\"dataframe\">\n",
       "  <thead>\n",
       "    <tr style=\"text-align: right;\">\n",
       "      <th></th>\n",
       "      <th>scaffold</th>\n",
       "      <th>prot_phylum_winner</th>\n",
       "      <th>prot_phylum_winner_perc</th>\n",
       "      <th>scaffold_len</th>\n",
       "      <th>bin</th>\n",
       "      <th>user_genome</th>\n",
       "      <th>classification</th>\n",
       "    </tr>\n",
       "  </thead>\n",
       "  <tbody>\n",
       "    <tr>\n",
       "      <th>0</th>\n",
       "      <td>MARD_MMP02436139_REFG-scaffold_1</td>\n",
       "      <td>Cyanobacteriota;Cyanophyceae</td>\n",
       "      <td>0.886944</td>\n",
       "      <td>2584918</td>\n",
       "      <td>MARD_SAMN02436139_REFG_MMP02436139</td>\n",
       "      <td>MARD_SAMN02436139_REFG_MMP02436139</td>\n",
       "      <td>d__Bacteria;p__Cyanobacteria;c__Cyanobacteriia...</td>\n",
       "    </tr>\n",
       "    <tr>\n",
       "      <th>1</th>\n",
       "      <td>MARD_MMP02261338_REFG-scaffold_1</td>\n",
       "      <td>None</td>\n",
       "      <td>0.916648</td>\n",
       "      <td>5066637</td>\n",
       "      <td>MARD_SAMN02261338_REFG_MMP02261338</td>\n",
       "      <td>MARD_SAMN02261338_REFG_MMP02261338</td>\n",
       "      <td>d__Bacteria;p__Cyanobacteria;c__Cyanobacteriia...</td>\n",
       "    </tr>\n",
       "    <tr>\n",
       "      <th>2</th>\n",
       "      <td>MARD_MMP02436142_REFG-scaffold_6</td>\n",
       "      <td>Pseudomonadota;Alphaproteobacteria</td>\n",
       "      <td>0.936694</td>\n",
       "      <td>2598952</td>\n",
       "      <td>MARD_SAMN02436142_REFG_MMP02436142</td>\n",
       "      <td>MARD_SAMN02436142_REFG_MMP02436142</td>\n",
       "      <td>d__Bacteria;p__Proteobacteria;c__Alphaproteoba...</td>\n",
       "    </tr>\n",
       "    <tr>\n",
       "      <th>3</th>\n",
       "      <td>OceanDNA-b22055_00001</td>\n",
       "      <td>Planctomycetota;Candidatus Brocadiia</td>\n",
       "      <td>0.960000</td>\n",
       "      <td>148688</td>\n",
       "      <td>OceanDNA-b22055</td>\n",
       "      <td>OceanDNA-b22055</td>\n",
       "      <td>d__Bacteria;p__Planctomycetota;c__Brocadiae;o_...</td>\n",
       "    </tr>\n",
       "    <tr>\n",
       "      <th>4</th>\n",
       "      <td>OceanDNA-b22057_00001</td>\n",
       "      <td>Planctomycetota;Candidatus Brocadiia</td>\n",
       "      <td>0.960000</td>\n",
       "      <td>150137</td>\n",
       "      <td>OceanDNA-b22057</td>\n",
       "      <td>OceanDNA-b22057</td>\n",
       "      <td>d__Bacteria;p__Planctomycetota;c__Brocadiae;o_...</td>\n",
       "    </tr>\n",
       "  </tbody>\n",
       "</table>\n",
       "</div>"
      ],
      "text/plain": [
       "                           scaffold                    prot_phylum_winner  \\\n",
       "0  MARD_MMP02436139_REFG-scaffold_1          Cyanobacteriota;Cyanophyceae   \n",
       "1  MARD_MMP02261338_REFG-scaffold_1                                  None   \n",
       "2  MARD_MMP02436142_REFG-scaffold_6    Pseudomonadota;Alphaproteobacteria   \n",
       "3             OceanDNA-b22055_00001  Planctomycetota;Candidatus Brocadiia   \n",
       "4             OceanDNA-b22057_00001  Planctomycetota;Candidatus Brocadiia   \n",
       "\n",
       "   prot_phylum_winner_perc  scaffold_len                                 bin  \\\n",
       "0                 0.886944       2584918  MARD_SAMN02436139_REFG_MMP02436139   \n",
       "1                 0.916648       5066637  MARD_SAMN02261338_REFG_MMP02261338   \n",
       "2                 0.936694       2598952  MARD_SAMN02436142_REFG_MMP02436142   \n",
       "3                 0.960000        148688                     OceanDNA-b22055   \n",
       "4                 0.960000        150137                     OceanDNA-b22057   \n",
       "\n",
       "                          user_genome  \\\n",
       "0  MARD_SAMN02436139_REFG_MMP02436139   \n",
       "1  MARD_SAMN02261338_REFG_MMP02261338   \n",
       "2  MARD_SAMN02436142_REFG_MMP02436142   \n",
       "3                     OceanDNA-b22055   \n",
       "4                     OceanDNA-b22057   \n",
       "\n",
       "                                      classification  \n",
       "0  d__Bacteria;p__Cyanobacteria;c__Cyanobacteriia...  \n",
       "1  d__Bacteria;p__Cyanobacteria;c__Cyanobacteriia...  \n",
       "2  d__Bacteria;p__Proteobacteria;c__Alphaproteoba...  \n",
       "3  d__Bacteria;p__Planctomycetota;c__Brocadiae;o_...  \n",
       "4  d__Bacteria;p__Planctomycetota;c__Brocadiae;o_...  "
      ]
     },
     "execution_count": 97,
     "metadata": {},
     "output_type": "execute_result"
    }
   ],
   "source": [
    "scaf2bin = {}\n",
    "\n",
    "for genome in glob.glob(rootdir + \"genomes/first_pass/*\"):\n",
    "    for record in sfp(open(genome)):\n",
    "        scaf2bin[record[0].split(\" \")[0]] = os.path.basename(genome).replace(\".fa\", \"\")\n",
    "\n",
    "tmerge[\"bin\"] = tmerge[\"scaffold\"].map(scaf2bin)\n",
    "tmerge = tmerge.merge(gtresults[[\"user_genome\", \"classification\"]], how=\"left\", left_on=\"bin\", right_on=\"user_genome\")\n",
    "tmerge.head()"
   ]
  },
  {
   "cell_type": "code",
   "execution_count": 98,
   "metadata": {
    "collapsed": true
   },
   "outputs": [],
   "source": [
    "# bring in genome clustering info\n",
    "cclust = pd.read_csv(rootdir + \"genomes/first_pass_drep/data_tables/Cdb.csv\")\n",
    "cclust[\"bin\"] = cclust[\"genome\"].apply(lambda x: x.replace(\".fa\", \"\"))\n",
    "# right merge to include only clustered/quality genomes from above - dont freak out!\n",
    "tmerge = tmerge.merge(cclust[[\"bin\", \"primary_cluster\",\"secondary_cluster\"]], how=\"right\", on=\"bin\")\n",
    "tmerge = tmerge[[\"scaffold\", \"scaffold_len\", \"primary_cluster\", \"secondary_cluster\", \\\n",
    "        \"prot_phylum_winner\", \"prot_phylum_winner_perc\", \"classification\"]].sort_values([\"primary_cluster\", \\\n",
    "        \"secondary_cluster\", \"scaffold_len\"], ascending=[True,True,False]).to_csv(adir + \"diamond/to_curate.csv\", index=False)"
   ]
  },
  {
   "cell_type": "code",
   "execution_count": 99,
   "metadata": {},
   "outputs": [
    {
     "data": {
      "text/html": [
       "<div>\n",
       "<style scoped>\n",
       "    .dataframe tbody tr th:only-of-type {\n",
       "        vertical-align: middle;\n",
       "    }\n",
       "\n",
       "    .dataframe tbody tr th {\n",
       "        vertical-align: top;\n",
       "    }\n",
       "\n",
       "    .dataframe thead th {\n",
       "        text-align: right;\n",
       "    }\n",
       "</style>\n",
       "<table border=\"1\" class=\"dataframe\">\n",
       "  <thead>\n",
       "    <tr style=\"text-align: right;\">\n",
       "      <th></th>\n",
       "      <th>scaffold</th>\n",
       "      <th>scaffold_len</th>\n",
       "      <th>primary_cluster</th>\n",
       "      <th>secondary_cluster</th>\n",
       "      <th>prot_phylum_winner</th>\n",
       "      <th>prot_phylum_winner_perc</th>\n",
       "      <th>classification</th>\n",
       "      <th>misbinned</th>\n",
       "    </tr>\n",
       "  </thead>\n",
       "  <tbody>\n",
       "    <tr>\n",
       "      <th>0</th>\n",
       "      <td>JASMDC010000008.1</td>\n",
       "      <td>111644</td>\n",
       "      <td>1</td>\n",
       "      <td>1_1</td>\n",
       "      <td>Candidatus Bathyarchaeota;None</td>\n",
       "      <td>0.044248</td>\n",
       "      <td>d__Archaea;p__SpSt-1190;c__SpSt-1190;o__;f__;g...</td>\n",
       "      <td>False</td>\n",
       "    </tr>\n",
       "    <tr>\n",
       "      <th>1</th>\n",
       "      <td>JASMIZ010000144.1</td>\n",
       "      <td>6555</td>\n",
       "      <td>1</td>\n",
       "      <td>1_1</td>\n",
       "      <td>Acidobacteriota;None</td>\n",
       "      <td>0.250000</td>\n",
       "      <td>d__Archaea;p__SpSt-1190;c__SpSt-1190;o__;f__;g...</td>\n",
       "      <td>True</td>\n",
       "    </tr>\n",
       "  </tbody>\n",
       "</table>\n",
       "</div>"
      ],
      "text/plain": [
       "            scaffold  scaffold_len  primary_cluster secondary_cluster  \\\n",
       "0  JASMDC010000008.1        111644                1               1_1   \n",
       "1  JASMIZ010000144.1          6555                1               1_1   \n",
       "\n",
       "               prot_phylum_winner  prot_phylum_winner_perc  \\\n",
       "0  Candidatus Bathyarchaeota;None                 0.044248   \n",
       "1            Acidobacteriota;None                 0.250000   \n",
       "\n",
       "                                      classification  misbinned  \n",
       "0  d__Archaea;p__SpSt-1190;c__SpSt-1190;o__;f__;g...      False  \n",
       "1  d__Archaea;p__SpSt-1190;c__SpSt-1190;o__;f__;g...       True  "
      ]
     },
     "execution_count": 99,
     "metadata": {},
     "output_type": "execute_result"
    }
   ],
   "source": [
    "# read in curated version\n",
    "curated = pd.read_csv(adir + \"diamond/curated.tsv\", sep=\"\\t\").fillna(False).replace(\"x\", True)\n",
    "curated.head(2)"
   ]
  },
  {
   "cell_type": "markdown",
   "metadata": {},
   "source": [
    "## make second pass set"
   ]
  },
  {
   "cell_type": "code",
   "execution_count": 122,
   "metadata": {
    "collapsed": true
   },
   "outputs": [],
   "source": [
    "cmdir(rootdir + \"genomes/second_pass\")\n",
    "cmdir(rootdir + \"genomes/second_pass_drep\")"
   ]
  },
  {
   "cell_type": "code",
   "execution_count": 123,
   "metadata": {},
   "outputs": [
    {
     "name": "stderr",
     "output_type": "stream",
     "text": [
      "/share/software/user/open/py-jupyter/1.0.0_py36/lib/python3.6/site-packages/ipykernel_launcher.py:3: SettingWithCopyWarning: \n",
      "A value is trying to be set on a copy of a slice from a DataFrame.\n",
      "Try using .loc[row_indexer,col_indexer] = value instead\n",
      "\n",
      "See the caveats in the documentation: https://pandas.pydata.org/pandas-docs/stable/user_guide/indexing.html#returning-a-view-versus-a-copy\n",
      "  This is separate from the ipykernel package so we can avoid doing imports until\n"
     ]
    },
    {
     "data": {
      "text/html": [
       "<div>\n",
       "<style scoped>\n",
       "    .dataframe tbody tr th:only-of-type {\n",
       "        vertical-align: middle;\n",
       "    }\n",
       "\n",
       "    .dataframe tbody tr th {\n",
       "        vertical-align: top;\n",
       "    }\n",
       "\n",
       "    .dataframe thead th {\n",
       "        text-align: right;\n",
       "    }\n",
       "</style>\n",
       "<table border=\"1\" class=\"dataframe\">\n",
       "  <thead>\n",
       "    <tr style=\"text-align: right;\">\n",
       "      <th></th>\n",
       "      <th>genome</th>\n",
       "      <th>protein</th>\n",
       "      <th>protein_len</th>\n",
       "      <th>protein_seq</th>\n",
       "      <th>gpath</th>\n",
       "      <th>scaffold</th>\n",
       "    </tr>\n",
       "  </thead>\n",
       "  <tbody>\n",
       "    <tr>\n",
       "      <th>0</th>\n",
       "      <td>OceanDNA-b43099</td>\n",
       "      <td>OceanDNA-b43099_00060_1753_4_38</td>\n",
       "      <td>478</td>\n",
       "      <td>AGRAIMAKKGYDAGVKEYRDTYWMPEYEPKDTDILACFKITPQPGV...</td>\n",
       "      <td>/scratch/users/ajaffe/deepeco/data/odna_redund...</td>\n",
       "      <td>OceanDNA-b43099_00060</td>\n",
       "    </tr>\n",
       "    <tr>\n",
       "      <th>13</th>\n",
       "      <td>OceanDNA-b43459</td>\n",
       "      <td>OceanDNA-b43459_00039_2973_3_74</td>\n",
       "      <td>464</td>\n",
       "      <td>KAVSLNQSSRYADLNLDEQTLMDEGRHILCAYRMKPKPGAGYLEGA...</td>\n",
       "      <td>/scratch/users/ajaffe/deepeco/data/odna_redund...</td>\n",
       "      <td>OceanDNA-b43459_00039</td>\n",
       "    </tr>\n",
       "    <tr>\n",
       "      <th>15</th>\n",
       "      <td>OceanDNA-b35742</td>\n",
       "      <td>OceanDNA-b35742_00039_3392_2_73</td>\n",
       "      <td>500</td>\n",
       "      <td>TSKRFTVNYTHPPLQFNALDERTHLEQIFFSPYRLNFQENGMDQSA...</td>\n",
       "      <td>/scratch/users/ajaffe/deepeco/data/odna_redund...</td>\n",
       "      <td>OceanDNA-b35742_00039</td>\n",
       "    </tr>\n",
       "    <tr>\n",
       "      <th>16</th>\n",
       "      <td>OceanDNA-b35742</td>\n",
       "      <td>OceanDNA-b35742_00388_705_3_27</td>\n",
       "      <td>403</td>\n",
       "      <td>SSPTKVQRTGWGYPTGKIFFILTDLNFLENGMDQSARYADLSLDED...</td>\n",
       "      <td>/scratch/users/ajaffe/deepeco/data/odna_redund...</td>\n",
       "      <td>OceanDNA-b35742_00388</td>\n",
       "    </tr>\n",
       "    <tr>\n",
       "      <th>20</th>\n",
       "      <td>OceanDNA-b16381</td>\n",
       "      <td>OceanDNA-b16381_00013_5941_1_86</td>\n",
       "      <td>305</td>\n",
       "      <td>QELSMAKKYDAGVKEYRDTYFTPDYVPLDTDLLACFKCTGQEGVPK...</td>\n",
       "      <td>/scratch/users/ajaffe/deepeco/data/odna_redund...</td>\n",
       "      <td>OceanDNA-b16381_00013</td>\n",
       "    </tr>\n",
       "  </tbody>\n",
       "</table>\n",
       "</div>"
      ],
      "text/plain": [
       "             genome                          protein  protein_len  \\\n",
       "0   OceanDNA-b43099  OceanDNA-b43099_00060_1753_4_38          478   \n",
       "13  OceanDNA-b43459  OceanDNA-b43459_00039_2973_3_74          464   \n",
       "15  OceanDNA-b35742  OceanDNA-b35742_00039_3392_2_73          500   \n",
       "16  OceanDNA-b35742   OceanDNA-b35742_00388_705_3_27          403   \n",
       "20  OceanDNA-b16381  OceanDNA-b16381_00013_5941_1_86          305   \n",
       "\n",
       "                                          protein_seq  \\\n",
       "0   AGRAIMAKKGYDAGVKEYRDTYWMPEYEPKDTDILACFKITPQPGV...   \n",
       "13  KAVSLNQSSRYADLNLDEQTLMDEGRHILCAYRMKPKPGAGYLEGA...   \n",
       "15  TSKRFTVNYTHPPLQFNALDERTHLEQIFFSPYRLNFQENGMDQSA...   \n",
       "16  SSPTKVQRTGWGYPTGKIFFILTDLNFLENGMDQSARYADLSLDED...   \n",
       "20  QELSMAKKYDAGVKEYRDTYFTPDYVPLDTDLLACFKCTGQEGVPK...   \n",
       "\n",
       "                                                gpath               scaffold  \n",
       "0   /scratch/users/ajaffe/deepeco/data/odna_redund...  OceanDNA-b43099_00060  \n",
       "13  /scratch/users/ajaffe/deepeco/data/odna_redund...  OceanDNA-b43459_00039  \n",
       "15  /scratch/users/ajaffe/deepeco/data/odna_redund...  OceanDNA-b35742_00039  \n",
       "16  /scratch/users/ajaffe/deepeco/data/odna_redund...  OceanDNA-b35742_00388  \n",
       "20  /scratch/users/ajaffe/deepeco/data/odna_redund...  OceanDNA-b16381_00013  "
      ]
     },
     "execution_count": 123,
     "metadata": {},
     "output_type": "execute_result"
    }
   ],
   "source": [
    "# filter based on genome quality, misbinning status, and scaffold length\n",
    "scaffolds_to_retain = curated.query(\"misbinned==False\").query(\"scaffold_len>=1500\")[\"scaffold\"].to_list()\n",
    "rub_df_filtered[\"scaffold\"] = rub_df_filtered[\"protein\"].apply(lambda x: \"_\".join(x.split(\"_\")[:-3]))\n",
    "rub_df_refiltered = rub_df_filtered[rub_df_filtered[\"scaffold\"].isin(scaffolds_to_retain)]\n",
    "rub_df_refiltered.head()"
   ]
  },
  {
   "cell_type": "code",
   "execution_count": 127,
   "metadata": {
    "collapsed": true
   },
   "outputs": [],
   "source": [
    "for key, row in rub_df_refiltered.iterrows():\n",
    "    \n",
    "    with open(rootdir + \"genomes/second_pass/\" + row[\"genome\"] + \".fa\", \"w\") as out:\n",
    "        \n",
    "        if \".gz\" in row[\"gpath\"]:\n",
    "            with gzip.open(row[\"gpath\"], \"rt\") as handle:\n",
    "                for record in sfp(handle):\n",
    "                    out.write(\">%s\\n%s\\n\" %(record[0], str(record[1])))\n",
    "        else:\n",
    "            for record in sfp(open(row[\"gpath\"])):\n",
    "                out.write(\">%s\\n%s\\n\" %(record[0], str(record[1])))  "
   ]
  },
  {
   "cell_type": "code",
   "execution_count": 129,
   "metadata": {
    "collapsed": true
   },
   "outputs": [],
   "source": [
    "existing_quality = pd.read_csv(rootdir + \"genomes/first_pass_drep/genomeInformation.csv\")\n",
    "new_quality = existing_quality[existing_quality[\"genome\"].isin([os.path.basename(item) \\\n",
    "                for item in glob.glob(rootdir + \"genomes/second_pass/*\")])]\n",
    "new_quality.to_csv(rootdir + \"genomes/second_pass_drep/genomeInformation.csv\", index=False)"
   ]
  },
  {
   "cell_type": "code",
   "execution_count": 131,
   "metadata": {},
   "outputs": [
    {
     "name": "stdout",
     "output_type": "stream",
     "text": [
      "sbatch -J drep -p serc -t 1- -c 20 --mem 160G --wrap 'dRep dereplicate /scratch/users/ajaffe/deepeco//genomes/second_pass_drep/ -sa 0.95 -p 20 -comp 50 -con 10 -d -g /scratch/users/ajaffe/deepeco//genomes/second_pass/*fa --genomeInfo /scratch/users/ajaffe/deepeco/genomes/second_pass_drep/genomeInformation.csv'\n"
     ]
    }
   ],
   "source": [
    "call = \"dRep dereplicate %s -sa 0.95 -p 20 -comp 50 -con 10 -d -g %s --genomeInfo %s\" %(rootdir + \\\n",
    "    \"/genomes/second_pass_drep/\", rootdir + \"/genomes/second_pass/*fa\",rootdir + \"genomes/second_pass_drep/genomeInformation.csv\")\n",
    "cmd = sbatch(\"drep\", 20, call)\n",
    "print(cmd)"
   ]
  },
  {
   "cell_type": "markdown",
   "metadata": {},
   "source": [
    "## compile and export"
   ]
  },
  {
   "cell_type": "code",
   "execution_count": 7,
   "metadata": {
    "collapsed": true,
    "jupyter": {
     "outputs_hidden": true
    }
   },
   "outputs": [],
   "source": [
    "cmdir(rootdir + \"/tables\")"
   ]
  },
  {
   "cell_type": "code",
   "execution_count": 20,
   "metadata": {},
   "outputs": [
    {
     "data": {
      "text/html": [
       "<div>\n",
       "<style scoped>\n",
       "    .dataframe tbody tr th:only-of-type {\n",
       "        vertical-align: middle;\n",
       "    }\n",
       "\n",
       "    .dataframe tbody tr th {\n",
       "        vertical-align: top;\n",
       "    }\n",
       "\n",
       "    .dataframe thead th {\n",
       "        text-align: right;\n",
       "    }\n",
       "</style>\n",
       "<table border=\"1\" class=\"dataframe\">\n",
       "  <thead>\n",
       "    <tr style=\"text-align: right;\">\n",
       "      <th></th>\n",
       "      <th>user_genome</th>\n",
       "      <th>primary_cluster</th>\n",
       "      <th>secondary_cluster</th>\n",
       "      <th>representative</th>\n",
       "    </tr>\n",
       "  </thead>\n",
       "  <tbody>\n",
       "    <tr>\n",
       "      <th>0</th>\n",
       "      <td>OceanDNA-b21631</td>\n",
       "      <td>1</td>\n",
       "      <td>1_0</td>\n",
       "      <td>True</td>\n",
       "    </tr>\n",
       "    <tr>\n",
       "      <th>1</th>\n",
       "      <td>TARA_SAMEA2619970_METAG_OGBJMBMB</td>\n",
       "      <td>2</td>\n",
       "      <td>2_0</td>\n",
       "      <td>True</td>\n",
       "    </tr>\n",
       "    <tr>\n",
       "      <th>2</th>\n",
       "      <td>OceanDNA-b21628</td>\n",
       "      <td>3</td>\n",
       "      <td>3_0</td>\n",
       "      <td>True</td>\n",
       "    </tr>\n",
       "    <tr>\n",
       "      <th>3</th>\n",
       "      <td>OceanDNA-b26756</td>\n",
       "      <td>4</td>\n",
       "      <td>4_1</td>\n",
       "      <td>False</td>\n",
       "    </tr>\n",
       "    <tr>\n",
       "      <th>4</th>\n",
       "      <td>TARA_SAMEA4397330_METAG_GFBBFFPE</td>\n",
       "      <td>4</td>\n",
       "      <td>4_1</td>\n",
       "      <td>True</td>\n",
       "    </tr>\n",
       "  </tbody>\n",
       "</table>\n",
       "</div>"
      ],
      "text/plain": [
       "                        user_genome  primary_cluster secondary_cluster  \\\n",
       "0                   OceanDNA-b21631                1               1_0   \n",
       "1  TARA_SAMEA2619970_METAG_OGBJMBMB                2               2_0   \n",
       "2                   OceanDNA-b21628                3               3_0   \n",
       "3                   OceanDNA-b26756                4               4_1   \n",
       "4  TARA_SAMEA4397330_METAG_GFBBFFPE                4               4_1   \n",
       "\n",
       "   representative  \n",
       "0            True  \n",
       "1            True  \n",
       "2            True  \n",
       "3           False  \n",
       "4            True  "
      ]
     },
     "execution_count": 20,
     "metadata": {},
     "output_type": "execute_result"
    }
   ],
   "source": [
    "cdb = pd.read_csv(rootdir + \"genomes/second_pass_drep/data_tables/Cdb.csv\")\n",
    "cdb[\"user_genome\"] = cdb[\"genome\"].apply(lambda x: x.replace(\".fa\", \"\"))\n",
    "cdb[\"representative\"] = cdb[\"genome\"].apply(lambda x: x in \\\n",
    "    [os.path.basename(item) for item in glob.glob(rootdir + \"genomes/second_pass_drep/dereplicated_genomes/*\")])\n",
    "cdb = cdb[[\"user_genome\", \"primary_cluster\", \"secondary_cluster\", \"representative\"]]\n",
    "cdb.head(5)"
   ]
  },
  {
   "cell_type": "code",
   "execution_count": 21,
   "metadata": {},
   "outputs": [
    {
     "data": {
      "text/html": [
       "<div>\n",
       "<style scoped>\n",
       "    .dataframe tbody tr th:only-of-type {\n",
       "        vertical-align: middle;\n",
       "    }\n",
       "\n",
       "    .dataframe tbody tr th {\n",
       "        vertical-align: top;\n",
       "    }\n",
       "\n",
       "    .dataframe thead th {\n",
       "        text-align: right;\n",
       "    }\n",
       "</style>\n",
       "<table border=\"1\" class=\"dataframe\">\n",
       "  <thead>\n",
       "    <tr style=\"text-align: right;\">\n",
       "      <th></th>\n",
       "      <th>genome</th>\n",
       "      <th>classification</th>\n",
       "      <th>checkm_completeness</th>\n",
       "      <th>checkm_redundancy</th>\n",
       "      <th>primary_cluster</th>\n",
       "      <th>secondary_cluster</th>\n",
       "      <th>representative</th>\n",
       "    </tr>\n",
       "  </thead>\n",
       "  <tbody>\n",
       "    <tr>\n",
       "      <th>0</th>\n",
       "      <td>OceanDNA-b21631</td>\n",
       "      <td>d__Bacteria;p__Patescibacteria;c__Gracilibacte...</td>\n",
       "      <td>82.99</td>\n",
       "      <td>2.48</td>\n",
       "      <td>1</td>\n",
       "      <td>1_0</td>\n",
       "      <td>True</td>\n",
       "    </tr>\n",
       "    <tr>\n",
       "      <th>1</th>\n",
       "      <td>TARA_SAMEA2619970_METAG_OGBJMBMB</td>\n",
       "      <td>d__Bacteria;p__Patescibacteria;c__Gracilibacte...</td>\n",
       "      <td>50.57</td>\n",
       "      <td>0.99</td>\n",
       "      <td>2</td>\n",
       "      <td>2_0</td>\n",
       "      <td>True</td>\n",
       "    </tr>\n",
       "    <tr>\n",
       "      <th>2</th>\n",
       "      <td>OceanDNA-b21628</td>\n",
       "      <td>d__Bacteria;p__Patescibacteria;c__Gracilibacte...</td>\n",
       "      <td>79.21</td>\n",
       "      <td>2.09</td>\n",
       "      <td>3</td>\n",
       "      <td>3_0</td>\n",
       "      <td>True</td>\n",
       "    </tr>\n",
       "    <tr>\n",
       "      <th>4</th>\n",
       "      <td>TARA_SAMEA4397330_METAG_GFBBFFPE</td>\n",
       "      <td>d__Bacteria;p__Proteobacteria;c__Alphaproteoba...</td>\n",
       "      <td>88.16</td>\n",
       "      <td>1.10</td>\n",
       "      <td>4</td>\n",
       "      <td>4_1</td>\n",
       "      <td>True</td>\n",
       "    </tr>\n",
       "    <tr>\n",
       "      <th>3</th>\n",
       "      <td>OceanDNA-b26756</td>\n",
       "      <td>d__Bacteria;p__Proteobacteria;c__Alphaproteoba...</td>\n",
       "      <td>73.75</td>\n",
       "      <td>1.47</td>\n",
       "      <td>4</td>\n",
       "      <td>4_1</td>\n",
       "      <td>False</td>\n",
       "    </tr>\n",
       "  </tbody>\n",
       "</table>\n",
       "</div>"
      ],
      "text/plain": [
       "                             genome  \\\n",
       "0                   OceanDNA-b21631   \n",
       "1  TARA_SAMEA2619970_METAG_OGBJMBMB   \n",
       "2                   OceanDNA-b21628   \n",
       "4  TARA_SAMEA4397330_METAG_GFBBFFPE   \n",
       "3                   OceanDNA-b26756   \n",
       "\n",
       "                                      classification  checkm_completeness  \\\n",
       "0  d__Bacteria;p__Patescibacteria;c__Gracilibacte...                82.99   \n",
       "1  d__Bacteria;p__Patescibacteria;c__Gracilibacte...                50.57   \n",
       "2  d__Bacteria;p__Patescibacteria;c__Gracilibacte...                79.21   \n",
       "4  d__Bacteria;p__Proteobacteria;c__Alphaproteoba...                88.16   \n",
       "3  d__Bacteria;p__Proteobacteria;c__Alphaproteoba...                73.75   \n",
       "\n",
       "   checkm_redundancy  primary_cluster secondary_cluster  representative  \n",
       "0               2.48                1               1_0            True  \n",
       "1               0.99                2               2_0            True  \n",
       "2               2.09                3               3_0            True  \n",
       "4               1.10                4               4_1            True  \n",
       "3               1.47                4               4_1           False  "
      ]
     },
     "execution_count": 21,
     "metadata": {},
     "output_type": "execute_result"
    }
   ],
   "source": [
    "base = gtresults[[\"user_genome\", \"classification\"]]\n",
    "base = base.merge(checkm_df, how=\"left\")\n",
    "base = base.merge(cdb, how=\"right\").sort_values([\"primary_cluster\", \"secondary_cluster\", \\\n",
    "            \"representative\"], ascending=[True,True,False]).rename(columns={\"user_genome\":\"genome\"}).fillna(\"not clustered\")\n",
    "base.to_csv(rootdir + \"tables/redundant_genome_info.tsv\", sep=\"\\t\", index=False)\n",
    "base.head(5)"
   ]
  },
  {
   "cell_type": "code",
   "execution_count": 24,
   "metadata": {},
   "outputs": [
    {
     "name": "stdout",
     "output_type": "stream",
     "text": [
      "rclone copy /scratch/users/ajaffe/deepeco/tables/redundant_genome_info.tsv drive:deepeco/tables --progress\n"
     ]
    }
   ],
   "source": [
    "cmd = \"rclone copy /scratch/users/ajaffe/deepeco/tables/redundant_genome_info.tsv drive:deepeco/tables --progress\"\n",
    "print(cmd)"
   ]
  }
 ],
 "metadata": {
  "kernelspec": {
   "display_name": "Python 3 (ipykernel)",
   "language": "python",
   "name": "python3"
  },
  "language_info": {
   "codemirror_mode": {
    "name": "ipython",
    "version": 3
   },
   "file_extension": ".py",
   "mimetype": "text/x-python",
   "name": "python",
   "nbconvert_exporter": "python",
   "pygments_lexer": "ipython3",
   "version": "3.9.0"
  }
 },
 "nbformat": 4,
 "nbformat_minor": 4
}
